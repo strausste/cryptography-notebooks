{
 "cells": [
  {
   "cell_type": "markdown",
   "id": "b976fa35-c40c-4994-9b67-77bf6485b0b5",
   "metadata": {},
   "source": [
    "# Perfect indistinguishability\n",
    "\n",
    "Caratterizzazione alternativa (ma equivalente) della perfect secrecy.\n",
    "\n",
    "\n",
    "## Esperimento di indistinguishability\n",
    "\n",
    "PrivK<sup>eav</sup><sub>M,π</sub>\n",
    "\n",
    "PrivK $\\rightarrow$ crittografia chiave privata \\\n",
    "π $\\rightarrow$ nome del cifrario $\\rightarrow$ π = (Gen, E, D) \\\n",
    "eav $\\rightarrow$ eavesdropper $\\rightarrow$ attaccante più debole (può soltanto guardare il canale pubblico)\\\n",
    "M $\\rightarrow$ Mallory, attaccante\n",
    "\n",
    "1. M $\\rightarrow$ A : x<sub>0</sub>, x<sub>1</sub> &emsp; <i>attaccante M invia due plaintext ad A</i>\n",
    "2. A : k $\\leftarrow$ Gen() &emsp; <i>A genera una chiave con l'algoritmo Gen() $\\in$ π</i> \\\n",
    "    &emsp; b $\\leftarrow$ {0, 1} &emsp; <i>A genera un bit <b>b</b> uniformemente random</i>\n",
    "3. A $\\rightarrow$ M : y $\\leftarrow$ E<sub>k</sub>(x<sub>b</sub>) &emsp; <i>A invia ad M un ciphertext ottenuto da uno dei 2 plaintext (scelto in base a <b>b</b>)</i>\n",
    "4. M : b' $\\leftarrow$ ... &emsp; <i>M vuole calcolare <b>b'</b> in modo che <b>b'=b</b> (vuole indovinare <b>b</b>)</i>\n",
    "\n",
    "L'esperimento ha successo (PrivK<sup>eav</sup><sub>M,π</sub> = 1) se <b>b'=b</b>\n",
    "\n",
    "### Cifrario perfectly indistinguishable\n",
    "\n",
    "π è <b>perfectly indistuinguishable</b> (e anche perfetto) se:\n",
    "\n",
    "$\\forall$ M : Pr(PrivK<sup>eav</sup><sub>M,π</sub> = 1) = 1/2 &emsp; <i><b>per ogni avversario</b> M , <b>la probabilità che l'esperimento abbia successo è 1/2</b> (anche il migliore avversario è costretto a tirare a indovinare come sua migliore strategia)</i>\n",
    "\n",
    "Qualunque M vuol dire anche l'avversario con HW illimitato e tempo illimitato (irrealistico)"
   ]
  },
  {
   "cell_type": "markdown",
   "id": "31f2b52d-5721-46a4-bbd8-6d7fc5492e2d",
   "metadata": {},
   "source": [
    "### Esercizio \n",
    "\n",
    "P = C = Z<sup>2</sup><sub>26</sub> &emsp; <i>due caratteri in Z<sub>26</sub></i>\\\n",
    "K = Z<sub>26</sub> &emsp;<i>chiave con un singolo carattere</i>\\\n",
    "Gen() : {k $\\leftarrow$ K} &emsp; <i>chiave uniformemente random</i>\n",
    "\n",
    "E<sub>k</sub> (x x') = (x + k)(x' + k) &emsp; <i>la stessa chiave viene utilizzata per cifrare caratteri diversi $\\rightarrow$ sicuramente non è un cifrario perfetto</i>\n",
    "\n",
    "1. M $\\rightarrow$ A : x<sub>0</sub>, x<sub>1</sub> &emsp; x<sub>0</sub> = 00 &emsp; x<sub>1</sub> = 01 &emsp; <i>M invia questi due messaggi ad A</i>\n",
    "2. A : k $\\leftarrow$ Gen() &emsp; b$\\leftarrow$ {0, 1} &emsp; <i>A genera il bit random <b>b</b></i>\n",
    "3. A $\\rightarrow$ M : y $\\leftarrow$ E<sub>k</sub>(x<sub>b</sub>) &emsp; y = zz' &emsp; <i>A fa l'encryption di un messaggio (scelto in base a <b>b</b>) che è composto da due caratteri z e z'</i>\n",
    "4. M : b' $\\leftarrow$ ... &emsp;<i>M deve indovinare <b>b</b></i>\n",
    "\n",
    "b' = {0 se z=z' ; 1 altrimenti} &emsp;<i>la sua strategia è: dire che è il messaggio 0 (caratteri uguali nel plaintext) se nel ciphertext ci sono i caratteri uguali, 1 altrimenti </i>\n",
    "\n",
    "Pr(PrivK<sup>eav</sup><sub>M,π</sub> = 1) = 1 &emsp; <i>con questa strategia, la probabilità di indovinare è 1 $\\rightarrow$ indovina sempre (passando quei messaggi)</i>\n",
    "\n",
    "Pr(PrivK<sup>eav</sup><sub>M,π</sub> = 1) &emsp;=&emsp; Pr(b'=0, b=0) + Pr(b'=1, b=1) &emsp;=&emsp; Pr(b'=0 | b=0) Pr(b=0) + Pr(b'=1 | b=1) Pr(b=1)\n",
    "\n",
    "= 1/2 Pr(b'=0 | b=0) + 1/2 Pr(b'=1 | b=1) &emsp;=&emsp; 1/2 1 + 1/2 1 = 1 $\\neq$ 1/2 $\\rightarrow$ il cifrario <b>non è</b> perfectly indistinguishable!"
   ]
  },
  {
   "cell_type": "markdown",
   "id": "8065ba33-9342-4113-8558-bf5b1b8833c2",
   "metadata": {
    "tags": []
   },
   "source": [
    "# Experiments\n",
    "\n",
    "<b>IMPORTANT:</b> The following code is based from this: https://github.com/bitbart/crypto-pub/"
   ]
  },
  {
   "cell_type": "markdown",
   "id": "2263b0ce-ba89-4628-bf30-db1aac87231e",
   "metadata": {
    "tags": []
   },
   "source": [
    "### Abstract:"
   ]
  },
  {
   "cell_type": "code",
   "execution_count": 2,
   "id": "fa7b2232-66db-4fce-b313-7567bd0f082e",
   "metadata": {
    "tags": []
   },
   "outputs": [],
   "source": [
    "import secrets\n",
    "from abc import ABC, abstractmethod\n",
    "\n",
    "def int_of_chr(n):\n",
    "    return ord(n)-ord('a')\n",
    "\n",
    "def chr_of_int(n):\n",
    "    return chr(n + ord('a'))\n",
    "\n",
    "# Abstract class:\n",
    "\n",
    "class Cipher(ABC):\n",
    "\n",
    "    @abstractmethod\n",
    "    def gen(self,n):\n",
    "        pass\n",
    "\n",
    "    @abstractmethod\n",
    "    def enc(self,x,k):\n",
    "        pass\n",
    "\n",
    "    @abstractmethod\n",
    "    def dec(self,y,k):\n",
    "        pass\n",
    "\n",
    "    @abstractmethod\n",
    "    def string_of_key(self,k):\n",
    "        pass\n",
    "\n",
    "    @abstractmethod\n",
    "    def key_of_string(self,s):\n",
    "        pass\n",
    "    \n",
    "    # Alice's operations in the perfect indistinguishability experiment:\n",
    "    def alice(self,x0,x1, print_key=True):\n",
    "        k = self.gen()                         # generate key\n",
    "        \n",
    "        if(print_key):\n",
    "            print(\"k = \" + ''.join(str(k)))\n",
    "       \n",
    "        b = secrets.choice([0,1])              # generate random bit\n",
    "        y = self.enc(x1 if b else x0,k)        # encrypt xb = x0 if b=0, x1 if b=1\n",
    "        return (b,y)\n",
    "\n",
    "    \n",
    "class Mallory(ABC):\n",
    "    \n",
    "    @abstractmethod\n",
    "    def plaintexts(): # the plaintexts the adversary chooses\n",
    "        pass\n",
    "    \n",
    "    @abstractmethod\n",
    "    def guess(y):     # Mallory's strategy guessing the bit\n",
    "        pass\n",
    "    \n",
    "    \n",
    "class Experiment():\n",
    "    \n",
    "    def __init__(self, pi, m, n):\n",
    "        self.pi = pi # cipher\n",
    "        self.m = m   # Mallory\n",
    "        self.n = n   # total number of experiments\n",
    "        self.s = 0   # number of experiments where Mallory was the winner\n",
    "        \n",
    "    def run(self, print_steps=True):\n",
    "        for i in range(self.n): \n",
    "            if(print_steps):\n",
    "                print(\"\\n\" + \"Experiment #\" + str(i+1))\n",
    "\n",
    "             # M -> A : x0, x1\n",
    "            (x0,x1) = self.m.plaintexts()\n",
    "            \n",
    "            if(print_steps):\n",
    "                print(\"x0 = \" + x0)\n",
    "                print(\"x1 = \" + x1)\n",
    "\n",
    "             # A -> M : y = Ek(x[b])\n",
    "            (b,y) = self.pi.alice(x0,x1, print_key=print_steps) # Alice generates the key, the random bit and performs the encryption\n",
    "           \n",
    "            if(print_steps):\n",
    "                print(\"b = \" + str(b))   \n",
    "                print(\"y = \" + y)\n",
    "\n",
    "             # M : bm   \n",
    "            bm = self.m.guess(y)\n",
    "            \n",
    "            if(print_steps):\n",
    "                print(\"bm = \" + str(bm))\n",
    "\n",
    "            if bm==b:\n",
    "                if(print_steps):\n",
    "                    print(\"PrivK = 1 (Mallory wins)\")\n",
    "                self.s = self.s+1\n",
    "            else:\n",
    "                if(print_steps):\n",
    "                    print(\"PrivK = 0 (Mallory loses)\")\n",
    "        \n",
    "        print(\"\\n\" + \"Percentage of success: \" + str(self.s*100./self.n))"
   ]
  },
  {
   "cell_type": "markdown",
   "id": "3dc0af7c-778d-4540-aa01-eb56dfccb32e",
   "metadata": {
    "tags": []
   },
   "source": [
    "### Uncipher:"
   ]
  },
  {
   "cell_type": "code",
   "execution_count": 3,
   "id": "9cdd58a8-b2be-4ffc-9aa0-8751a0e66c38",
   "metadata": {
    "tags": []
   },
   "outputs": [],
   "source": [
    "class Uncipher(Cipher):\n",
    "\n",
    "    def gen(self):\n",
    "        k = secrets.randbelow(26)\n",
    "        return k\n",
    "\n",
    "    def enc(self,x,k):\n",
    "        return x\n",
    "\n",
    "    def dec(self,y,k):\n",
    "        return y\n",
    "\n",
    "    def string_of_key(self,k):\n",
    "        return chr_of_int(k)\n",
    "\n",
    "    def key_of_string(self,s):\n",
    "        return int_of_chr(s)"
   ]
  },
  {
   "cell_type": "code",
   "execution_count": 4,
   "id": "b2cb8cb8-bd7d-4c02-995b-a3b76cf9d7e8",
   "metadata": {
    "tags": []
   },
   "outputs": [],
   "source": [
    "# Adversary for the Uncipher:\n",
    "\n",
    "class MalloryUncipher(Mallory):\n",
    "    \n",
    "    def plaintexts(self):\n",
    "        return (\"a\",\"b\")\n",
    "\n",
    "    def guess(self,y):\n",
    "        if y=='a':\n",
    "            bm = 0\n",
    "        else:\n",
    "            bm = 1\n",
    "\n",
    "        return bm"
   ]
  },
  {
   "cell_type": "code",
   "execution_count": 5,
   "id": "9e1c6e8a-4c8f-47da-824d-4f0f53b97f92",
   "metadata": {
    "tags": []
   },
   "outputs": [
    {
     "name": "stdout",
     "output_type": "stream",
     "text": [
      "\n",
      "Percentage of success: 100.0\n"
     ]
    }
   ],
   "source": [
    "# Privk-eav experiment with the Uncipher:\n",
    "\n",
    "pi = Uncipher()\n",
    "m = MalloryUncipher()\n",
    "\n",
    "experiment = Experiment(pi, m, 100) # 100 experiments\n",
    "\n",
    "experiment.run(print_steps=False)"
   ]
  },
  {
   "cell_type": "markdown",
   "id": "7c361ebd-190b-4a75-b74c-e3d8f66431e1",
   "metadata": {
    "tags": []
   },
   "source": [
    "### Shift cipher in ECB-mode (with uniform keys and plaintexts of arbitrary length):"
   ]
  },
  {
   "cell_type": "code",
   "execution_count": 6,
   "id": "8d672673-1c9e-404f-80b6-28b36922e3dc",
   "metadata": {
    "tags": []
   },
   "outputs": [],
   "source": [
    "# Similar to the one defined in 'shift.ipynb'\n",
    "\n",
    "class ShiftECB(Cipher):\n",
    "\n",
    "    def gen(self):\n",
    "        k = secrets.randbelow(26)\n",
    "        return k\n",
    "\n",
    "    def enc(self,x,k):\n",
    "        # Ek(x1 x2 x3 ... xn,k) = (x1+k)%26 (x2+k)%26 (x3+k)%26 ... (xn+k)%26\n",
    "        return  ''.join(map(lambda n : chr_of_int((int_of_chr(n) + k)%26), x))\n",
    "\n",
    "    def dec(self,y,k):\n",
    "        return  ''.join(map(lambda n : chr_of_int((int_of_chr(n) - k)%26), y))\n",
    "\n",
    "    def string_of_key(self,k):\n",
    "        return chr_of_int(k)\n",
    "\n",
    "    def key_of_string(self,s):\n",
    "        return int_of_chr(s)"
   ]
  },
  {
   "cell_type": "code",
   "execution_count": 7,
   "id": "5415f227-5fb4-4178-ad84-f8a25cb97a55",
   "metadata": {},
   "outputs": [],
   "source": [
    "# Adversary for the ShiftECB:\n",
    "\n",
    "class MalloryShiftECB(Mallory):\n",
    "    \n",
    "    def plaintexts(self):\n",
    "        return (\"aa\",\"ab\")\n",
    "\n",
    "    def guess(self,y):\n",
    "        if y[0]==y[1]:\n",
    "            bm = 0\n",
    "        else:\n",
    "            bm = 1\n",
    "        return bm"
   ]
  },
  {
   "cell_type": "code",
   "execution_count": 8,
   "id": "07fa54db-3906-4b3c-a6b7-9a4b6b1d244b",
   "metadata": {
    "tags": []
   },
   "outputs": [
    {
     "name": "stdout",
     "output_type": "stream",
     "text": [
      "\n",
      "Percentage of success: 100.0\n"
     ]
    }
   ],
   "source": [
    "# Privk-eav experiment with the ShiftECB:\n",
    "\n",
    "pi = ShiftECB()\n",
    "m = MalloryShiftECB()\n",
    "\n",
    "experiment = Experiment(pi, m, 100) # 100 experiments\n",
    "\n",
    "experiment.run(print_steps=False)"
   ]
  },
  {
   "cell_type": "markdown",
   "id": "881bc47e-5d56-4986-b12a-00f744e22c68",
   "metadata": {
    "tags": []
   },
   "source": [
    "### Shift cipher with non-uniform keys and plaintexts of length 1:"
   ]
  },
  {
   "cell_type": "code",
   "execution_count": 9,
   "id": "921e3598-e03d-4041-abbf-97719cad74e5",
   "metadata": {
    "tags": []
   },
   "outputs": [],
   "source": [
    "class Shift1Unbal(Cipher):\n",
    "\n",
    "    def gen(self):\n",
    "        a = secrets.choice([0,1])\n",
    "        \n",
    "        if a==0:\n",
    "            k=25\n",
    "        else:\n",
    "            k = secrets.randbelow(25)\n",
    "            \n",
    "        return k\n",
    "\n",
    "    def enc(self,x,k):\n",
    "        assert(len(x)==1),\"Plaintext must have length 1\"\n",
    "        return  ''.join(map(lambda n : chr_of_int((int_of_chr(n) + k)%26), x))\n",
    "\n",
    "    def dec(self,y,k):\n",
    "        assert(len(x)==1),\"Ciphertext must have length 1\"    \n",
    "        return  ''.join(map(lambda n : chr_of_int((int_of_chr(n) - k)%26), y))\n",
    "\n",
    "    def string_of_key(self,k):\n",
    "        return chr_of_int(k)\n",
    "\n",
    "    def key_of_string(self,s):\n",
    "        return int_of_chr(s)"
   ]
  },
  {
   "cell_type": "code",
   "execution_count": 10,
   "id": "3197d694-620d-4cad-86a9-b27295753488",
   "metadata": {
    "tags": []
   },
   "outputs": [],
   "source": [
    "# Adversary for the Shift1Unbal:\n",
    "\n",
    "class MalloryShift1Unbal(Mallory):\n",
    "    \n",
    "    def plaintexts(self):\n",
    "        return ('a','b')\n",
    "    \n",
    "    def guess(self,y):\n",
    "        if y=='z':   # if y=='z', M says the original message *probably* was 'a' (the message 0) because 25 is the most probable key\n",
    "            bm = 0\n",
    "        else:\n",
    "            bm = 1\n",
    "            \n",
    "        return bm"
   ]
  },
  {
   "cell_type": "code",
   "execution_count": 11,
   "id": "cc29e220-0463-46b0-b761-b581be523990",
   "metadata": {
    "tags": []
   },
   "outputs": [
    {
     "name": "stdout",
     "output_type": "stream",
     "text": [
      "\n",
      "Percentage of success: 71.0\n"
     ]
    }
   ],
   "source": [
    "# Privk-eav experiment with the ShiftECB:\n",
    "\n",
    "pi = Shift1Unbal()\n",
    "m = MalloryShift1Unbal()\n",
    "\n",
    "experiment = Experiment(pi, m, 100) # 100 experiments\n",
    "\n",
    "experiment.run(print_steps=False)"
   ]
  },
  {
   "cell_type": "markdown",
   "id": "be6e3b27-9424-469c-a894-d8b05c1b2f58",
   "metadata": {},
   "source": [
    "L'avversario non indovina sempre (100%) ma la probabilità che l'esperimento abbia successo è intorno al 75% che è comunque maggiore del 50% come richiede la definizione. \\\n",
    "Quindi il cifrario Shift1Unbal (Shift cipher su singolo carattere, ma con <b>chiavi non uniformi</b>) <b>non è perfectly indistinguishable</b> (e quindi neanche perfetto)."
   ]
  },
  {
   "cell_type": "markdown",
   "id": "39226dcc-00c6-40c4-913e-0e726cef9d65",
   "metadata": {},
   "source": [
    "## Shift cipher in OTP-mode for the first n chars, then uncipher"
   ]
  },
  {
   "cell_type": "code",
   "execution_count": 12,
   "id": "e824eb5e-238f-4912-ba7f-b4bf67062d8c",
   "metadata": {
    "tags": []
   },
   "outputs": [],
   "source": [
    "class ShiftLazyOTP(Cipher):\n",
    "    \n",
    "    def __init__(self, n):\n",
    "        assert(n>0),\"n must be greater than 0\"\n",
    "        self.n = n\n",
    "\n",
    "    def gen(self):  \n",
    "        k = []\n",
    "        for i in range(self.n): # a truly random key but for the first n characters\n",
    "            k.append(secrets.randbelow(26))\n",
    "        return k\n",
    "\n",
    "    def enc(self,x,k):\n",
    "        d = len(x) - len(k)\n",
    "        if d>0:   # padding\n",
    "            k = k + [0] * d\n",
    "        y = []\n",
    "        for i in range(len(x)):\n",
    "            y.append(chr_of_int((int_of_chr(x[i]) + k[i])%26))\n",
    "        y = ''.join(y)\n",
    "        return y\n",
    "   \n",
    "    def dec(self,y,k):\n",
    "        d = len(y) - len(k)\n",
    "        if d>0:   # padding\n",
    "            k = k + [0] * d\n",
    "        x = []\n",
    "        for i in range(len(y)):\n",
    "            x.append(chr_of_int((int_of_chr(y[i]) - k[i])%26))\n",
    "        x = ''.join(x)\n",
    "        return x\n",
    "\n",
    "    def string_of_key(self,k):\n",
    "        s = ''.join(map (lambda ki : chr_of_int(ki), k))\n",
    "        return s\n",
    "\n",
    "    def key_of_string(self,s):\n",
    "        # from string to list of int\n",
    "        l = list(filter(lambda i : (i in s and i!=\"\\n\"), s))\n",
    "        k = list(map(lambda ki : int_of_chr(ki), l))\n",
    "        return k"
   ]
  },
  {
   "cell_type": "code",
   "execution_count": 13,
   "id": "65ed7d83-c000-45ba-9a74-7afe5c59a291",
   "metadata": {
    "tags": []
   },
   "outputs": [],
   "source": [
    "# Adversary for the ShiftLazyOTP:\n",
    "\n",
    "class MalloryShiftLazyOTP(Mallory):\n",
    "    \n",
    "    def plaintexts(self):\n",
    "        return (\"aaaaaa\",\"aaaaab\")\n",
    "    \n",
    "    def guess(self,y):\n",
    "        if y[5]==\"a\": # M knows that after n characters, the encryption performs a Uncipher (Kerckhoffs' assumption) \n",
    "            bm = 0\n",
    "        else:\n",
    "            bm = 1\n",
    "            \n",
    "        return bm"
   ]
  },
  {
   "cell_type": "code",
   "execution_count": 14,
   "id": "4fe10e82-1354-4d0f-bb66-d12d81a6af88",
   "metadata": {
    "tags": []
   },
   "outputs": [
    {
     "name": "stdout",
     "output_type": "stream",
     "text": [
      "\n",
      "Percentage of success: 100.0\n"
     ]
    }
   ],
   "source": [
    "# Privk-eav experiment with the ShiftLazyOTP:\n",
    "\n",
    "pi = ShiftLazyOTP(5)\n",
    "m = MalloryShiftLazyOTP()\n",
    "\n",
    "experiment = Experiment(pi, m, 100) # 100 experiments\n",
    "\n",
    "experiment.run(print_steps=False)"
   ]
  },
  {
   "cell_type": "markdown",
   "id": "0355ab06-5df6-4114-89ad-53067edec95e",
   "metadata": {},
   "source": [
    "M con questi due plaintext indovina sempre, perchè sa <b>(per il principio di Kerckhoffs)</b> che dopo n caratteri l'encryption non lavora più in OTP-mode, ma dall'(n+1)-esimo carattere, lascia i successivi così come sono anche nel ciphertext (Uncipher): questo è il motivo per il quale nella sua guess(), l'avversario controlla il 6 carattere (in posizione 5): se è una a, come nel primo messaggio, allora il messaggio cifrato è proprio il primo; altrimenti è il messaggio con indice 1."
   ]
  },
  {
   "cell_type": "markdown",
   "id": "afe29a4b-4b15-4a0d-8648-087f088f8010",
   "metadata": {
    "tags": []
   },
   "source": [
    "## Vigenere cipher with non-uniform keys and plaintexts of length 2"
   ]
  },
  {
   "cell_type": "code",
   "execution_count": 15,
   "id": "ab7b7ac8-5862-45fe-9d5a-787ac9c22b3d",
   "metadata": {
    "tags": []
   },
   "outputs": [],
   "source": [
    "class Vigenere2Unbal(Cipher):\n",
    "    \n",
    "    def gen(self):\n",
    "        a = secrets.choice([0,1])\n",
    "        k0 = secrets.randbelow(26)      # first key's character truly random\n",
    "        if a==0:\n",
    "            k1 = k0                     # 50% chance of the second character being equal to the first one\n",
    "        else:\n",
    "            k1 = secrets.randbelow(26)  # 50% chance of the second character being truly random as the first one (OTP)\n",
    "        return [k0,k1]\n",
    "\n",
    "    def enc(self,x,k):\n",
    "        assert(len(x)==2 and len(k)==2)\n",
    "        y0 = ''.join(map(lambda n : chr_of_int((int_of_chr(n) + k[0])%26), x[0]))  # first key's character\n",
    "        y1 = ''.join(map(lambda n : chr_of_int((int_of_chr(n) + k[1])%26), x[1]))  # second key's character\n",
    "        return y0+y1\n",
    "\n",
    "    def dec(self,y,k):\n",
    "        assert(len(y)==2 and len(k)==2)\n",
    "        x0 = ''.join(map(lambda n : chr_of_int((int_of_chr(n) - k[0])%26), y[0]))\n",
    "        x1 = ''.join(map(lambda n : chr_of_int((int_of_chr(n) - k[1])%26), y[1]))\n",
    "        return x0+x1\n",
    "\n",
    "\n",
    "    def string_of_key(self,k):\n",
    "        s = ''.join(map (lambda ki : chr_of_int(ki), k))\n",
    "        return s\n",
    "\n",
    "    def key_of_string(self,s):\n",
    "        # from string to list of int\n",
    "        l = list(filter(lambda i : (i in s and i!=\"\\n\"), s))\n",
    "        k = list(map(lambda ki : int_of_chr(ki), l))\n",
    "        return k"
   ]
  },
  {
   "cell_type": "code",
   "execution_count": 16,
   "id": "bc5e6eae-9cc9-40a6-8e2c-cc83823d6ed9",
   "metadata": {
    "tags": []
   },
   "outputs": [],
   "source": [
    "# Adversary for the Vigenere2Unbal:\n",
    "\n",
    "class MalloryVigenere2Unbal(Mallory):\n",
    "    \n",
    "    def plaintexts(self):\n",
    "        return (\"aa\",\"ab\")\n",
    "    \n",
    "    def guess(self,y):\n",
    "        if y[0]==y[1]: \n",
    "            bm = 0\n",
    "        else:\n",
    "            bm = 1\n",
    "            \n",
    "        return bm"
   ]
  },
  {
   "cell_type": "code",
   "execution_count": 17,
   "id": "b4774a76-dda4-49b6-aa5a-627d4d7a37aa",
   "metadata": {
    "tags": []
   },
   "outputs": [
    {
     "name": "stdout",
     "output_type": "stream",
     "text": [
      "\n",
      "Percentage of success: 75.0\n"
     ]
    }
   ],
   "source": [
    "# Privk-eav experiment with the Vigenere2Unbal:\n",
    "\n",
    "pi = Vigenere2Unbal()\n",
    "m = MalloryVigenere2Unbal()\n",
    "\n",
    "experiment = Experiment(pi, m, 100) # 100 experiments\n",
    "\n",
    "experiment.run(print_steps=False)"
   ]
  },
  {
   "cell_type": "markdown",
   "id": "370e379c-8610-486e-b848-19acfa5c1cb2",
   "metadata": {},
   "source": [
    "Distribuzione delle chiavi non uniforme $\\rightarrow$ <b>non indistinguibile e quindi non perfetto</b>"
   ]
  },
  {
   "cell_type": "markdown",
   "id": "cacaa829-9331-4110-9f16-70eb7ed1fd32",
   "metadata": {},
   "source": [
    "## OTP"
   ]
  },
  {
   "cell_type": "code",
   "execution_count": 18,
   "id": "f2b0926c-c673-43e7-9c13-5ac6202f633d",
   "metadata": {
    "tags": []
   },
   "outputs": [],
   "source": [
    "from functools import reduce\n",
    "\n",
    "class OTP(Cipher):\n",
    "\n",
    "    def __init__(self, n):\n",
    "        self.n = n\n",
    "\n",
    "    def gen(self):\n",
    "        k = []\n",
    "        for i in range(self.n):\n",
    "            k.append(secrets.choice([0,1]))\n",
    "        return k\n",
    "\n",
    "    def enc(self,x,k):\n",
    "        assert (len(x)==self.n), \"Plaintext must have length \" + str(self.n)\n",
    "        assert (len(x)==len(k)), \"Plaintexts and key have different lengths\"\n",
    "        assert (reduce(lambda z, b: z and b in ['0','1'], x, True)), \"Plaintext not bitstring\"\n",
    "\n",
    "        y = reduce(lambda s, z : s + z, map(lambda xi, ki : str(int(xi) ^ ki), x, k), \"\")\n",
    "        return y\n",
    "\n",
    "    def dec(self,y,k):\n",
    "        assert (len(y)==self.n), \"Ciphertext must have length \" + str(self.n)\n",
    "        assert (len(y)==len(k)), \"Ciphertext and key have different lengths\"\n",
    "        assert (reduce(lambda z, b: z and b in ['0','1'], y, True)), \"Ciphertext not bitstring\"\n",
    "\n",
    "        x = reduce(lambda s, z : s + z, map(lambda yi, ki : str(int(yi) ^ ki), y, k), \"\") # concatenates the elements returned by the map (i.e. the XOR)\n",
    "        return x\n",
    "\n",
    "    def string_of_key(self,k):\n",
    "        s = ''.join(map (lambda ki : str(ki), k))\n",
    "        return s\n",
    "\n",
    "    def key_of_string(self,s):\n",
    "        # from string to list of chr\n",
    "        l = list(filter(lambda i : (i in s and i!=\"\\n\"), s))\n",
    "        # from list of chr to list of int\n",
    "        k = list(map(lambda ki : int(ki), l))\n",
    "        return k"
   ]
  },
  {
   "cell_type": "code",
   "execution_count": 19,
   "id": "6b81c477-4297-4e6d-9c99-87157128d2c0",
   "metadata": {
    "tags": []
   },
   "outputs": [],
   "source": [
    "import random\n",
    "\n",
    "class MalloryOTP(Mallory):\n",
    "    # An adversary that randomly says 0 or 1\n",
    "    \n",
    "    def plaintexts(self):\n",
    "        return (\"0000000\",\"0101010\")   # they don't matter against OTP: M can only randomly guess\n",
    "\n",
    "    def guess(self,y):\n",
    "        return random.randint(0,1)"
   ]
  },
  {
   "cell_type": "code",
   "execution_count": 20,
   "id": "36bb6ccd-d830-4a40-b6d9-9f430c214b73",
   "metadata": {
    "tags": []
   },
   "outputs": [
    {
     "name": "stdout",
     "output_type": "stream",
     "text": [
      "\n",
      "Percentage of success: 49.797\n"
     ]
    }
   ],
   "source": [
    "# Privk-eav experiment with the OTP:\n",
    "\n",
    "pi = OTP(7)\n",
    "m = MalloryOTP()\n",
    "\n",
    "experiment = Experiment(pi, m, 100000) # a lot of experiments\n",
    "\n",
    "experiment.run(print_steps=False)"
   ]
  },
  {
   "cell_type": "markdown",
   "id": "e26387ce-2514-4cdc-87f5-99b2d901e11b",
   "metadata": {},
   "source": [
    "As we increase the number of experiments, the probability tends to 50%"
   ]
  },
  {
   "cell_type": "markdown",
   "id": "bfbb34b6-2a12-4dd3-b407-3dbd0d70e1fb",
   "metadata": {},
   "source": [
    "## OTPlastXOR: OTP where the last bit of the key if the XOR of the previous bits"
   ]
  },
  {
   "cell_type": "code",
   "execution_count": 30,
   "id": "2e137fb5-7fdb-48b2-ab2e-1d99ba152468",
   "metadata": {
    "tags": []
   },
   "outputs": [],
   "source": [
    "class OTPlastXor(OTP):\n",
    "\n",
    "    def __init__(self, n):\n",
    "        assert(n>0),\"n must be greater than 0\"\n",
    "        self.n = n\n",
    "\n",
    "    def gen(self):\n",
    "        k = []\n",
    "        for i in range(self.n-1):\n",
    "            k.append(secrets.choice([0,1]))\n",
    "\n",
    "        lb = reduce(lambda z, y: z ^ y, k, 0)\n",
    "        k.append(lb)\n",
    "        return k\n",
    "    \n",
    "    # The only overwrite we want to do is on the key (the gen method). Since this cipher inherits from the OTP the other methods are the same from the upper class"
   ]
  },
  {
   "cell_type": "code",
   "execution_count": 36,
   "id": "1600e0e9-439e-4fc5-81da-9b9b96d41e47",
   "metadata": {
    "tags": []
   },
   "outputs": [],
   "source": [
    "# Adversary for OTPlastXor\n",
    "\n",
    "class MalloryOTPlastXor(Mallory):\n",
    "    \n",
    "    def plaintexts(self):\n",
    "        return (\"000\",\"001\")\n",
    "\n",
    "    def guess(self,y):\n",
    "        n = 0\n",
    "        for bi in y[:-1]:   # (Excluding the last bit)\n",
    "            n = n ^ int(bi) # The XOR of the previous bits in y\n",
    "            \n",
    "        if n==int(y[-1]):  # If the XOR of the previous bits is equal to the last bit of the ciphertext\n",
    "            bm = 0\n",
    "        else:\n",
    "            bm = 1\n",
    "        return bm"
   ]
  },
  {
   "cell_type": "code",
   "execution_count": 37,
   "id": "296559a1-20fb-4588-aebe-590f457d5ae7",
   "metadata": {
    "tags": []
   },
   "outputs": [
    {
     "name": "stdout",
     "output_type": "stream",
     "text": [
      "\n",
      "Percentage of success: 100.0\n"
     ]
    }
   ],
   "source": [
    "# Privk-eav experiment with the OTPlastXor:\n",
    "\n",
    "pi = OTPlastXor(3)\n",
    "m = MalloryOTPlastXor()\n",
    "\n",
    "experiment = Experiment(pi, m, 100)\n",
    "\n",
    "experiment.run(print_steps=False)"
   ]
  },
  {
   "cell_type": "markdown",
   "id": "5dfd1d2a-fd15-4ae7-8f1c-3fe6aa4489f7",
   "metadata": {},
   "source": [
    "L'avversario vince sempre: l'algoritmo gen() rivela troppe informazioni sul keystream: l'avversario infatti si limita a replicare la strategia sul ciphertext (controlla lo XOR dei bit precedenti all'ultimo: questo è in comune con la chiave: quello che cambia è l'ultimo bit che non è stato generato in maniera casuale, infatti è lo XOR del keystream, e mettendo nei plaintext 0 e 1 come ultimo bit può portare avanti la strategia vincente!).\\\n",
    "Ovviamente, questo cifrario non è <b>perfectly indistinguishable</b> anzi è proprio inutilizzabile."
   ]
  },
  {
   "cell_type": "markdown",
   "id": "e9a2feb1-183c-440c-9685-7a9a7090978b",
   "metadata": {},
   "source": [
    "## TwoTP: OTP where the last half of the key is the same as the first one (this one is obtained as OTP) "
   ]
  },
  {
   "cell_type": "code",
   "execution_count": 38,
   "id": "6e3c0572-076e-4e68-a740-3a2804af2402",
   "metadata": {
    "tags": []
   },
   "outputs": [],
   "source": [
    "class TwoTP(OTP):\n",
    "\n",
    "    def __init__(self, n):\n",
    "        assert(n%2==0),\"TwoTP: n must be even\"\n",
    "        self.n = n\n",
    "\n",
    "    def gen(self):\n",
    "        k = []\n",
    "        \n",
    "        for i in range(int(self.n/2)):\n",
    "            k.append(secrets.choice([0,1]))\n",
    "        \n",
    "        k = k + k    # !!!\n",
    "        \n",
    "        return k"
   ]
  },
  {
   "cell_type": "code",
   "execution_count": 67,
   "id": "bc564c1a-e66f-4595-a23a-1e4e76ec2b13",
   "metadata": {
    "tags": []
   },
   "outputs": [],
   "source": [
    "# Adversary for TwoTP\n",
    "\n",
    "class MalloryTwoTP(Mallory):\n",
    "    \n",
    "    def plaintexts(self):\n",
    "        return (\"0000\",\"0010\") # 0000 and 0011 works as well\n",
    "\n",
    "    def guess(self,y):\n",
    "        if y[0]==y[int(len(y)/2)]:   # Compares the first bit of the first part of the key and the first bit of the last part \n",
    "            bm = 0\n",
    "        else:\n",
    "            bm = 1\n",
    "        return bm"
   ]
  },
  {
   "cell_type": "code",
   "execution_count": 72,
   "id": "2f7646dd-2603-4301-85e2-53f63d012dd6",
   "metadata": {
    "tags": []
   },
   "outputs": [],
   "source": [
    "# Adversary for TwoTP\n",
    "\n",
    "class MalloryTwoTP(Mallory):\n",
    "    \n",
    "    def plaintexts(self):\n",
    "        return (\"0000\",\"0011\")\n",
    "\n",
    "    def guess(self,y):\n",
    "        if y[0]==y[int(len(y)/2)]:\n",
    "            bm = 0\n",
    "        else:\n",
    "            bm = 1\n",
    "        return bm"
   ]
  },
  {
   "cell_type": "code",
   "execution_count": 73,
   "id": "cf91192d-0548-4b31-be2d-73556916b176",
   "metadata": {
    "tags": []
   },
   "outputs": [
    {
     "name": "stdout",
     "output_type": "stream",
     "text": [
      "\n",
      "Percentage of success: 100.0\n"
     ]
    }
   ],
   "source": [
    "# Privk-eav experiment with the TwoTP:\n",
    "\n",
    "pi = TwoTP(4)\n",
    "m = MalloryTwoTP()\n",
    "\n",
    "experiment = Experiment(pi, m, 100)\n",
    "\n",
    "experiment.run(print_steps=False)"
   ]
  },
  {
   "cell_type": "markdown",
   "id": "5821d720-6392-4b77-bae0-0c85d1c674e2",
   "metadata": {},
   "source": [
    "Anche qui l'avversario vince sempre, rendendo questo cifrario assolutamente <b>non perfectly indistinguishable</b>.\\\n",
    "La strategia dell'avversario è mettere a 1 il bit a metà nei plaintext: dal momento che la chiave è ripetuta una seconda volta, la seconda metà di chiave che va a crifrare la seconda parte del ciphertext (dove appare 1 come terza posizione) renderà il corrispondente bit del ciphertext diverso dal primo bit.\\\n",
    "Altrimenti, se sono uguali, il messaggio è il primo, quello con tutti 0."
   ]
  },
  {
   "cell_type": "markdown",
   "id": "99db5a29-2223-49ee-b5be-85940e05a978",
   "metadata": {},
   "source": [
    "## Quasi-OTP: OTP ma non ammette la chiave dove tutti i bit sono 0"
   ]
  },
  {
   "cell_type": "code",
   "execution_count": 74,
   "id": "d2ccadba-1183-445a-9578-8c0841850bd1",
   "metadata": {
    "tags": []
   },
   "outputs": [],
   "source": [
    "class QuasiOTP(OTP):\n",
    "\n",
    "    def __init__(self, n):\n",
    "        self.n = n\n",
    "\n",
    "    def gen(self):\n",
    "        found = False\n",
    "        while not found:\n",
    "            k = []\n",
    "            for i in range(self.n):\n",
    "                k.append(secrets.choice([0,1]))\n",
    "            for bi in k:\n",
    "                if bi==1:\n",
    "                    found=True\n",
    "        return k"
   ]
  },
  {
   "cell_type": "code",
   "execution_count": 82,
   "id": "77bd3756-26af-4e71-8a4a-2af17073443f",
   "metadata": {
    "tags": []
   },
   "outputs": [],
   "source": [
    "# Adversary for QuasiOTP\n",
    "\n",
    "class MalloryQuasiOTP(Mallory):\n",
    "    \n",
    "    def plaintexts(self):\n",
    "        return (\"0000\",\"1111\")\n",
    "\n",
    "    def guess(self,y):\n",
    "        allZero = True          # allZero=True iff all bits in ciphertext are 0\n",
    "        for yi in y:\n",
    "            if int(yi)==1:\n",
    "                allZero = False\n",
    "\n",
    "        if allZero:\n",
    "            bm = 1\n",
    "        else:\n",
    "            bm = 0\n",
    "            \n",
    "        return bm"
   ]
  },
  {
   "cell_type": "code",
   "execution_count": 89,
   "id": "e1fb3272-aded-41d6-b7cd-a146cc89a1bb",
   "metadata": {
    "tags": []
   },
   "outputs": [
    {
     "name": "stdout",
     "output_type": "stream",
     "text": [
      "\n",
      "Percentage of success: 53.2861\n"
     ]
    }
   ],
   "source": [
    "# Privk-eav experiment with the Quasi-OTP:\n",
    "\n",
    "pi = QuasiOTP(4)\n",
    "m = MalloryQuasiOTP()\n",
    "\n",
    "experiment = Experiment(pi, m, 1000000)\n",
    "\n",
    "experiment.run(print_steps=False)"
   ]
  },
  {
   "cell_type": "markdown",
   "id": "cb9f3372-814a-4ffc-be02-b8e63766e75f",
   "metadata": {},
   "source": [
    "A prima vista sembrerebbe essere perfectly indistinguishable, <b>TUTTAVIA</b>, aumentando sensibilmente il numero di esperimenti, il cifrario sembra superare la soglia del 50%.\\\n",
    "Infatti, lo spazio delle chiavi è minore dello spazio dei plaintext (0000 non appare nelle chiavi, ma può apparire nel plaintext: l'avversario sta sfruttando questa possibilità per avere un qualche margine di probabilità di vincita in più. Quindi il Quasi-OTP <b>non è perfectly indistinguishable</b>."
   ]
  },
  {
   "cell_type": "code",
   "execution_count": null,
   "id": "6c7f3025-2311-42a1-84c7-5a16254e9a0b",
   "metadata": {},
   "outputs": [],
   "source": []
  }
 ],
 "metadata": {
  "kernelspec": {
   "display_name": "Python 3 (ipykernel)",
   "language": "python",
   "name": "python3"
  },
  "language_info": {
   "codemirror_mode": {
    "name": "ipython",
    "version": 3
   },
   "file_extension": ".py",
   "mimetype": "text/x-python",
   "name": "python",
   "nbconvert_exporter": "python",
   "pygments_lexer": "ipython3",
   "version": "3.10.6"
  }
 },
 "nbformat": 4,
 "nbformat_minor": 5
}
