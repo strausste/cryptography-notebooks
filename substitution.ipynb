{
 "cells": [
  {
   "cell_type": "markdown",
   "id": "43457966-f7dd-4821-8343-9e61ce0bc7f5",
   "metadata": {},
   "source": [
    "# Substitution cipher in ECB-mode"
   ]
  },
  {
   "cell_type": "markdown",
   "id": "21c0e3f4-4ab6-47dc-9b6f-3a0f4e383b05",
   "metadata": {},
   "source": [
    "P = C = Z<sub>26</sub> \n",
    "\n",
    "K = insieme di tutte le funzioni biiettive: Z<sub>26</sub> $\\rightarrow$ Z<sub>26</sub>\\\n",
    "σ $\\in$ K : <i> le chiavi sono funzioni di permutazione </i> \\\n",
    "E<sub>σ</sub>(x) = σ(x) <i> applico la funzione di permutazione </i>\\\n",
    "D<sub>σ</sub>(y) = σ<sup>-1</sup>(y) <i> applico la funzione di permutazione inversa </i>\n",
    "\n",
    "##### Esempio:\n",
    "σ(x): \\\n",
    "A $\\rightarrow$ M \\\n",
    "B $\\rightarrow$ X \\\n",
    "C $\\rightarrow$ B \\\n",
    "D $\\rightarrow$ Q \\\n",
    "E $\\rightarrow$ P \\\n",
    "F $\\rightarrow$ U \\\n",
    "...\\\n",
    "Z $\\rightarrow$ T \n",
    "\n",
    "σ è iniettiva: nel codominio (ciphertext) ci sono immagini distinte <i> non potrò mai avere che lettera del cipher corrisponde a più di una lettera del plaintext</i>\\\n",
    "σ è suriettiva: ogni elemento del codominio (ciphertext) è immagine di almeno un elemento del dominio (plaintext) \\\n",
    "σ è biiettiva: σ è sia suriettiva che iniettiva\n",
    "\n",
    "##### È perfetto? \n",
    "Se usassi il substitution cipher per cifrare un plaintext di un singolo carattere e \"buttassi\" la chiave, sì, <b>sarebbe</b> perfetto. \\\n",
    "Ricorda molto lo shift cipher utilizzato su un singolo carattere con chiave casuale. \\\n",
    "Infatti lo shift cipher è un caso particolare del substitution cipher con chiave σ che ha una struttura \"incrementale\".\n",
    "\n",
    "##### Utilizzato in ECB-mode:\n",
    "Questo cifrario utilizzato in ECB-mode, quindi per cifrare un carattere (o blocco di caratteri) con la <b> stessa chiave </b> degli altri caratteri (o blocco di caratteri), <b>non è assolutamente sicuro nè tanto meno perfetto</b>. Infatti questo cifrario viene utilizzato nei giochi della settimana enigmistica.\n",
    "\n",
    "Dimostriamo che non è perfetto: \\\n",
    "x = AA \\\n",
    "y = AB \\\n",
    "E<sub>σ</sub>(AA) = σ(A)σ(A) $\\neq$ AB \n",
    "\n",
    "È un problema che affligge tutti i cifrari <b>monoalfabetici</b>: <i>stesso carattere</i> di plaintext viene crifratto nello <i>stesso carattere</i> di ciphertext: infatti, <b>i cifrari monoalfabetici non sono perfetti</b>. \\\n",
    "Il cifrario di Vigenere è <i>polialfabetico</i>: lo stesso carattere può essere cifrato in modi diversi <i>infatti storicamente si è dimostrato davvero valido prima dell'arrivo dei calcolatori</i>. "
   ]
  },
  {
   "cell_type": "code",
   "execution_count": 64,
   "id": "603e3362-7f80-4f2d-beba-6d421cdaecd0",
   "metadata": {
    "tags": []
   },
   "outputs": [],
   "source": [
    "import random\n",
    "\n",
    "def gen_k():\n",
    "    alphabet = ['a', 'b', 'c', 'd', 'e', 'f', 'g', 'h', 'i', 'j', 'k', 'l', 'm', 'n', 'o', 'p', 'q', 'r', 's', 't', 'u', 'v', 'w', 'x', 'y', 'z']\n",
    "    \n",
    "    alphabet_random = alphabet[:] # copying a list by value (because the default is by reference) [source: https://stackoverflow.com/a/8744133]\n",
    "    random.shuffle(alphabet_random)\n",
    "    \n",
    "    k = {alphabet[i] : alphabet_random[i] for i in range(len(alphabet))}\n",
    "        \n",
    "    return k\n",
    "\n",
    "def encryption(x,k):\n",
    "    y = \"\"\n",
    "    \n",
    "    for p in x: \n",
    "        y+=k[p] # just apply the k permutation function\n",
    "    \n",
    "    return y\n",
    "\n",
    "def decryption(y,k):\n",
    "    # The decryption key has to be the inverted functions used in the encryption step \n",
    "    inv_k = {value : key for key,value in k.items()} # invert the keys with the values in the new dictionary\n",
    "    \n",
    "    x = \"\"\n",
    "    \n",
    "    for c in y:\n",
    "        x+=inv_k[c] # just apply the inv_k permutation function\n",
    "    \n",
    "    return x"
   ]
  },
  {
   "cell_type": "code",
   "execution_count": 65,
   "id": "89ef1940-c1f1-4fd5-973d-9c5db6d9cd8c",
   "metadata": {
    "tags": []
   },
   "outputs": [
    {
     "name": "stdout",
     "output_type": "stream",
     "text": [
      "Plaintext x:  ciaone\n",
      "Key k:     \n",
      " {'a': 'u', 'b': 'b', 'c': 'e', 'd': 'j', 'e': 'h', 'f': 'o', 'g': 'a', 'h': 'k', 'i': 'p', 'j': 's', 'k': 'g', 'l': 'w', 'm': 'x', 'n': 'c', 'o': 'f', 'p': 'm', 'q': 'l', 'r': 'd', 's': 'r', 't': 'z', 'u': 'y', 'v': 'n', 'w': 'v', 'x': 'q', 'y': 'i', 'z': 't'}\n",
      "Chipertext y: epufch\n",
      "Decrypted message: ciaone\n"
     ]
    }
   ],
   "source": [
    "x = 'ciaone'\n",
    "k = gen_k()\n",
    "y = encryption(x,k)\n",
    "\n",
    "print(\"Plaintext x:  %s\" % x)\n",
    "print(\"Key k:     \\n %s\" % k)\n",
    "print(\"Chipertext y: %s\" % y) \n",
    "\n",
    "decrypted_x = decryption(y,k)\n",
    "\n",
    "print(\"Decrypted message: %s\" % decrypted_x)"
   ]
  },
  {
   "cell_type": "markdown",
   "id": "b7b8e1df-06d8-4aa8-998c-02408f8264cc",
   "metadata": {},
   "source": [
    "#### Verifica condizione correttezza del cifrario"
   ]
  },
  {
   "cell_type": "code",
   "execution_count": 66,
   "id": "92f63b0f-1109-49b7-ad7e-a5608bc3b2fe",
   "metadata": {
    "tags": []
   },
   "outputs": [
    {
     "data": {
      "text/plain": [
       "True"
      ]
     },
     "execution_count": 66,
     "metadata": {},
     "output_type": "execute_result"
    }
   ],
   "source": [
    "decryption(encryption(x,k),k) == x"
   ]
  }
 ],
 "metadata": {
  "kernelspec": {
   "display_name": "Python 3 (ipykernel)",
   "language": "python",
   "name": "python3"
  },
  "language_info": {
   "codemirror_mode": {
    "name": "ipython",
    "version": 3
   },
   "file_extension": ".py",
   "mimetype": "text/x-python",
   "name": "python",
   "nbconvert_exporter": "python",
   "pygments_lexer": "ipython3",
   "version": "3.10.6"
  }
 },
 "nbformat": 4,
 "nbformat_minor": 5
}
