{
 "cells": [
  {
   "cell_type": "markdown",
   "id": "b26b2c2d-a378-4a60-a006-d0789297fc08",
   "metadata": {},
   "source": [
    "# Perfect secrecy:"
   ]
  },
  {
   "cell_type": "markdown",
   "id": "68669ddd-59ec-4f16-8a4b-3588f2bfbadc",
   "metadata": {},
   "source": [
    "Assumiamo che $\\forall$ k $\\in$ K . Pr(k) > 0 <i>ogni chiave abbia una probabilità non nulla</i>\\\n",
    "Assumiamo che K <i>l'insieme delle chiavi sia finito</i>\\\n",
    "Assumiamo che P <i>l'insieme dei plaintext sia finito oppure numerabile.</i> Se P è finito, allora |P|>1\\\n",
    "Assumiamo che $\\forall$ x $\\in$ P . Pr(x) > 0\n",
    "\n",
    "La distribuzione di probabilità delle chiavi dipende dall'algoritmo Gen().\\\n",
    "La distribuzione di probabilità dei plaintext dipende dai linguaggi naturali.\\\n",
    "La distribuzione di probabilità dei ciphertext dipende dal contesto, dalla probabilità di Gen() e dall'encryption."
   ]
  },
  {
   "cell_type": "markdown",
   "id": "d81a00eb-7f4c-4705-afde-9a158fbd2721",
   "metadata": {
    "tags": []
   },
   "source": [
    "### Esiste qualche y $\\in$ C tale che Pr(C=y) = 0? "
   ]
  },
  {
   "cell_type": "markdown",
   "id": "d598f791-7c0c-457e-872b-623e35496325",
   "metadata": {},
   "source": [
    "Questo è possibile quando $\\forall$x $\\forall$k . E<sub>k</sub>(x) $\\neq$ y\n",
    "\n",
    "Per avere Pr(C=y) > 0 per ogni y $\\in$ C restringiamo l'insieme dei ciphertext: \\\n",
    "C = {E<sub>k</sub>(x) | x $\\in$ P, k $\\in$ K}"
   ]
  },
  {
   "cell_type": "markdown",
   "id": "e352342d-0b26-43d2-aa1b-7e50dcf8ecac",
   "metadata": {
    "tags": []
   },
   "source": [
    "## Definizione:"
   ]
  },
  {
   "cell_type": "markdown",
   "id": "7a8b0f2d-a20f-4cda-9c9a-48066da236fb",
   "metadata": {},
   "source": [
    "Uno schema (Gen, E, D) di encryption con distribuzioni di probabilità K, P, C è perfetto <b>(perfectly secret)</b> se e solo se \n",
    "<i> $\\forall$ x $\\in$ P e $\\forall$ y $\\in$ C </i>:\n",
    "\n",
    "    Pr(x|y) = Pr(x) \n",
    "    "
   ]
  },
  {
   "cell_type": "markdown",
   "id": "c1510e7e-dbb3-413e-a73b-4d467754d33e",
   "metadata": {
    "tags": []
   },
   "source": [
    "### Esempio cifrario non perfetto: Shift cipher in ECB-mode con lunghezza 2:\n",
    "P = C = Z<sub>26</sub><sup>2</sup> \\\n",
    "K = Z<sub>26</sub> <i>la chiave è un singolo carattere e questo viene usato per ogni carattere del plaintext</i>\n",
    "\n",
    "Gen() {k &larr; K} <i>chiavi uniformemente distribuite</i>\\\n",
    "E<sub>k</sub>(x<sub>1</sub> x<sub>2</sub>) = (x<sub>1</sub>+k x<sub>2</sub>+k)\\\n",
    "D<sub>k</sub>(y<sub>1</sub> y<sub>2</sub>) = (y<sub>1</sub>-k y<sub>2</sub>-k)\n",
    "\n",
    "#### È perfetto (perfectly secret)?\n",
    "La congettura è che non sia perfetto. Dimostriamo allora che <b>non</b> è perfetto: \\\n",
    "La perfect secrecy dice: <i> $\\forall$ x $\\in$ P e $\\forall$ y $\\in$ C </i> : Pr(x|y) = Pr(x)\\\n",
    "La negazione della perfect secrecy è: $\\exists$ x $\\in$ P e $\\exists$ y $\\in$ C : Pr(x|y) $\\neq$ Pr(x)\n",
    "\n",
    "Abbiamo assunto Pr(x) > 0, quindi per trovare una Pr(x|y) che sicuramente sia diversa da Pr(x)>0, cerchiamo una Pr(x|y) = 0\n",
    "\n",
    "Prendiamo: \\\n",
    "x = (0, 0) \\\n",
    "È <b>impossibile</b> avere, <i> per esempio, </i> y = (0, 1) con x = (0, 0) visto che <b> la chiave è la stessa </b> per ogni carattere del plaintext.\\\n",
    "E<sub>k</sub>(x) = (0+k 0+k) = (k, k) $\\neq$ (0, 1) \\\n",
    "<b> $\\nexists$ k $\\in$ K : E<sub>k</sub>(x)=y </b> \\\n",
    "Abbiamo trovato x, y tali che Pr(x|y) $\\neq$ Pr(x) possiamo allora dire che il cifrario <b>non</b> è perfetto "
   ]
  },
  {
   "cell_type": "markdown",
   "id": "686b1120-3652-43aa-9554-df6ff2651f35",
   "metadata": {
    "tags": []
   },
   "source": [
    "### Esempio cifrario non perfetto: Shift cipher su singolo carattere, ma con lo spazio delle chiavi inferiore all'insieme dei plaintext\n",
    "\n",
    "P = C = Z<sub>16</sub> \\\n",
    "K = Z<sub>4</sub> \n",
    "\n",
    "Gen() {k &larr; K} <i>chiavi uniformemente distribuite</i>\\\n",
    "E<sub>k</sub>(x) = x+k \\\n",
    "D<sub>k</sub>(y) = y-k\n",
    "\n",
    "#### È perfetto (perfectly secret)?\n",
    "La congettura è che non sia perfetto: \\\n",
    "$\\exists$ x $\\in$ P e $\\exists$ y $\\in$ C : Pr(x|y) $\\neq$ Pr(x) \n",
    "\n",
    "Prendiamo: \\\n",
    "x = 0 \\\n",
    "y = A <i> oppure 10 in Z<sub>16</sub> </i>\\\n",
    "E<sub><b>K</b></sub>(x) = {E<sub>k</sub>(x) : k $\\in$ K} = {E<sub>0</sub>(x) E<sub>1</sub>(x) E<sub>2</sub>(x) E<sub>3</sub>(x)} <i>tutte le possibili encryption di x</i>\\\n",
    "E<sub><b>K</b></sub>(0) = {0 1 2 3} \\\n",
    "y = A $\\notin$ E<sub><b>K</b></sub>(0) = {0 1 2 3} \n",
    "\n",
    "Pr(x|y) = 0 $\\neq$ Pr(x) > 0 <i> quindi il cifrario <b>non</b> è perfetto </i> perchè lo spazio delle chiavi è più piccolo dell'insieme dei plaintext. Per essere perfetto dovrebbe avere lo spazio delle chiavi grande almeno quanto lo spazio dei plaintext <i>(condizione necessaria ma non sufficiente)</i>.\n",
    "\n",
    "\n"
   ]
  },
  {
   "cell_type": "markdown",
   "id": "8242a9c5-0a21-4ac7-94a5-9a54d6c335f4",
   "metadata": {
    "tags": []
   },
   "source": [
    "### Poteri dell'attaccante M:\n",
    "+ Ciphertext-only attack: \\\n",
    "    <b>M</b> conosce soltanto il ciphertext\n",
    "+ KPA: Known Plaintext Attack: \\\n",
    "    <b>M</b> conosce delle coppie x e y che sono state cifrate con chiave k (la chiave ovviamente non la conosce)\n",
    "+ CPA: Chosen Plaintext Attack: \\\n",
    "    <b>M</b> crea delle coppie (x,y). Ha accesso alla funzione di encryption E<sub>k</sub>(x) <i>(oracle access)</i>\n",
    "+ CCA: Chosen Ciphertext Attack: \\\n",
    "    <b>M</b> ora ha accesso anche alla funzione di decryption D<sub>k</sub>(y) <i>(oracle access)</i>"
   ]
  },
  {
   "cell_type": "markdown",
   "id": "dc50a1d1-3ec1-4fe6-aa3d-dc54c8142568",
   "metadata": {
    "tags": []
   },
   "source": [
    "#### Requisito minimo di sicurezza di un cifrario:\n",
    "Richiediamo che un cifrario sia almeno <b>CPA-sicuro</b> ovvero resistente ad attacchi di tipo CPA (Chosen Plaintext Attacks).\\\n",
    "Se l'encryption è un algoritmo deterministico e non probabilistico, il cifrario non può essere CPA-sicuro."
   ]
  },
  {
   "cell_type": "markdown",
   "id": "c8cec0a5-f9ff-45c7-84f8-4e87eaa4f0a5",
   "metadata": {},
   "source": [
    "## Teorema di Shannon\n",
    "\n",
    "Uno schema di encryption con |P| = |C| = |K| è perfetto sse:\n",
    "\n",
    "1. $\\forall$ x $\\in$ P &emsp; $\\forall$ y $\\in$ C &emsp; $\\exists$!k $\\in$ K : E<sub>k</sub>(x) = y  &emsp;<i><b>un'unica chiave</b> che dia quel ciphertext dato quel plaintext</i>\n",
    "2. $\\forall$ k $\\in$ K : Pr(k) = $\\frac{1}{|K|}$ &emsp;<i> chiavi uniformemente distribuite</i>"
   ]
  },
  {
   "cell_type": "code",
   "execution_count": null,
   "id": "95dbccce-f497-48be-b589-7623aa9c035e",
   "metadata": {},
   "outputs": [],
   "source": []
  }
 ],
 "metadata": {
  "kernelspec": {
   "display_name": "Python 3 (ipykernel)",
   "language": "python",
   "name": "python3"
  },
  "language_info": {
   "codemirror_mode": {
    "name": "ipython",
    "version": 3
   },
   "file_extension": ".py",
   "mimetype": "text/x-python",
   "name": "python",
   "nbconvert_exporter": "python",
   "pygments_lexer": "ipython3",
   "version": "3.10.6"
  }
 },
 "nbformat": 4,
 "nbformat_minor": 5
}
