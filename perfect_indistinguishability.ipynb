{
 "cells": [
  {
   "cell_type": "markdown",
   "id": "b976fa35-c40c-4994-9b67-77bf6485b0b5",
   "metadata": {},
   "source": [
    "# Perfect indistinguishability\n",
    "\n",
    "Caratterizzazione alternativa (ma equivalente) della perfect secrecy.\n",
    "\n",
    "\n",
    "## Esperimento di indistinguishability\n",
    "\n",
    "PrivK<sup>eav</sup><sub>M,π</sub>\n",
    "\n",
    "PrivK $\\rightarrow$ crittografia chiave privata \\\n",
    "π $\\rightarrow$ nome del cifrario $\\rightarrow$ π = (Gen, E, D) \\\n",
    "eav $\\rightarrow$ eavesdropper $\\rightarrow$ attaccante più debole (può soltanto guardare il canale pubblico)\\\n",
    "M $\\rightarrow$ Mallory, attaccante\n",
    "\n",
    "1. M $\\rightarrow$ A : x<sub>0</sub>, x<sub>1</sub> &emsp; <i>attaccante M invia due plaintext ad A</i>\n",
    "2. A : k $\\leftarrow$ Gen() &emsp; <i>A genera una chiave con l'algoritmo Gen() $\\in$ π</i> \\\n",
    "    &emsp; b $\\leftarrow$ {0, 1} &emsp; <i>A genera un bit <b>b</b> uniformemente random</i>\n",
    "3. A $\\rightarrow$ M : y $\\leftarrow$ E<sub>k</sub>(x<sub>b</sub>) &emsp; <i>A invia ad M un ciphertext ottenuto da uno dei 2 plaintext (scelto in base a <b>b</b>)</i>\n",
    "4. M : b' $\\leftarrow$ ... &emsp; <i>M vuole calcolare <b>b'</b> in modo che <b>b'=b</b> (vuole indovinare <b>b</b>)</i>\n",
    "\n",
    "L'esperimento ha successo (PrivK<sup>eav</sup><sub>M,π</sub> = 1) se <b>b'=b</b>\n",
    "\n",
    "### Cifrario perfectly indistinguishable\n",
    "\n",
    "π è <b>perfectly indistuinguishable</b> (e anche perfetto) se:\n",
    "\n",
    "$\\forall$ M : Pr(PrivK<sup>eav</sup><sub>M,π</sub> = 1) = 1/2 &emsp; <i><b>per ogni avversario</b> M , <b>la probabilità che l'esperimento abbia successo è 1/2</b> (anche il migliore avversario è costretto a tirare a indovinare come sua migliore strategia)</i>\n",
    "\n",
    "Qualunque M vuol dire anche l'avversario con HW illimitato e tempo illimitato (irrealistico)"
   ]
  },
  {
   "cell_type": "code",
   "execution_count": null,
   "id": "7a6742d9-062e-4d4c-beb6-a89177ac48d1",
   "metadata": {},
   "outputs": [],
   "source": []
  }
 ],
 "metadata": {
  "kernelspec": {
   "display_name": "Python 3 (ipykernel)",
   "language": "python",
   "name": "python3"
  },
  "language_info": {
   "codemirror_mode": {
    "name": "ipython",
    "version": 3
   },
   "file_extension": ".py",
   "mimetype": "text/x-python",
   "name": "python",
   "nbconvert_exporter": "python",
   "pygments_lexer": "ipython3",
   "version": "3.10.6"
  }
 },
 "nbformat": 4,
 "nbformat_minor": 5
}
