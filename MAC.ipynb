{
 "cells": [
  {
   "cell_type": "markdown",
   "id": "bdb8a07d-46f2-4e3c-b29a-9d87671e96f8",
   "metadata": {},
   "source": [
    "# Message Authentication Codes"
   ]
  },
  {
   "cell_type": "markdown",
   "id": "7125650c-4fbb-4f66-8d87-b69ab4b7715c",
   "metadata": {},
   "source": [
    "Finora ci siamo occupati dell'aspetto della <b>segretezza</b> di un messaggio.\\\n",
    "Sappiamo però che su un canale pubblico, $M$ può leggere i messaggi, ma anche eliminarli o modificarli.\\\n",
    "Ignoriamo il caso in cui $M$ elimini i messaggi e concentriamoci sull'aspetto legato all'<b>autenticità</b> dei messaggi.\n",
    "\n",
    "Garantire l'autenticità con le primitive di encryption per la sicurezza non va bene.\n",
    "\n",
    "Insieme al messaggio, inviamo un <b>authentication tag</b>.\n",
    "\n",
    "## Schema MAC:\n",
    "\n",
    "Tripla di algoritmi $PPTIME$:\n",
    "\n",
    "$Gen \\quad$ algoritmo <b>probabilistico</b> per generare le chiavi: prende in input dimensione chiave $1^n$ e restituisce chiave di dimensione $|k| \\geq n$\\\n",
    "$Mac \\quad$ algoritmo (può essere probabilistico o deterministico): prende in input la chiave $k$ e un messaggio $m \\in \\{0,1\\}^*$ e restituisce <b>tag</b> $t$\\\n",
    "$Vrfy \\quad$ algoritmo <b>deterministico</b> che prende in input $k$, $m$, $t$ e restituisce un bit $b \\in \\{0,1\\}$: 0 se $t$ <b>non</b> è il tag di $m$; 1 se $t$ è il <b>tag</b> di $m$\n",
    "\n",
    "$k \\leftarrow Gen(1^n)$\\\n",
    "$t \\leftarrow Mac_k(m)$\\\n",
    "$b := Vrfy_k(m,t)$\n",
    "\n",
    "### Condizione di correttezza di uno schema MAC:\n",
    "\n",
    "$\\forall k \\leftarrow Gen(1^n) \\ . \\ \\forall m \\in \\{0,1\\}^* \\quad Vrfy_k(m,Mac_k(m)) = 1$\n",
    "\n",
    "#### Verifica canonica (solo se Mac è deterministico):\n",
    "\n",
    "$Vrfy_k(m,t) \\ = \\ \\{ t' = Mac_k(m); \\ \\ (t'==t) \\ \\ ? \\ \\ 1 \\ \\ : \\ \\ 0\\}$\n",
    "\n",
    "Destinatario ricalcola lo stesso authentication tag (che è deterministico).\n",
    "\n",
    "## Attacco: forgery\n",
    "\n",
    "L'obiettivo dell'attaccante $M$ è quello di <b>falsificare</b> l'authentication tag.\\\n",
    "Supponiamo che $M$ conosca un insieme $Q$ di messaggi (supponiamo che li lui per avere un avversario più potente che ricorda la CPA-security: chosen message attack) e i relativi $y_i$ authentication tags.\\\n",
    "L'attacco ha successo se $M$ riesce a produrre una forgery <b>per nuovi messaggi</b> ($\\notin Q$) con <b>probabilità non negligible</b>.\\\n",
    "Una forgery è una coppia $(m,t) \\ . m \\notin Q$\n",
    "\n",
    "$M$ conosce $1^n$, la lunghezza della chiave, ma non dovrebbe conoscere la chiave (principio di Kerchoffs)\n",
    "\n",
    "## Esperimento message authentication:\n",
    "\n",
    "$MAC$-$forge_{M,π}(n)$:\n",
    "\n",
    "$1. \\ A: \\quad k \\leftarrow Gen(1^n)$\\\n",
    "$2. \\ M \\ \\ ha \\ \\ oracle \\ \\ access \\ \\ a \\ \\ Mac_k$:\\\n",
    "$M \\rightarrow A: \\quad Q = \\{m_1 \\ ... \\ m_q\\}$\\\n",
    "$A \\rightarrow M: \\quad \\{Mac_k(m) \\ | \\ m \\in Q \\}$\\\n",
    "$3. \\ M: \\ (m,t) \\quad$ <i>$M$ deve produrre una forgery</i>\n",
    "\n",
    "$MAC$-$forge_{M,π}(n)=1 \\ \\ se \\ \\ Vrfy_k(m,t)=1 \\ \\ and \\ \\ m \\notin Q$\n",
    "\n",
    "## $π$ is existentially unforgeable under adaptive chosen message attacks se:\n",
    "\n",
    "$\\forall M \\in PPTIME: \\quad Pr($MAC$-$forge$_{M,π}(n)=1) \\leq negl(n)$\n",
    "\n",
    "Existentially unforgeable $\\rightarrow$ non esiste neanche uno\\\n",
    "Chosen message attacks: è $M$ che passa $Q$ ad $A$ come oracle\n",
    "\n",
    "Non compare più un mezzo perchè non c'è più il bit random."
   ]
  },
  {
   "cell_type": "code",
   "execution_count": null,
   "id": "5ac45939-8be0-48fb-87fe-8ff8927e1ac5",
   "metadata": {},
   "outputs": [],
   "source": []
  }
 ],
 "metadata": {
  "kernelspec": {
   "display_name": "Python 3 (ipykernel)",
   "language": "python",
   "name": "python3"
  },
  "language_info": {
   "codemirror_mode": {
    "name": "ipython",
    "version": 3
   },
   "file_extension": ".py",
   "mimetype": "text/x-python",
   "name": "python",
   "nbconvert_exporter": "python",
   "pygments_lexer": "ipython3",
   "version": "3.10.6"
  }
 },
 "nbformat": 4,
 "nbformat_minor": 5
}
