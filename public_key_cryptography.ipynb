{
 "cells": [
  {
   "cell_type": "markdown",
   "id": "910ff34a-e38a-4892-ba81-f578080b39c9",
   "metadata": {},
   "source": [
    "## Key distribution:\n",
    "Nel contesto della crittografia a chiave simmetrica, $A$ e $B$ si scambiavano una <b>chiave precondivisa</b> su un costosissimo <b>canale privato</b>.\n",
    "\n",
    "Introduciamo una nuova entità $\\ T \\ $ nel setting della comunicazione tra i partecipanti ($A \\ $, $B \\ $, $M \\ $ e tutti gli altri possibili partecipanti). $\\ T$ è la <b>trusted authority</b> che ha il compito di <b>precondividere</b> una chiave con tutti i partecipanti:\n",
    "\n",
    "##### Esempio: $\\ A \\ $ vuole richiedere a $\\ T \\ $ una chiave ($k_{AB}$) per comunicare in maniera sicura con $\\ B \\ $:\n",
    "\n",
    "$T$ invia a $A$ la chiave $k_{AB}$ cifrata con la chiave ($k_{AT}$) <b>precondivisa</b> tra $A$ e $T$\n",
    "\n",
    "$A$ $\\Rightarrow_{voglio \\ k_{AB}}$ $T$\n",
    "\n",
    "$T$ $\\Rightarrow_{E_{k_{AT}}(k_{AB})}$ $A$\n",
    "\n",
    "#### Needham-Schroeder, 1978 (insicuro):\n",
    "\n",
    "Protocollo rivelatosi poi <b>insicuro</b> (attacco di <b>Denning-Sacco</b> del 1981, freshness attack: $M$ utilizza una vecchia chiave di una sessione precedente e $B$ la accetta)\n",
    "\n",
    "#### Bellare-Rogaway, 1995 (sicuro):\n",
    "\n",
    "Versione sicura del Needham-Schroeder basata su MAC\n",
    "\n",
    "Parametri inviati:\\\n",
    "$A$ è una sequenza <i>univoca</i> che identifica $A$\\\n",
    "$B$ è una sequenza <i>univoca</i> che identifica $B$\\\n",
    "$r_A$ è la <i>random challenge</i> che $A$ propone\\\n",
    "$r_B$ è la <i>random challenge</i> che $B$ propone\n",
    "\n",
    "$1. \\ A \\rightarrow B: \\quad A, \\ B, \\ r_a \\quad$ <i>$A$ invia a $B$ la proprià identità, quella di $B$ e la random challenge $r_a$</i>\\\n",
    "$2. \\ B \\rightarrow T: \\quad A, \\ B, \\ r_a, \\ r_b \\quad$ <i>$B$ fa lo stesso ma con $T$ e gli invia anche quello che $A$ gli aveva inviato</i>\\\n",
    "$3. \\ T \\rightarrow A: \\quad E_{k_{AT}}(k_{AB}), \\ MAC_{k{AT}}(B, \\ A, \\ r_A, \\ E_{k_{AT}}(k_{AB}))$\\\n",
    "$4. \\ T \\rightarrow B: \\quad E_{k_{BT}}(k_{AB}), \\ MAC_{k{BT}}(A, \\ B, \\ r_A, \\ E_{k_{BT}}(k_{AB}))$\n",
    "\n",
    "Nei passi $\\ 3 \\ $ e $\\ 4$, $\\ T \\ $ invia ai partecipanti la chiave $\\ k_{AB} \\ $ (cifrata) e un MAC per preservare l'autenticità della chiave cifrata. Il MAC è calcolato sulle identità di $A$ e $B$ e le rispettive random challenge oltre che ovviamente la chiave cifrata: $A$ e $B$ hanno tutti gli elementi per verificare il MAC.   \n",
    "\n",
    "Senza random challenge, il protocollo sarebbe vulnerabile agli attacchi di tipo freshness.\n",
    "\n",
    "## Svantaggi del protocollo:\n",
    "\n",
    "La presenza della trusted authority $T$: \n",
    "\n",
    "$T\\ $ (o anche KDC, key distribution center) è un <b>single point of failure</b>: se va giù $\\ T \\ $, va giù tutto il protocollo.\\\n",
    "In più, nella crittografia di massa non è fattibile questo approccio. \n",
    "\n"
   ]
  },
  {
   "cell_type": "markdown",
   "id": "484d4d7b-249a-441d-8441-04b314ae3559",
   "metadata": {},
   "source": [
    "# Crittografia asimmetrica (a chiave pubblica)"
   ]
  },
  {
   "cell_type": "code",
   "execution_count": null,
   "id": "e2983b43-42d0-4821-aa0f-b2130d952100",
   "metadata": {},
   "outputs": [],
   "source": []
  }
 ],
 "metadata": {
  "kernelspec": {
   "display_name": "Python 3 (ipykernel)",
   "language": "python",
   "name": "python3"
  },
  "language_info": {
   "codemirror_mode": {
    "name": "ipython",
    "version": 3
   },
   "file_extension": ".py",
   "mimetype": "text/x-python",
   "name": "python",
   "nbconvert_exporter": "python",
   "pygments_lexer": "ipython3",
   "version": "3.10.6"
  }
 },
 "nbformat": 4,
 "nbformat_minor": 5
}
