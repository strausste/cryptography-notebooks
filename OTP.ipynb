{
 "cells": [
  {
   "cell_type": "markdown",
   "id": "041bff25-1bc7-44c5-a404-3af48fbeafcf",
   "metadata": {},
   "source": [
    "# One-time pad"
   ]
  },
  {
   "cell_type": "markdown",
   "id": "a0e79c3e-8f07-4fca-9331-1e4464aef2a6",
   "metadata": {},
   "source": [
    "$P = C = K = Z_2 ^n$\n",
    "\n",
    "$E_k(x) = x ⊕ k$\\\n",
    "$D_k(y) = y ⊕ k$"
   ]
  },
  {
   "cell_type": "code",
   "execution_count": 3,
   "id": "9e6c1c1b-f7b0-49ab-a015-8bfdaae03a7c",
   "metadata": {
    "tags": []
   },
   "outputs": [],
   "source": [
    "import random\n",
    "\n",
    "def gen_rnd(n):\n",
    "    x = ''\n",
    "    for i in range(n):\n",
    "        x += str(random.randint(0,1))\n",
    "        \n",
    "    return x\n",
    "\n",
    "def xor(a,b):\n",
    "    if(len(a) != len(b)):\n",
    "        return 'Error: a and b must have the same length'\n",
    "    \n",
    "    result = ''\n",
    "    for i in range(len(a)): \n",
    "        if(a[i] == b[i]):\n",
    "            result += '0'\n",
    "        else: \n",
    "            result += '1'\n",
    "            \n",
    "    return result"
   ]
  },
  {
   "cell_type": "code",
   "execution_count": 6,
   "id": "21e80853-e750-48f5-b4ad-5d3249256055",
   "metadata": {
    "tags": []
   },
   "outputs": [
    {
     "name": "stdout",
     "output_type": "stream",
     "text": [
      "Plaintext x:  1010100111\n",
      "Key k:        0101101101\n"
     ]
    }
   ],
   "source": [
    "x = gen_rnd(10)\n",
    "k = gen_rnd(10)\n",
    "\n",
    "print(\"Plaintext x:  %s\" % x)\n",
    "print(\"Key k:        %s\" % k)"
   ]
  },
  {
   "cell_type": "code",
   "execution_count": 7,
   "id": "0dbc792d-cc5a-4d02-aea8-222a3837d3cf",
   "metadata": {
    "tags": []
   },
   "outputs": [],
   "source": [
    "def encryption(x,k):\n",
    "    return xor(x,k)\n",
    "\n",
    "def decryption(y,k):\n",
    "    return xor(y,k)"
   ]
  },
  {
   "cell_type": "code",
   "execution_count": 8,
   "id": "c4b2d3bf-f3e8-49db-9920-5022dcdc088f",
   "metadata": {
    "tags": []
   },
   "outputs": [
    {
     "name": "stdout",
     "output_type": "stream",
     "text": [
      "Ciphertext y: 1111001010\n"
     ]
    }
   ],
   "source": [
    "y = encryption(x,k)\n",
    "print(\"Ciphertext y: %s\" % y)"
   ]
  },
  {
   "cell_type": "code",
   "execution_count": 11,
   "id": "686ebc1e-6fe2-4bb8-a378-32dc812c68f2",
   "metadata": {
    "tags": []
   },
   "outputs": [
    {
     "name": "stdout",
     "output_type": "stream",
     "text": [
      "Plaintext x:  1010100111\n"
     ]
    },
    {
     "data": {
      "text/plain": [
       "True"
      ]
     },
     "execution_count": 11,
     "metadata": {},
     "output_type": "execute_result"
    }
   ],
   "source": [
    "decryption_result = decryption(y,k)\n",
    "\n",
    "print(\"Plaintext x:  %s\" % decryption_result)\n",
    "decryption_result == x"
   ]
  }
 ],
 "metadata": {
  "kernelspec": {
   "display_name": "Python 3 (ipykernel)",
   "language": "python",
   "name": "python3"
  },
  "language_info": {
   "codemirror_mode": {
    "name": "ipython",
    "version": 3
   },
   "file_extension": ".py",
   "mimetype": "text/x-python",
   "name": "python",
   "nbconvert_exporter": "python",
   "pygments_lexer": "ipython3",
   "version": "3.10.6"
  }
 },
 "nbformat": 4,
 "nbformat_minor": 5
}
