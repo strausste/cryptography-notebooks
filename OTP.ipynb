{
 "cells": [
  {
   "cell_type": "markdown",
   "id": "041bff25-1bc7-44c5-a404-3af48fbeafcf",
   "metadata": {},
   "source": [
    "# One-time pad"
   ]
  },
  {
   "cell_type": "markdown",
   "id": "a0e79c3e-8f07-4fca-9331-1e4464aef2a6",
   "metadata": {},
   "source": [
    "$P = C = K = Z_2 ^n$\n",
    "\n",
    "$E_k(x) = x ⊕ k$\\\n",
    "$D_k(y) = y ⊕ k$"
   ]
  },
  {
   "cell_type": "code",
   "execution_count": 3,
   "id": "9e6c1c1b-f7b0-49ab-a015-8bfdaae03a7c",
   "metadata": {
    "tags": []
   },
   "outputs": [],
   "source": [
    "import random\n",
    "\n",
    "def gen_rnd(n):\n",
    "    x = ''\n",
    "    for i in range(n):\n",
    "        x += str(random.randint(0,1))\n",
    "        \n",
    "    return x\n",
    "\n",
    "def xor(a,b):\n",
    "    if(len(a) != len(b)):\n",
    "        return 'Error: a and b must have the same length'\n",
    "    \n",
    "    result = ''\n",
    "    for i in range(len(a)): \n",
    "        if(a[i] == b[i]):\n",
    "            result += '0'\n",
    "        else: \n",
    "            result += '1'\n",
    "            \n",
    "    return result"
   ]
  },
  {
   "cell_type": "code",
   "execution_count": 6,
   "id": "21e80853-e750-48f5-b4ad-5d3249256055",
   "metadata": {
    "tags": []
   },
   "outputs": [
    {
     "name": "stdout",
     "output_type": "stream",
     "text": [
      "Plaintext x:  1010100111\n",
      "Key k:        0101101101\n"
     ]
    }
   ],
   "source": [
    "x = gen_rnd(10)\n",
    "k = gen_rnd(10)\n",
    "\n",
    "print(\"Plaintext x:  %s\" % x)\n",
    "print(\"Key k:        %s\" % k)"
   ]
  },
  {
   "cell_type": "code",
   "execution_count": 7,
   "id": "0dbc792d-cc5a-4d02-aea8-222a3837d3cf",
   "metadata": {
    "tags": []
   },
   "outputs": [],
   "source": [
    "def encryption(x,k):\n",
    "    return xor(x,k)\n",
    "\n",
    "def decryption(y,k):\n",
    "    return xor(y,k)"
   ]
  },
  {
   "cell_type": "code",
   "execution_count": 8,
   "id": "c4b2d3bf-f3e8-49db-9920-5022dcdc088f",
   "metadata": {
    "tags": []
   },
   "outputs": [
    {
     "name": "stdout",
     "output_type": "stream",
     "text": [
      "Ciphertext y: 1111001010\n"
     ]
    }
   ],
   "source": [
    "y = encryption(x,k)\n",
    "print(\"Ciphertext y: %s\" % y)"
   ]
  },
  {
   "cell_type": "code",
   "execution_count": 11,
   "id": "686ebc1e-6fe2-4bb8-a378-32dc812c68f2",
   "metadata": {
    "tags": []
   },
   "outputs": [
    {
     "name": "stdout",
     "output_type": "stream",
     "text": [
      "Plaintext x:  1010100111\n"
     ]
    },
    {
     "data": {
      "text/plain": [
       "True"
      ]
     },
     "execution_count": 11,
     "metadata": {},
     "output_type": "execute_result"
    }
   ],
   "source": [
    "decryption_result = decryption(y,k)\n",
    "\n",
    "print(\"Plaintext x:  %s\" % decryption_result)\n",
    "decryption_result == x"
   ]
  },
  {
   "cell_type": "markdown",
   "id": "1da64316-a54b-40a4-a1fa-6b099d411f10",
   "metadata": {},
   "source": [
    "## Known plaintext attack (this doesn't affect the cipher, if the keys are truly used in OTP-mode)"
   ]
  },
  {
   "cell_type": "code",
   "execution_count": 26,
   "id": "ff2a82ae-be7b-4d68-aae6-15ba129602d9",
   "metadata": {
    "tags": []
   },
   "outputs": [],
   "source": [
    "n = 10    # number of bits\n",
    "size = 10 # number of items (plaintexts, keys and ciphertexts)\n",
    "\n",
    "known_x_list = [gen_rnd(n) for i in range(n)] # List comprehension, n random binary strings \n",
    "unknown_k_list = [gen_rnd(n) for i in range(n)] # n random keys"
   ]
  },
  {
   "cell_type": "code",
   "execution_count": 27,
   "id": "bcac70ec-327b-436d-9bf5-02cefd085c23",
   "metadata": {
    "tags": []
   },
   "outputs": [
    {
     "data": {
      "text/plain": [
       "['1101110110',\n",
       " '0101110011',\n",
       " '0010011100',\n",
       " '0101100010',\n",
       " '1110000000',\n",
       " '1111110100',\n",
       " '0010101100',\n",
       " '0111101011',\n",
       " '0001001111',\n",
       " '0001000010']"
      ]
     },
     "execution_count": 27,
     "metadata": {},
     "output_type": "execute_result"
    }
   ],
   "source": [
    "known_x_list"
   ]
  },
  {
   "cell_type": "code",
   "execution_count": 28,
   "id": "beda890a-e12e-440d-9358-d4131495c614",
   "metadata": {
    "tags": []
   },
   "outputs": [
    {
     "data": {
      "text/plain": [
       "['1111010110',\n",
       " '0000111101',\n",
       " '0101111011',\n",
       " '0000000101',\n",
       " '0110110111',\n",
       " '1100100101',\n",
       " '0110110100',\n",
       " '0100101000',\n",
       " '0011110011',\n",
       " '1001100001']"
      ]
     },
     "execution_count": 28,
     "metadata": {},
     "output_type": "execute_result"
    }
   ],
   "source": [
    "unknown_k_list"
   ]
  },
  {
   "cell_type": "code",
   "execution_count": 33,
   "id": "48657b3f-bf6d-4793-b05d-b0a365647271",
   "metadata": {
    "tags": []
   },
   "outputs": [],
   "source": [
    "known_y_list = [encryption(known_x_list[i], unknown_k_list[i]) for i in range(n)]"
   ]
  },
  {
   "cell_type": "code",
   "execution_count": 34,
   "id": "03d6a50e-80c1-45ff-9b65-ca49e9ccb33e",
   "metadata": {
    "tags": []
   },
   "outputs": [
    {
     "data": {
      "text/plain": [
       "['0010100000',\n",
       " '0101001110',\n",
       " '0111100111',\n",
       " '0101100111',\n",
       " '1000110111',\n",
       " '0011010001',\n",
       " '0100011000',\n",
       " '0011000011',\n",
       " '0010111100',\n",
       " '1000100011']"
      ]
     },
     "execution_count": 34,
     "metadata": {},
     "output_type": "execute_result"
    }
   ],
   "source": [
    "known_y_list"
   ]
  },
  {
   "cell_type": "code",
   "execution_count": 38,
   "id": "541e226e-ef99-400f-9fff-a7dec208dc29",
   "metadata": {
    "tags": []
   },
   "outputs": [],
   "source": [
    "guessed_keys = [decryption(known_x_list[i], known_y_list[i]) for i in range(n)]"
   ]
  },
  {
   "cell_type": "code",
   "execution_count": 40,
   "id": "6714c537-3ce4-4ea7-b126-a1ef196f8a70",
   "metadata": {
    "tags": []
   },
   "outputs": [
    {
     "data": {
      "text/plain": [
       "['1111010110',\n",
       " '0000111101',\n",
       " '0101111011',\n",
       " '0000000101',\n",
       " '0110110111',\n",
       " '1100100101',\n",
       " '0110110100',\n",
       " '0100101000',\n",
       " '0011110011',\n",
       " '1001100001']"
      ]
     },
     "execution_count": 40,
     "metadata": {},
     "output_type": "execute_result"
    }
   ],
   "source": [
    "guessed_keys"
   ]
  },
  {
   "cell_type": "code",
   "execution_count": 41,
   "id": "529cce13-83c9-4acc-bcda-47fe2ce98f3e",
   "metadata": {
    "tags": []
   },
   "outputs": [
    {
     "data": {
      "text/plain": [
       "True"
      ]
     },
     "execution_count": 41,
     "metadata": {},
     "output_type": "execute_result"
    }
   ],
   "source": [
    "guessed_keys == unknown_k_list"
   ]
  }
 ],
 "metadata": {
  "kernelspec": {
   "display_name": "Python 3 (ipykernel)",
   "language": "python",
   "name": "python3"
  },
  "language_info": {
   "codemirror_mode": {
    "name": "ipython",
    "version": 3
   },
   "file_extension": ".py",
   "mimetype": "text/x-python",
   "name": "python",
   "nbconvert_exporter": "python",
   "pygments_lexer": "ipython3",
   "version": "3.10.6"
  }
 },
 "nbformat": 4,
 "nbformat_minor": 5
}
