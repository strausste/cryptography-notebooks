{
 "cells": [
  {
   "cell_type": "markdown",
   "id": "b976fa35-c40c-4994-9b67-77bf6485b0b5",
   "metadata": {},
   "source": [
    "# Perfect indistinguishability\n",
    "\n",
    "Caratterizzazione alternativa (ma equivalente) della perfect secrecy.\n",
    "\n",
    "\n",
    "## Esperimento di indistinguishability\n",
    "\n",
    "PrivK<sup>eav</sup><sub>M,π</sub>\n",
    "\n",
    "PrivK $\\rightarrow$ crittografia chiave privata \\\n",
    "π $\\rightarrow$ nome del cifrario $\\rightarrow$ π = (Gen, E, D) \\\n",
    "eav $\\rightarrow$ eavesdropper $\\rightarrow$ attaccante più debole (può soltanto guardare il canale pubblico)\\\n",
    "M $\\rightarrow$ Mallory, attaccante\n",
    "\n",
    "1. M $\\rightarrow$ A : x<sub>0</sub>, x<sub>1</sub> &emsp; <i>attaccante M invia due plaintext ad A</i>\n",
    "2. A : k $\\leftarrow$ Gen() &emsp; <i>A genera una chiave con l'algoritmo Gen() $\\in$ π</i> \\\n",
    "    &emsp; b $\\leftarrow$ {0, 1} &emsp; <i>A genera un bit <b>b</b> uniformemente random</i>\n",
    "3. A $\\rightarrow$ M : y $\\leftarrow$ E<sub>k</sub>(x<sub>b</sub>) &emsp; <i>A invia ad M un ciphertext ottenuto da uno dei 2 plaintext (scelto in base a <b>b</b>)</i>\n",
    "4. M : b' $\\leftarrow$ ... &emsp; <i>M vuole calcolare <b>b'</b> in modo che <b>b'=b</b> (vuole indovinare <b>b</b>)</i>\n",
    "\n",
    "L'esperimento ha successo (PrivK<sup>eav</sup><sub>M,π</sub> = 1) se <b>b'=b</b>\n",
    "\n",
    "### Cifrario perfectly indistinguishable\n",
    "\n",
    "π è <b>perfectly indistuinguishable</b> (e anche perfetto) se:\n",
    "\n",
    "$\\forall$ M : Pr(PrivK<sup>eav</sup><sub>M,π</sub> = 1) = 1/2 &emsp; <i><b>per ogni avversario</b> M , <b>la probabilità che l'esperimento abbia successo è 1/2</b> (anche il migliore avversario è costretto a tirare a indovinare come sua migliore strategia)</i>\n",
    "\n",
    "Qualunque M vuol dire anche l'avversario con HW illimitato e tempo illimitato (irrealistico)"
   ]
  },
  {
   "cell_type": "markdown",
   "id": "31f2b52d-5721-46a4-bbd8-6d7fc5492e2d",
   "metadata": {},
   "source": [
    "### Esercizio \n",
    "\n",
    "P = C = Z<sup>2</sup><sub>26</sub> &emsp; <i>due caratteri in Z<sub>26</sub></i>\\\n",
    "K = Z<sub>26</sub> &emsp;<i>chiave con un singolo carattere</i>\\\n",
    "Gen() : {k $\\leftarrow$ K} &emsp; <i>chiave uniformemente random</i>\n",
    "\n",
    "E<sub>k</sub> (x x') = (x + k)(x' + k) &emsp; <i>la stessa chiave viene utilizzata per cifrare caratteri diversi $\\rightarrow$ sicuramente non è un cifrario perfetto</i>\n",
    "\n",
    "1. M $\\rightarrow$ A : x<sub>0</sub>, x<sub>1</sub> &emsp; x<sub>0</sub> = 00 &emsp; x<sub>1</sub> = 01 &emsp; <i>M invia questi due messaggi ad A</i>\n",
    "2. A : k $\\leftarrow$ Gen() &emsp; b$\\leftarrow$ {0, 1} &emsp; <i>A genera il bit random <b>b</b></i>\n",
    "3. A $\\rightarrow$ M : y $\\leftarrow$ E<sub>k</sub>(x<sub>b</sub>) &emsp; y = zz' &emsp; <i>A fa l'encryption di un messaggio (scelto in base a <b>b</b>) che è composto da due caratteri z e z'</i>\n",
    "4. M : b' $\\leftarrow$ ... &emsp;<i>M deve indovinare <b>b</b></i>\n",
    "\n",
    "b' = {0 se z=z' ; 1 altrimenti} &emsp;<i>la sua strategia è: dire che è il messaggio 0 (caratteri uguali nel plaintext) se nel ciphertext ci sono i caratteri uguali, 1 altrimenti </i>\n",
    "\n",
    "Pr(PrivK<sup>eav</sup><sub>M,π</sub> = 1) = 1 &emsp; <i>con questa strategia, la probabilità di indovinare è 1 $\\rightarrow$ indovina sempre (passando quei messaggi)</i>\n",
    "\n",
    "Pr(PrivK<sup>eav</sup><sub>M,π</sub> = 1) &emsp;=&emsp; Pr(b'=0, b=0) + Pr(b'=1, b=1) &emsp;=&emsp; Pr(b'=0 | b=0) Pr(b=0) + Pr(b'=1 | b=1) Pr(b=1)\n",
    "\n",
    "= 1/2 Pr(b'=0 | b=0) + 1/2 Pr(b'=1 | b=1) &emsp;=&emsp; 1/2 1 + 1/2 1 = 1 $\\neq$ 1/2 $\\rightarrow$ il cifrario <b>non è</b> perfectly indistinguishable!"
   ]
  },
  {
   "cell_type": "markdown",
   "id": "8065ba33-9342-4113-8558-bf5b1b8833c2",
   "metadata": {
    "tags": []
   },
   "source": [
    "# Experiments\n",
    "\n",
    "<b>IMPORTANT:</b> The following code is based from this: https://github.com/bitbart/crypto-pub/"
   ]
  },
  {
   "cell_type": "markdown",
   "id": "2263b0ce-ba89-4628-bf30-db1aac87231e",
   "metadata": {
    "tags": []
   },
   "source": [
    "### Abstract:"
   ]
  },
  {
   "cell_type": "code",
   "execution_count": 73,
   "id": "fa7b2232-66db-4fce-b313-7567bd0f082e",
   "metadata": {
    "tags": []
   },
   "outputs": [],
   "source": [
    "import secrets\n",
    "from abc import ABC, abstractmethod\n",
    "\n",
    "def int_of_chr(n):\n",
    "    return ord(n)-ord('a')\n",
    "\n",
    "def chr_of_int(n):\n",
    "    return chr(n + ord('a'))\n",
    "\n",
    "# Abstract class:\n",
    "\n",
    "class Cipher(ABC):\n",
    "\n",
    "    @abstractmethod\n",
    "    def gen(self,n):\n",
    "        pass\n",
    "\n",
    "    @abstractmethod\n",
    "    def enc(self,x,k):\n",
    "        pass\n",
    "\n",
    "    @abstractmethod\n",
    "    def dec(self,y,k):\n",
    "        pass\n",
    "\n",
    "    @abstractmethod\n",
    "    def string_of_key(self,k):\n",
    "        pass\n",
    "\n",
    "    @abstractmethod\n",
    "    def key_of_string(self,s):\n",
    "        pass\n",
    "    \n",
    "    # Alice's operations in the perfect indistinguishability experiment:\n",
    "    def alice(self,x0,x1, print_key=True):\n",
    "        k = self.gen()                         # generate key\n",
    "        \n",
    "        if(print_key):\n",
    "            print(\"k = \" + ''.join(str(k)))\n",
    "       \n",
    "        b = secrets.choice([0,1])              # generate random bit\n",
    "        y = self.enc(x1 if b else x0,k)        # encrypt xb = x0 if b=0, x1 if b=1\n",
    "        return (b,y)\n",
    "\n",
    "    \n",
    "class Mallory(ABC):\n",
    "    \n",
    "    @abstractmethod\n",
    "    def plaintexts(): # the plaintexts the adversary chooses\n",
    "        pass\n",
    "    \n",
    "    @abstractmethod\n",
    "    def guess(y):     # Mallory's strategy guessing the bit\n",
    "        pass\n",
    "    \n",
    "    \n",
    "class Experiment():\n",
    "    \n",
    "    def __init__(self, pi, m, n):\n",
    "        self.pi = pi # cipher\n",
    "        self.m = m   # Mallory\n",
    "        self.n = n   # total number of experiments\n",
    "        self.s = 0   # number of experiments where Mallory was the winner\n",
    "        \n",
    "    def run(self, print_steps=True):\n",
    "        for i in range(self.n): \n",
    "            if(print_steps):\n",
    "                print(\"\\n\" + \"Experiment #\" + str(i+1))\n",
    "\n",
    "             # M -> A : x0, x1\n",
    "            (x0,x1) = self.m.plaintexts()\n",
    "            \n",
    "            if(print_steps):\n",
    "                print(\"x0 = \" + x0)\n",
    "                print(\"x1 = \" + x1)\n",
    "\n",
    "             # A -> M : y = Ek(x[b])\n",
    "            (b,y) = self.pi.alice(x0,x1, print_key=print_steps) # Alice generates the key, the random bit and performs the encryption\n",
    "           \n",
    "            if(print_steps):\n",
    "                print(\"b = \" + str(b))   \n",
    "                print(\"y = \" + y)\n",
    "\n",
    "             # M : bm   \n",
    "            bm = self.m.guess(y)\n",
    "            \n",
    "            if(print_steps):\n",
    "                print(\"bm = \" + str(bm))\n",
    "\n",
    "            if bm==b:\n",
    "                if(print_steps):\n",
    "                    print(\"PrivK = 1 (Mallory wins)\")\n",
    "                self.s = self.s+1\n",
    "            else:\n",
    "                if(print_steps):\n",
    "                    print(\"PrivK = 0 (Mallory loses)\")\n",
    "        \n",
    "        print(\"\\n\" + \"Percentage of success: \" + str(self.s*100./self.n))"
   ]
  },
  {
   "cell_type": "markdown",
   "id": "3dc0af7c-778d-4540-aa01-eb56dfccb32e",
   "metadata": {
    "tags": []
   },
   "source": [
    "### Uncipher:"
   ]
  },
  {
   "cell_type": "code",
   "execution_count": 75,
   "id": "9cdd58a8-b2be-4ffc-9aa0-8751a0e66c38",
   "metadata": {
    "tags": []
   },
   "outputs": [],
   "source": [
    "class Uncipher(Cipher):\n",
    "\n",
    "    def gen(self):\n",
    "        k = secrets.randbelow(26)\n",
    "        return k\n",
    "\n",
    "    def enc(self,x,k):\n",
    "        return x\n",
    "\n",
    "    def dec(self,y,k):\n",
    "        return y\n",
    "\n",
    "    def string_of_key(self,k):\n",
    "        return chr_of_int(k)\n",
    "\n",
    "    def key_of_string(self,s):\n",
    "        return int_of_chr(s)"
   ]
  },
  {
   "cell_type": "markdown",
   "id": "7c361ebd-190b-4a75-b74c-e3d8f66431e1",
   "metadata": {
    "tags": []
   },
   "source": [
    "### Shift cipher in ECB-mode (with uniform keys and plaintexts of arbitrary length):"
   ]
  },
  {
   "cell_type": "code",
   "execution_count": 77,
   "id": "8d672673-1c9e-404f-80b6-28b36922e3dc",
   "metadata": {
    "tags": []
   },
   "outputs": [],
   "source": [
    "# Similar to the one defined in 'shift.ipynb'\n",
    "\n",
    "class ShiftECB(Cipher):\n",
    "\n",
    "    def gen(self):\n",
    "        k = secrets.randbelow(26)\n",
    "        return k\n",
    "\n",
    "    def enc(self,x,k):\n",
    "        # Ek(x1 x2 x3 ... xn,k) = (x1+k)%26 (x2+k)%26 (x3+k)%26 ... (xn+k)%26\n",
    "        return  ''.join(map(lambda n : chr_of_int((int_of_chr(n) + k)%26), x))\n",
    "\n",
    "    def dec(self,y,k):\n",
    "        return  ''.join(map(lambda n : chr_of_int((int_of_chr(n) - k)%26), y))\n",
    "\n",
    "    def string_of_key(self,k):\n",
    "        return chr_of_int(k)\n",
    "\n",
    "    def key_of_string(self,s):\n",
    "        return int_of_chr(s)"
   ]
  },
  {
   "cell_type": "code",
   "execution_count": 78,
   "id": "5415f227-5fb4-4178-ad84-f8a25cb97a55",
   "metadata": {},
   "outputs": [],
   "source": [
    "# Adversary for the ShiftECB:\n",
    "\n",
    "class MalloryShiftECB(Mallory):\n",
    "    \n",
    "    def plaintexts(self):\n",
    "        return (\"aa\",\"ab\")\n",
    "\n",
    "    def guess(self,y):\n",
    "        if y[0]==y[1]:\n",
    "            bm = 0\n",
    "        else:\n",
    "            bm = 1\n",
    "        return bm"
   ]
  },
  {
   "cell_type": "code",
   "execution_count": 79,
   "id": "07fa54db-3906-4b3c-a6b7-9a4b6b1d244b",
   "metadata": {
    "tags": []
   },
   "outputs": [
    {
     "name": "stdout",
     "output_type": "stream",
     "text": [
      "\n",
      "Percentage of success: 100.0\n"
     ]
    }
   ],
   "source": [
    "# Privk-eav experiment with the ShiftECB:\n",
    "\n",
    "pi = ShiftECB()\n",
    "m = MalloryShiftECB()\n",
    "\n",
    "experiment = Experiment(pi, m, 100) # 100 experiments\n",
    "\n",
    "experiment.run(print_steps=False)"
   ]
  }
 ],
 "metadata": {
  "kernelspec": {
   "display_name": "Python 3 (ipykernel)",
   "language": "python",
   "name": "python3"
  },
  "language_info": {
   "codemirror_mode": {
    "name": "ipython",
    "version": 3
   },
   "file_extension": ".py",
   "mimetype": "text/x-python",
   "name": "python",
   "nbconvert_exporter": "python",
   "pygments_lexer": "ipython3",
   "version": "3.10.6"
  }
 },
 "nbformat": 4,
 "nbformat_minor": 5
}
