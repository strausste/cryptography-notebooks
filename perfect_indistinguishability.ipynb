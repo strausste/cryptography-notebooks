{
 "cells": [
  {
   "cell_type": "markdown",
   "id": "b976fa35-c40c-4994-9b67-77bf6485b0b5",
   "metadata": {},
   "source": [
    "# Perfect indistinguishability\n",
    "\n",
    "Caratterizzazione alternativa (ma equivalente) della perfect secrecy.\n",
    "\n",
    "\n",
    "## Esperimento di indistinguishability\n",
    "\n",
    "PrivK<sup>eav</sup><sub>M,π</sub>\n",
    "\n",
    "PrivK $\\rightarrow$ crittografia chiave privata \\\n",
    "π $\\rightarrow$ nome del cifrario $\\rightarrow$ π = (Gen, E, D) \\\n",
    "eav $\\rightarrow$ eavesdropper $\\rightarrow$ attaccante più debole (può soltanto guardare il canale pubblico)\\\n",
    "M $\\rightarrow$ Mallory, attaccante\n",
    "\n",
    "1. M $\\rightarrow$ A : x<sub>0</sub>, x<sub>1</sub> &emsp; <i>attaccante M invia due plaintext ad A</i>\n",
    "2. A : k $\\leftarrow$ Gen() &emsp; <i>A genera una chiave con l'algoritmo Gen() $\\in$ π</i> \\\n",
    "    &emsp; b $\\leftarrow$ {0, 1} &emsp; <i>A genera un bit <b>b</b> uniformemente random</i>\n",
    "3. A $\\rightarrow$ M : y $\\leftarrow$ E<sub>k</sub>(x<sub>b</sub>) &emsp; <i>A invia ad M un ciphertext ottenuto da uno dei 2 plaintext (scelto in base a <b>b</b>)</i>\n",
    "4. M : b' $\\leftarrow$ ... &emsp; <i>M vuole calcolare <b>b'</b> in modo che <b>b'=b</b> (vuole indovinare <b>b</b>)</i>\n",
    "\n",
    "L'esperimento ha successo (PrivK<sup>eav</sup><sub>M,π</sub> = 1) se <b>b'=b</b>\n",
    "\n",
    "### Cifrario perfectly indistinguishable\n",
    "\n",
    "π è <b>perfectly indistuinguishable</b> (e anche perfetto) se:\n",
    "\n",
    "$\\forall$ M : Pr(PrivK<sup>eav</sup><sub>M,π</sub> = 1) = 1/2 &emsp; <i><b>per ogni avversario</b> M , <b>la probabilità che l'esperimento abbia successo è 1/2</b> (anche il migliore avversario è costretto a tirare a indovinare come sua migliore strategia)</i>\n",
    "\n",
    "Qualunque M vuol dire anche l'avversario con HW illimitato e tempo illimitato (irrealistico)"
   ]
  },
  {
   "cell_type": "markdown",
   "id": "31f2b52d-5721-46a4-bbd8-6d7fc5492e2d",
   "metadata": {},
   "source": [
    "### Esercizio \n",
    "\n",
    "P = C = Z<sup>2</sup><sub>26</sub> &emsp; <i>due caratteri in Z<sub>26</sub></i>\\\n",
    "K = Z<sub>26</sub> &emsp;<i>chiave con un singolo carattere</i>\\\n",
    "Gen() : {k $\\leftarrow$ K} &emsp; <i>chiave uniformemente random</i>\n",
    "\n",
    "E<sub>k</sub> (x x') = (x + k)(x' + k) &emsp; <i>la stessa chiave viene utilizzata per cifrare caratteri diversi $\\rightarrow$ sicuramente non è un cifrario perfetto</i>\n",
    "\n",
    "1. M $\\rightarrow$ A : x<sub>0</sub>, x<sub>1</sub> &emsp; x<sub>0</sub> = 00 &emsp; x<sub>1</sub> = 01 &emsp; <i>M invia questi due messaggi ad A</i>\n",
    "2. A : k $\\leftarrow$ Gen() &emsp; b$\\leftarrow$ {0, 1} &emsp; <i>A genera il bit random <b>b</b></i>\n",
    "3. A $\\rightarrow$ M : y $\\leftarrow$ E<sub>k</sub>(x<sub>b</sub>) &emsp; y = zz' &emsp; <i>A fa l'encryption di un messaggio (scelto in base a <b>b</b>) che è composto da due caratteri z e z'</i>\n",
    "4. M : b' $\\leftarrow$ ... &emsp;<i>M deve indovinare <b>b</b></i>\n",
    "\n",
    "b' = {0 se z=z' ; 1 altrimenti} &emsp;<i>la sua strategia è: dire che è il messaggio 0 (caratteri uguali nel plaintext) se nel ciphertext ci sono i caratteri uguali, 1 altrimenti </i>\n",
    "\n",
    "Pr(PrivK<sup>eav</sup><sub>M,π</sub> = 1) = 1 &emsp; <i>con questa strategia, la probabilità di indovinare è 1 $\\rightarrow$ indovina sempre (passando quei messaggi)</i>\n",
    "\n",
    "Pr(PrivK<sup>eav</sup><sub>M,π</sub> = 1) &emsp;=&emsp; Pr(b'=0, b=0) + Pr(b'=1, b=1) &emsp;=&emsp; Pr(b'=0 | b=0) Pr(b=0) + Pr(b'=1 | b=1) Pr(b=1)\n",
    "\n",
    "= 1/2 Pr(b'=0 | b=0) + 1/2 Pr(b'=1 | b=1)  = 1/2 1 + 1/2 1"
   ]
  },
  {
   "cell_type": "code",
   "execution_count": null,
   "id": "1f00a9f0-a691-4a72-8f71-84a80e42de1c",
   "metadata": {},
   "outputs": [],
   "source": []
  }
 ],
 "metadata": {
  "kernelspec": {
   "display_name": "Python 3 (ipykernel)",
   "language": "python",
   "name": "python3"
  },
  "language_info": {
   "codemirror_mode": {
    "name": "ipython",
    "version": 3
   },
   "file_extension": ".py",
   "mimetype": "text/x-python",
   "name": "python",
   "nbconvert_exporter": "python",
   "pygments_lexer": "ipython3",
   "version": "3.10.6"
  }
 },
 "nbformat": 4,
 "nbformat_minor": 5
}
