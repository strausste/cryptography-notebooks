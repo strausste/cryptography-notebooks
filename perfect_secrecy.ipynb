{
 "cells": [
  {
   "cell_type": "markdown",
   "id": "b26b2c2d-a378-4a60-a006-d0789297fc08",
   "metadata": {},
   "source": [
    "# Perfect secrecy:"
   ]
  },
  {
   "cell_type": "markdown",
   "id": "68669ddd-59ec-4f16-8a4b-3588f2bfbadc",
   "metadata": {},
   "source": [
    "Assumiamo che $\\forall$ k $\\in$ K . Pr(k) > 0 <i>ogni chiave abbia una probabilità non nulla</i>\\\n",
    "Assumiamo che K <i>l'insieme delle chiavi sia finito</i>\\\n",
    "Assumiamo che P <i>l'insieme dei plaintext sia finito oppure numerabile.</i> Se P è finito, allora |P|>1\\\n",
    "Assumiamo che $\\forall$ x $\\in$ P . Pr(x) > 0\n",
    "\n",
    "La distribuzione di probabilità delle chiavi dipende dall'algoritmo Gen().\\\n",
    "La distribuzione di probabilità dei plaintext dipende dai linguaggi naturali.\\\n",
    "La distribuzione di probabilità dei ciphertext dipende dal contesto, dalla probabilità di Gen() e dall'encryption."
   ]
  },
  {
   "cell_type": "markdown",
   "id": "d81a00eb-7f4c-4705-afde-9a158fbd2721",
   "metadata": {
    "tags": []
   },
   "source": [
    "### Esiste qualche y $\\in$ C tale che Pr(C=y) = 0? "
   ]
  },
  {
   "cell_type": "markdown",
   "id": "d598f791-7c0c-457e-872b-623e35496325",
   "metadata": {},
   "source": [
    "Questo è possibile quando $\\forall$x $\\forall$k . E<sub>k</sub>(x) $\\neq$ y\n",
    "\n",
    "Per avere Pr(C=y) > 0 per ogni y $\\in$ C restringiamo l'insieme dei ciphertext: \\\n",
    "C = {E<sub>k</sub>(x) | x $\\in$ P, k $\\in$ K}"
   ]
  },
  {
   "cell_type": "markdown",
   "id": "e352342d-0b26-43d2-aa1b-7e50dcf8ecac",
   "metadata": {
    "tags": []
   },
   "source": [
    "## Definizione:"
   ]
  },
  {
   "cell_type": "markdown",
   "id": "7a8b0f2d-a20f-4cda-9c9a-48066da236fb",
   "metadata": {},
   "source": [
    "Uno schema (Gen, E, D) di encryption con distribuzioni di probabilità K, P, C è perfetto <b>(perfectly secret)</b> se e solo se \n",
    "<i> $\\forall$ x $\\in$ P e $\\forall$ y $\\in$ C </i>:\n",
    "\n",
    "    Pr(x|y) = Pr(x) \n",
    "    "
   ]
  },
  {
   "cell_type": "markdown",
   "id": "c1510e7e-dbb3-413e-a73b-4d467754d33e",
   "metadata": {
    "tags": []
   },
   "source": [
    "### Esempio cifrario non perfetto: Shift cipher in ECB-mode con lunghezza 2:\n",
    "P = C = Z<sub>26</sub><sup>2</sup> \\\n",
    "K = Z<sub>26</sub> <i>la chiave è un singolo carattere e questo viene usato per ogni carattere del plaintext</i>\n",
    "\n",
    "Gen() {k &larr; K} <i>chiavi uniformemente distribuite</i>\\\n",
    "E<sub>k</sub>(x<sub>1</sub> x<sub>2</sub>) = (x<sub>1</sub>+k x<sub>2</sub>+k)\\\n",
    "D<sub>k</sub>(y<sub>1</sub> y<sub>2</sub>) = (y<sub>1</sub>-k y<sub>2</sub>-k)\n",
    "\n",
    "#### È perfetto (perfectly secret)?\n",
    "La congettura è che non sia perfetto. Dimostriamo allora che <b>non</b> è perfetto: \\\n",
    "La perfect secrecy dice: <i> $\\forall$ x $\\in$ P e $\\forall$ y $\\in$ C </i> : Pr(x|y) = Pr(x)\\\n",
    "La negazione della perfect secrecy è: $\\exists$ x $\\in$ P e $\\exists$ y $\\in$ C : Pr(x|y) $\\neq$ Pr(x)\n",
    "\n",
    "Abbiamo assunto Pr(x) > 0, quindi per trovare una Pr(x|y) che sicuramente sia diversa da Pr(x)>0, cerchiamo una Pr(x|y) = 0\n",
    "\n",
    "Prendiamo: \\\n",
    "x = (0, 0) \\\n",
    "È <b>impossibile</b> avere, <i> per esempio, </i> y = (0, 1) con x = (0, 0) visto che <b> la chiave è la stessa </b> per ogni carattere del plaintext.\\\n",
    "E<sub>k</sub>(x) = (0+k 0+k) = (k, k) $\\neq$ (0, 1) \\\n",
    "<b> $\\nexists$ k $\\in$ K : E<sub>k</sub>(x)=y </b> \\\n",
    "Abbiamo trovato x, y tali che Pr(x|y) $\\neq$ Pr(x) possiamo allora dire che il cifrario <b>non</b> è perfetto "
   ]
  },
  {
   "cell_type": "markdown",
   "id": "686b1120-3652-43aa-9554-df6ff2651f35",
   "metadata": {
    "tags": []
   },
   "source": [
    "### Esempio cifrario non perfetto: Shift cipher su singolo carattere, ma con lo spazio delle chiavi inferiore all'insieme dei plaintext\n",
    "\n",
    "P = C = Z<sub>16</sub> \\\n",
    "K = Z<sub>4</sub> \n",
    "\n",
    "Gen() {k &larr; K} <i>chiavi uniformemente distribuite</i>\\\n",
    "E<sub>k</sub>(x) = x+k \\\n",
    "D<sub>k</sub>(y) = y-k\n",
    "\n",
    "#### È perfetto (perfectly secret)?\n",
    "La congettura è che non sia perfetto: \\\n",
    "$\\exists$ x $\\in$ P e $\\exists$ y $\\in$ C : Pr(x|y) $\\neq$ Pr(x) \n",
    "\n",
    "Prendiamo: \\\n",
    "x = 0 \\\n",
    "y = A <i> oppure 10 in Z<sub>16</sub> </i>\\\n",
    "E<sub><b>K</b></sub>(x) = {E<sub>k</sub>(x) : k $\\in$ K} = {E<sub>0</sub>(x) E<sub>1</sub>(x) E<sub>2</sub>(x) E<sub>3</sub>(x)} <i>tutte le possibili encryption di x</i>\\\n",
    "E<sub><b>K</b></sub>(0) = {0 1 2 3} \\\n",
    "y = A $\\notin$ E<sub><b>K</b></sub>(0) = {0 1 2 3} \n",
    "\n",
    "Pr(x|y) = 0 $\\neq$ Pr(x) > 0 <i> quindi il cifrario <b>non</b> è perfetto </i> perchè lo spazio delle chiavi è più piccolo dell'insieme dei plaintext. Per essere perfetto dovrebbe avere lo spazio delle chiavi grande almeno quanto lo spazio dei plaintext <i>(condizione necessaria ma non sufficiente)</i>.\n",
    "\n",
    "\n"
   ]
  },
  {
   "cell_type": "markdown",
   "id": "8242a9c5-0a21-4ac7-94a5-9a54d6c335f4",
   "metadata": {
    "tags": []
   },
   "source": [
    "### Poteri dell'attaccante M:\n",
    "+ Ciphertext-only attack: \\\n",
    "    <b>M</b> conosce soltanto il ciphertext\n",
    "+ KPA: Known Plaintext Attack: \\\n",
    "    <b>M</b> conosce delle coppie x e y che sono state cifrate con chiave k (la chiave ovviamente non la conosce)\n",
    "+ CPA: Chosen Plaintext Attack: \\\n",
    "    <b>M</b> crea delle coppie (x,y). Ha accesso alla funzione di encryption E<sub>k</sub>(x) <i>(oracle access)</i>\n",
    "+ CCA: Chosen Ciphertext Attack: \\\n",
    "    <b>M</b> ora ha accesso anche alla funzione di decryption D<sub>k</sub>(y) <i>(oracle access)</i>"
   ]
  },
  {
   "cell_type": "markdown",
   "id": "dc50a1d1-3ec1-4fe6-aa3d-dc54c8142568",
   "metadata": {
    "tags": []
   },
   "source": [
    "#### Requisito minimo di sicurezza di un cifrario:\n",
    "Richiediamo che un cifrario sia almeno <b>CPA-sicuro</b> ovvero resistente ad attacchi di tipo CPA (Chosen Plaintext Attacks).\\\n",
    "Se l'encryption è un algoritmo deterministico e non probabilistico, il cifrario non può essere CPA-sicuro."
   ]
  },
  {
   "cell_type": "markdown",
   "id": "c8cec0a5-f9ff-45c7-84f8-4e87eaa4f0a5",
   "metadata": {},
   "source": [
    "## Teorema di Shannon\n",
    "\n",
    "Uno schema di encryption con |P| = |C| = |K| è perfetto sse:\n",
    "\n",
    "1. $\\forall$ x $\\in$ P &emsp; $\\forall$ y $\\in$ C &emsp; $\\exists$!k $\\in$ K : E<sub>k</sub>(x) = y  &emsp;<i><b>un'unica chiave</b> che dia quel ciphertext dato quel plaintext</i>\n",
    "2. $\\forall$ k $\\in$ K : Pr(k) = $\\frac{1}{|K|}$ &emsp;<i> chiavi uniformemente distribuite</i>"
   ]
  },
  {
   "cell_type": "markdown",
   "id": "3fa470f2-60cf-4083-8e3d-cf564554c35e",
   "metadata": {
    "tags": []
   },
   "source": [
    "## Esercizi"
   ]
  },
  {
   "cell_type": "markdown",
   "id": "f48bcf69-e2a4-420c-8a47-9a93df966b7f",
   "metadata": {},
   "source": [
    "### Esercizio #1: \n",
    "\n",
    "P = $\\bigcup\\limits_{l \\in 1..n }${0,1}<sup>l</sup> &emsp;<i>n è il limite superiore</i>\\\n",
    "Gen() {k $\\leftarrow$ {0,1}<sup>n</sup>} &emsp;<i>chiavi equiprobabili</i>\\\n",
    "E<sub>k</sub>(x) = k<sub>1..|x|</sub> XOR x  &emsp;<i>taglia k alla lunghezza di x</i>\n",
    "\n",
    "L'encryption rivela la lunghezza del messaggio: l'attaccante sceglie x<sub>0</sub> = 0 e x<sub>1</sub> = 00 e vince sempre: Pr(PrivK<sup>eav</sup><sub>M,π</sub> = 1) = 1\n",
    "\n"
   ]
  },
  {
   "cell_type": "markdown",
   "id": "cb5abc97-63b6-4970-bf21-4ea77cda4e2e",
   "metadata": {
    "tags": []
   },
   "source": [
    "### Esercizio #2.1\n",
    "\n",
    "P = 0..1 \\\n",
    "C = 0..2 \\\n",
    "Gen() {k $\\leftarrow$ 0..1} \\\n",
    "E<sub>k</sub>(x) = x + k mod 3\n",
    "\n",
    "Pr(0 | 2) = 0 $\\neq$ Pr(0) $\\rightarrow$ <b>non è perfetto</b> e quindi non è neanche perfectly indistinguishable: è impossibile avere 2 come ciphertext se il plaintext era 0 (la chiave è 0 oppure 1) \n",
    "\n",
    "#### Esperimento di indistinguishability:\n",
    "\n",
    "M: x<sub>0</sub> = 0 &emsp; x<sub>1</sub> = 1\n",
    " \n",
    "M: b' = y==2 ? 1 : 0\n",
    "\n",
    "Pr(PrivK<sup>eav</sup><sub>M,π</sub> = 1) = Pr(b=0)Pr(b'=0 | b=0) + Pr(b=1)Pr(b'=1 | b=1)\n",
    "\n",
    "Pr(b'0 | b=0) = 1 &emsp;<i>in questo caso indovina sempre</i>\\\n",
    "Pr(b'=1 | b=1) = 1/2 &emsp;<i>quando esce 1, non può fare altro che tirare a indovinare</i>\n",
    "\n",
    "Pr(PrivK<sup>eav</sup><sub>M,π</sub> = 1) = 1/2 (1 + 1/2) > 1/2 $\\rightarrow$ <b>non è perfectly indistinguishable</b>"
   ]
  },
  {
   "cell_type": "markdown",
   "id": "b0aa10e9-b0b9-41a5-8717-74625804c240",
   "metadata": {},
   "source": [
    "### Esercizio #2.2\n",
    "\n",
    "P = 0..2 \\\n",
    "C = 0..2 \\\n",
    "Gen() {k $\\leftarrow$ 0..2} \\\n",
    "E<sub>k</sub>(x) = x + k mod 3\n",
    "\n",
    "È lo shift cipher su Z<sup>3</sup><sub>26</sub> $\\rightarrow$ <b>è perfetto</b>"
   ]
  },
  {
   "cell_type": "markdown",
   "id": "c5420c17-ec4d-41cb-89bd-1e7a115b13ca",
   "metadata": {
    "tags": []
   },
   "source": [
    "### Esercizio #2.3\n",
    "\n",
    "P = 0..1 \\\n",
    "C = 0..2 \\\n",
    "Gen() {k $\\leftarrow$ 0..2} \\\n",
    "E<sub>k</sub>(x) = x + k mod 3\n",
    "\n",
    "#### Shannon: \n",
    "\n",
    "È perfetto <b>sse</b> \n",
    "1. $\\forall$ x $\\in$ P &emsp; $\\forall$ y $\\in$ C &emsp; $\\exists$!k $\\in$ K : E<sub>k</sub>(x) = y  &emsp;<i>\n",
    "2. $\\forall$ k $\\in$ K : Pr(k) = $\\frac{1}{|K|}$ &emsp;\n",
    "    \n",
    "<i>x=0</i>&emsp; E<sub>0</sub>(0) = 0 &emsp; E<sub>1</sub>(0) = 1 &emsp; E<sub>2</sub>(0) = 2 \\\n",
    "<i>x=1</i>&emsp; E<sub>0</sub>(1) = 1 &emsp; E<sub>1</sub>(1) = 2 &emsp; E<sub>2</sub>(1) = 0\n",
    "    \n",
    "Il cifrario <b>è perfetto</b>.\n",
    "    "
   ]
  },
  {
   "cell_type": "markdown",
   "id": "30daa87e-7dc8-4755-9f75-59588ef5bfd2",
   "metadata": {
    "tags": []
   },
   "source": [
    "### Esercizio #2.4\n",
    "\n",
    "P = 0..1 \\\n",
    "C = 0..1 \\\n",
    "Gen() {k $\\leftarrow$ 0..2} \\\n",
    "E<sub>k</sub>(x) = x + k mod 2\n",
    "   \n",
    "<i>x=0</i>&emsp; E<sub>0</sub>(0) = 0 &emsp; E<sub>1</sub>(0) = 1 &emsp; E<sub>2</sub>(0) = 0 \\\n",
    "<i>x=1</i>&emsp; E<sub>0</sub>(1) = 1 &emsp; E<sub>1</sub>(1) = 0 &emsp; E<sub>2</sub>(1) = 1\n",
    "\n",
    "Se y=0 è più probabile che x=0 \\\n",
    "Se y=1 è più probabile che x=1\n",
    "\n",
    "#### Esperimento di indistinguishability:\n",
    "\n",
    "M: x<sub>0</sub> = 0 &emsp; x<sub>1</sub> = 1\n",
    "\n",
    "<i>strategia di M:</i>&emsp; b' = y==0 ? 0 : 1\n",
    "\n",
    "Pr(b'=0 | b=0) = 2/3 \\\n",
    "Pr(b'=1 | b=1) = 2/3\n",
    "\n",
    "Pr(PrivK=1) = 1/2(2/3 + 2/3) > 1/2  $\\rightarrow$ <b>non è perfetto!</b>"
   ]
  },
  {
   "cell_type": "markdown",
   "id": "7855c742-a8e9-4818-a202-dc1df150e783",
   "metadata": {
    "tags": []
   },
   "source": [
    "### Esercizio #3: Shift cipher with non-uniform keys\n",
    "\n",
    "P = C = K = Z<sub>26</sub>\\\n",
    "E<sub>k</sub>(x) = x + k mod 26\n",
    "   \n",
    "Gen() {let h ← {0,1} h=0 ? 25 : 0..24} &emsp; <i>1/2 probabilità che sia 25; 1/50 che sia un numero da 0 a 24</i>\n",
    "\n",
    "Pr(k=25) = 1/2\\\n",
    "Pr(k) = 1/50 &emsp;k$\\neq$25\n",
    "\n",
    "M → A : x<sub>0</sub>=0 &emsp; x<sub>1</sub>=1  \n",
    "\n",
    "<i>strategia di M</i> &emsp; b’ = y==25 ? 0 : 1\n",
    "\n",
    "Pr(b’ = 0 | b = 0) = ∑ { Pr(K=k) | E</sub>k</sub>(0) = 25 } &emsp;<i>la somma della probabilità delle chiavi che mi danno quel ciphertext con x=0</i>\\\n",
    "= Pr(K=25) = 1/2 &emsp;<i>c'è soltanto K=25</i>\n",
    "\n",
    "Pr(b' = 1 | b = 1) =  1 - Pr(b’ = 0 | b = 1) = 1 - Pr(K=24) = 1 - 1/50 = 49/50\n",
    "\n",
    "Pr(PrivK = 1) = 1/2 (1/2 + 49/50) = 74/100 $\\rightarrow$ <b>non è perfectly undistinguishable</b>"
   ]
  },
  {
   "cell_type": "markdown",
   "id": "5d9117f9-f7ad-4a89-9083-4e2e00ede533",
   "metadata": {
    "tags": []
   },
   "source": [
    "### Esercizio #4: Vigenere cipher with non-uniform keys\n",
    "\n",
    "P = C = K = Z<sup>2</sup><sub>26</sub>\\\n",
    "E<sub>k<sub>1</sub>k<sub>2</sub></sub>(x<sub>1</sub> x<sub>2</sub>) = (x<sub>1</sub> + k<sub>1</sub>)(x<sub>2</sub> + k<sub>2</sub>)\\\n",
    "Gen() {m $\\leftarrow$ {0,1} ; k1 $\\leftarrow$ 0..25; <b>if</b> m=0 <b>then</b> k2 = k1 <b>else</b> k $\\leftarrow$ 0..25 }}\n",
    "\n",
    "M $\\rightarrow$ A: &emsp; x<sub>0</sub> = aa &emsp; x<sub>1</sub> = ab \\\n",
    "A $\\rightarrow$ M: &emsp; y = y<sub>1</sub> y<sub>2</sub> = E<sub>k</sub>(x<sub>b</sub>) &emsp; b $\\leftarrow$ {0,1} \\\n",
    "<i>strategia di M:</i>&emsp; b' = y<sub>1</sub>==y<sub>2</sub> ? 0 : 1 &emsp;<i>se i due caratteri del ciphertext sono uguali, dice 0; altrimenti dice 1</i>\n",
    "\n",
    "Pr(b'=0 | b=0) &emsp; = &emsp; Pr(m=0)Pr(b'=0 | b=0,m=0) + Pr(m=1)Pr(b'=0 | b=0,m=1) &emsp; = &emsp; 1/2(Pr(b'=0 | b=0,m=0) + Pr(b'=0 | b=0,m=1)) &emsp; = &emsp; 1/2(1 + 1/26) &emsp; ≈ &emsp; 0.52;\\\n",
    "Pr(b'=1 | b=1) &emsp; = &emsp; 1 - Pr(b'=0 | b=1) &emsp; = &emsp; 1 - Pr(m=0)Pr(b'=0 | b=1,m=0) + Pr(m=1)Pr(b'=0 | b=1,m=1) &emsp; = &emsp; 1 - 1/2 (Pr(b'=0 | b=1,m=0) + Pr(b'=0 | b=1,m=1)) &emsp; = &emsp; 1 - 1/2(0 + 1/26) = 1 - 1/52 &emsp; ≈ &emsp; 0.98\n",
    "\n",
    "Pr(PrivK=1) = 1/2(Pr(b'=0 | b=0) + Pr(b'=1 | b=1)) &emsp; = &emsp; 1/2(0.52 + 0.98) &emsp; ≈ &emsp; 0.75 > 1/2  $\\rightarrow$ <b>non è perfectly indistinguishable</b>"
   ]
  },
  {
   "cell_type": "markdown",
   "id": "a0f2fb43-aeec-4b41-adf2-34aeb0cb7b4f",
   "metadata": {
    "tags": []
   },
   "source": [
    "### Esercizio #5: \n",
    "\n",
    "![Exercise_5](images/ex_5.png)\n",
    "\n",
    "(TODO)"
   ]
  },
  {
   "cell_type": "markdown",
   "id": "a1249231-2ab4-4d1e-ac84-afe5963687c1",
   "metadata": {},
   "source": [
    "### Esercizio #6\n",
    "\n",
    "P = C = K = Z<sup>2</sup><sub>26</sub>\\\n",
    "Gen() {k $\\leftarrow$ K}\n",
    "\n",
    "E<sub>k<sub>1</sub></sub><sub>k<sub>2</sub></sub></sub>(x<sub>1</sub> x<sub>2</sub>)\n",
    "\n",
    "(TODO)"
   ]
  },
  {
   "cell_type": "code",
   "execution_count": null,
   "id": "d48d8e18-af33-451e-a410-708fa9790ebb",
   "metadata": {},
   "outputs": [],
   "source": []
  }
 ],
 "metadata": {
  "kernelspec": {
   "display_name": "Python 3 (ipykernel)",
   "language": "python",
   "name": "python3"
  },
  "language_info": {
   "codemirror_mode": {
    "name": "ipython",
    "version": 3
   },
   "file_extension": ".py",
   "mimetype": "text/x-python",
   "name": "python",
   "nbconvert_exporter": "python",
   "pygments_lexer": "ipython3",
   "version": "3.10.6"
  }
 },
 "nbformat": 4,
 "nbformat_minor": 5
}
