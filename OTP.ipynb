{
 "cells": [
  {
   "cell_type": "markdown",
   "id": "041bff25-1bc7-44c5-a404-3af48fbeafcf",
   "metadata": {},
   "source": [
    "# One-time pad"
   ]
  },
  {
   "cell_type": "markdown",
   "id": "a0e79c3e-8f07-4fca-9331-1e4464aef2a6",
   "metadata": {},
   "source": [
    "P = C = K = Z<sub>2</sub><sup>n</sup>\n",
    "\n",
    "E<sub>k</sub>(x) = x XOR k \\\n",
    "D<sub>k</sub>(y) = y XOR k"
   ]
  },
  {
   "cell_type": "code",
   "execution_count": 72,
   "id": "9e6c1c1b-f7b0-49ab-a015-8bfdaae03a7c",
   "metadata": {
    "tags": []
   },
   "outputs": [],
   "source": [
    "import random\n",
    "\n",
    "def gen_rnd(n):\n",
    "    x = ''\n",
    "    for i in range(n):\n",
    "        x += str(random.randint(0,1))\n",
    "        \n",
    "    return x\n",
    "\n",
    "def xor(a,b):\n",
    "    if(len(a) != len(b)):\n",
    "        return 'Error: a and b must have the same length'\n",
    "    \n",
    "    result = ''\n",
    "    for i in range(len(a)): \n",
    "        if(a[i] == b[i]):\n",
    "            result += '0'\n",
    "        else: \n",
    "            result += '1'\n",
    "            \n",
    "    return result"
   ]
  },
  {
   "cell_type": "code",
   "execution_count": 69,
   "id": "21e80853-e750-48f5-b4ad-5d3249256055",
   "metadata": {
    "tags": []
   },
   "outputs": [
    {
     "name": "stdout",
     "output_type": "stream",
     "text": [
      "Plaintext x:  0110110011\n",
      "Key k:        1100100011\n"
     ]
    }
   ],
   "source": [
    "x = gen_rnd(10)\n",
    "k = gen_rnd(10)\n",
    "\n",
    "print(\"Plaintext x:  %s\" % x)\n",
    "print(\"Key k:        %s\" % k)"
   ]
  },
  {
   "cell_type": "code",
   "execution_count": 75,
   "id": "0dbc792d-cc5a-4d02-aea8-222a3837d3cf",
   "metadata": {
    "tags": []
   },
   "outputs": [],
   "source": [
    "def encryption(x,k):\n",
    "    return xor(x,k)\n",
    "\n",
    "def decryption(y,k):\n",
    "    return xor(y,k)"
   ]
  },
  {
   "cell_type": "code",
   "execution_count": 76,
   "id": "c4b2d3bf-f3e8-49db-9920-5022dcdc088f",
   "metadata": {
    "tags": []
   },
   "outputs": [
    {
     "name": "stdout",
     "output_type": "stream",
     "text": [
      "Ciphertext y: 1010010000\n"
     ]
    }
   ],
   "source": [
    "y = encryption(x,k)\n",
    "print(\"Ciphertext y: %s\" % y)"
   ]
  },
  {
   "cell_type": "code",
   "execution_count": 77,
   "id": "686ebc1e-6fe2-4bb8-a378-32dc812c68f2",
   "metadata": {
    "tags": []
   },
   "outputs": [
    {
     "name": "stdout",
     "output_type": "stream",
     "text": [
      "Plaintext x:  0110110011\n"
     ]
    }
   ],
   "source": [
    "x = decryption(y,k)\n",
    "print(\"Plaintext x:  %s\" % x)"
   ]
  },
  {
   "cell_type": "code",
   "execution_count": null,
   "id": "0f3facba-b9a4-4825-a4f3-a1f8dd1b942c",
   "metadata": {},
   "outputs": [],
   "source": []
  }
 ],
 "metadata": {
  "kernelspec": {
   "display_name": "Python 3 (ipykernel)",
   "language": "python",
   "name": "python3"
  },
  "language_info": {
   "codemirror_mode": {
    "name": "ipython",
    "version": 3
   },
   "file_extension": ".py",
   "mimetype": "text/x-python",
   "name": "python",
   "nbconvert_exporter": "python",
   "pygments_lexer": "ipython3",
   "version": "3.10.6"
  }
 },
 "nbformat": 4,
 "nbformat_minor": 5
}
