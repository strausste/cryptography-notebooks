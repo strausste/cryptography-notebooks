{
 "cells": [
  {
   "cell_type": "markdown",
   "id": "feb76271-0d5d-44ae-b211-08fdbfc07b55",
   "metadata": {},
   "source": [
    "# Complessità computazionale\n",
    "\n",
    "### Computabilità:\n",
    "Studia se un problema è <b>computabile</b> (o calcolabile) in maniera <b>algoritmica</b>\\\n",
    "Problemi decidibili vs problemi non decidibili (es: problema della fermata)\n",
    "\n",
    "### Complessità computazionale:\n",
    "Studia se un problema è <b>trattabile</b> (ovvero, esiste un algoritmo <b>efficiente</b>) oppure no (non trattabile).\n",
    "\n",
    "## Metriche computazionali:\n",
    "- Modello di esecuzione: <b>Macchina di Turing</b>\n",
    "- Risorsa da misurare: <b>Tempo</b>\n",
    "- Costo di utilizzo della risorsa: <b>Numero di passi della MdT</b>\n",
    "- Dimensione dell'input: <b>Numero di simboli sulla MdT</b>\n",
    "- Tipo di analisi: <b>Caso pessimo</b>"
   ]
  },
  {
   "cell_type": "markdown",
   "id": "a228bce8-c0f5-422b-9891-0039e20e5dd0",
   "metadata": {},
   "source": [
    "## Funzione costo di una MdT (deterministica)\n",
    "Sia M una MdT deterministica. \n",
    "La funzione costo f: ℕ $\\rightarrow$ ℕ è una funzione tale che:\\\n",
    "<b>per ogni</b> input x, M(x) termina in f(|x|) passi \\\n",
    "|x| : numero di celle MdT per memorizzare l'input\n"
   ]
  }
 ],
 "metadata": {
  "kernelspec": {
   "display_name": "Python 3 (ipykernel)",
   "language": "python",
   "name": "python3"
  },
  "language_info": {
   "codemirror_mode": {
    "name": "ipython",
    "version": 3
   },
   "file_extension": ".py",
   "mimetype": "text/x-python",
   "name": "python",
   "nbconvert_exporter": "python",
   "pygments_lexer": "ipython3",
   "version": "3.10.6"
  }
 },
 "nbformat": 4,
 "nbformat_minor": 5
}
