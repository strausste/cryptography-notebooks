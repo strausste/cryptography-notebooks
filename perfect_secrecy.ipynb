{
 "cells": [
  {
   "cell_type": "markdown",
   "id": "b26b2c2d-a378-4a60-a006-d0789297fc08",
   "metadata": {},
   "source": [
    "# Perfect secrecy:"
   ]
  },
  {
   "cell_type": "markdown",
   "id": "68669ddd-59ec-4f16-8a4b-3588f2bfbadc",
   "metadata": {},
   "source": [
    "Assumiamo che $\\forall$ k $\\in$ K . Pr(k) > 0 (ogni chiave abbia una probabilità non nulla)\\\n",
    "Assumiamo che K (l'insieme delle chiavi) sia finito\\\n",
    "Assumiamo che P (l'insieme dei plaintext) sia finito oppure numerabile, se P è finito, allora |P|>1\\\n",
    "Assumiamo che $\\forall$ x $\\in$ P . Pr(x) > 0\n",
    "\n",
    "La distribuzione di probabilità delle chiavi dipende dall'algoritmo Gen().\\\n",
    "La distribuzione di probabilità dei plaintext dipende dai linguaggi naturali.\\\n",
    "La distribuzione di probabilità dei ciphertext dipende dal contesto, dalla probabilità di Gen() e dall'encryption."
   ]
  },
  {
   "cell_type": "markdown",
   "id": "d81a00eb-7f4c-4705-afde-9a158fbd2721",
   "metadata": {
    "tags": []
   },
   "source": [
    "### Esiste qualche y $\\in$ C tale che Pr(C=y) = 0? "
   ]
  },
  {
   "cell_type": "markdown",
   "id": "d598f791-7c0c-457e-872b-623e35496325",
   "metadata": {},
   "source": [
    "Questo è possibile quando $\\forall$x $\\forall$k . E<sub>k</sub>(x) $\\neq$ y\n",
    "\n",
    "Per avere Pr(C=y) > 0 per ogni y $\\in$ C restringiamo l'insieme dei ciphertext: \\\n",
    "C = {E<sub>k</sub>(x) | x $\\in$ P, k $\\in$ K}"
   ]
  },
  {
   "cell_type": "markdown",
   "id": "e352342d-0b26-43d2-aa1b-7e50dcf8ecac",
   "metadata": {
    "tags": []
   },
   "source": [
    "## Definizione (Teorema di Shannon) "
   ]
  },
  {
   "cell_type": "markdown",
   "id": "7a8b0f2d-a20f-4cda-9c9a-48066da236fb",
   "metadata": {},
   "source": [
    "Uno schema (Gen, E, D) di encryption con distribuzioni di probabilità K, P, C è perfetto <b>(perfectly secret)</b> se e solo se \n",
    "$\\forall$ x $\\in$ P e $\\forall$ y $\\in$ C :\n",
    "\n",
    "    Pr(x|y) = Pr(x) \n",
    "    "
   ]
  },
  {
   "cell_type": "markdown",
   "id": "f5ae0ba1-2972-490c-97aa-581074eb0f11",
   "metadata": {},
   "source": [
    "### Esempio cifrario non perfetto: Shift cipher in ECB-mode con lunghezza 2:"
   ]
  },
  {
   "cell_type": "code",
   "execution_count": null,
   "id": "ed5f2bfd-5792-43e4-a2f3-3a2e56f52b92",
   "metadata": {},
   "outputs": [],
   "source": []
  }
 ],
 "metadata": {
  "kernelspec": {
   "display_name": "Python 3 (ipykernel)",
   "language": "python",
   "name": "python3"
  },
  "language_info": {
   "codemirror_mode": {
    "name": "ipython",
    "version": 3
   },
   "file_extension": ".py",
   "mimetype": "text/x-python",
   "name": "python",
   "nbconvert_exporter": "python",
   "pygments_lexer": "ipython3",
   "version": "3.10.6"
  }
 },
 "nbformat": 4,
 "nbformat_minor": 5
}
