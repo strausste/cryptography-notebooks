{
 "cells": [
  {
   "cell_type": "markdown",
   "id": "feb76271-0d5d-44ae-b211-08fdbfc07b55",
   "metadata": {},
   "source": [
    "# Complessità computazionale\n",
    "\n",
    "### Computabilità:\n",
    "Studia se un problema è <b>computabile</b> (o calcolabile) in maniera <b>algoritmica</b>\\\n",
    "Problemi decidibili vs problemi non decidibili (es: problema della fermata)\n",
    "\n",
    "### Complessità computazionale:\n",
    "Studia se un problema è <b>trattabile</b> (ovvero, esiste un algoritmo <b>efficiente</b>) oppure no (non trattabile).\n",
    "\n",
    "## Metriche computazionali:\n",
    "- Modello di esecuzione: <b>Macchina di Turing</b>\n",
    "- Risorsa da misurare: <b>Tempo</b>\n",
    "- Costo di utilizzo della risorsa: <b>Numero di passi della MdT</b>\n",
    "- Dimensione dell'input: <b>Numero di simboli sulla MdT</b>\n",
    "- Tipo di analisi: <b>Caso pessimo</b>"
   ]
  },
  {
   "cell_type": "markdown",
   "id": "a228bce8-c0f5-422b-9891-0039e20e5dd0",
   "metadata": {
    "jp-MarkdownHeadingCollapsed": true
   },
   "source": [
    "## Funzione costo di una MdT (deterministica)\n",
    "Sia M una MdT deterministica. \n",
    "La funzione costo f: ℕ $\\rightarrow$ ℕ è una funzione tale che:\\\n",
    "<b>per ogni</b> input x, M(x) termina in f(|x|) passi \\\n",
    "|x| : numero di celle MdT per memorizzare l'input.\\\n",
    "Diciamo che M ha <b>complessità in tempo</b> f.\n",
    "\n",
    "<b>Domanda</b>: esistono altre funzioni costo della Macchina di Turing? \\\n",
    "Risposta: Sì, la funzione f è un <b>upper bound</b>: vanno bene tutte quelle più grandi (es: complessità n<sup>2</sup> e dico n<sup>3</sup>).\n",
    "\n",
    "Quindi, f(n) <b>sovra-approssima</b> il numero di step di M su input di lunghezza n!"
   ]
  },
  {
   "cell_type": "markdown",
   "id": "d4010a86-ac5b-4413-afc7-41345bb6540f",
   "metadata": {},
   "source": [
    "## Problemi di decisione:\n",
    "\n",
    "Problemi dove la risposta è binaria: vero oppure falso (0 oppure 1).\\\n",
    "Possiamo ricondurre ogni problema a un problema decisionale basato sul <b>linguaggio</b>: una parola appartiene o no al linguaggio?\n",
    "\n",
    "La classe di complessità è un insieme (infinito) di problemi di decisione."
   ]
  },
  {
   "cell_type": "markdown",
   "id": "6e2d1721-e2ac-4572-b37b-da3a08fcae40",
   "metadata": {},
   "source": [
    "## Big-O notation:"
   ]
  },
  {
   "cell_type": "markdown",
   "id": "801c3bbe-6d72-4618-bc66-2722ff2a8105",
   "metadata": {},
   "source": [
    "La notazione Big-O fornisce una stima superiore della crescita dell'algoritmo.\\\n",
    "In altre parole, descrive il limite superiore del tempo (o dello spazio necessario) per eseguire l'algoritmo al crescere dell'input.\n",
    "\n",
    "O(g) = {f $\\in$ N $\\rightarrow$ N : $\\exists$ c,n<sub>0</sub> . $\\forall$ n > n<sub>0</sub> : f(n) ≤ c * g(n)}\n",
    "\n",
    "Per input sufficientemente grandi (n ≥ n₀), il tempo di esecuzione dell'algoritmo è limitato superiormente da una costante moltiplicata per la funzione f(n).\\\n",
    "Questo indica che l'algoritmo non richiede più tempo di quanto sia proporzionale a f(n), tenendo conto dei fattori costanti: g è il <b>limite asintotico superiore</b> della funzione f."
   ]
  },
  {
   "cell_type": "markdown",
   "id": "787f9ffc-bf08-42bc-8f47-a73db8579669",
   "metadata": {},
   "source": [
    "### Classe di complessità: TIME\n",
    "\n",
    "Una classe di complessità è un insieme di problemi di decisione.\\\n",
    "Sia g $\\in$ N $\\rightarrow$ N. La classe di complessità TIME(g) è l'insieme dei problemi di decisione che sono risolti da una Macchina di Turing con complessità in tempo f$\\in$O(g). \n",
    "\n",
    "La classe <b>non è robusta rispetto al modello di computazione</b> scelto (es. MdT mono-nastro e multi-nastro oppure MdT-deterministica e MdT <b>non</b>-deterministica).\n",
    "\n",
    "### Tesi di Church-Turing:\n",
    "\n",
    "Se un problema è umanamente calcolabile, esiste una MdT che lo risolve. $\\rightarrow$ Tutti i modelli di computazione (macchina RAM, funzioni ricorsivamente enumerabili, lambdacalcolo, MdT, etc.) sono equivalenti\n",
    "\n",
    "### Tesi di Church-Turing (estesa):\n",
    "\n",
    "Tutti i modelli computazionalmente equivalenti a una MdT (tesi Church-Turing) sono anche <b>polinomialmente equivalenti</b> alla MdT.\n",
    "\n",
    "### Classe di complessità: PTIME:\n",
    "\n",
    "PTIME è una classe <b>robusta</b>.\n",
    "\n",
    "### Modello di encoding:\n",
    "\n",
    "Il modello unario non è efficiente. Il modello binario sì.\\\n",
    "Tutti i modelli efficienti, sono polinomialmente equivalenti.\n",
    "\n",
    "### Avversari efficienti:\n",
    "\n",
    "Algoritmi con tempo <b>probabilistico polinomiale</b>: Adv $\\in$ PPTIME\n",
    "\n",
    "### Parametro di sicurezza:\n",
    "\n",
    "Lunghezza della chiave 1<sup>n</sup>."
   ]
  },
  {
   "cell_type": "markdown",
   "id": "46b38c38-3f85-4fa0-b6b6-ab818f51f94c",
   "metadata": {},
   "source": [
    "# Computational secrecy:"
   ]
  },
  {
   "cell_type": "markdown",
   "id": "85adaed9-bdae-4295-a9f0-bf9e7137dacb",
   "metadata": {},
   "source": [
    "La perfect secrecy (e indistinguishability) è irrealistica:\n",
    "Assume che M abbia <b>potenza di calcolo illimitata</b>. \\\n",
    "Richiede che l'avversario non ottenga <b>nessuna</b> informazione sul messaggio (Pr(PrivK=1) = 1/2)\n",
    "\n",
    "### Encryption scheme:\n",
    "\n",
    "Assumiamo che P = C = K = {0,1}<sup>*</sup> &emsp;<i>operiamo su stringhe di bit</i>\n",
    "\n",
    "Schema di encryption a chiave privata: (Gen, E, D)\n",
    "\n",
    "Gen -> algoritmo <b>probabilistico</b> di generazione delle chiavi: k $\\leftarrow$ Gen(1<sup>n</sup>) $\\rightarrow$ |k| ≥ n \\\n",
    "E -> algoritmo <b>probabilistico</b> di encryption: y $\\rightarrow$ E<sub>k</sub>(x) \\\n",
    "D -> algoritmo <b>deterministico</b> di decryption: x = D<sub>k</sub>(y)\n",
    "\n",
    "##### Condizione di correttezza:\n",
    "$\\forall$ n $\\in$ ℕ . $\\forall$ k $\\leftarrow$ Gen(1<sup>n</sup>) . $\\forall$ x $\\in$ {0,1}<sup>*</sup> : D<sub>k</sub>(E<sub>k</sub>(x)) = x"
   ]
  },
  {
   "cell_type": "markdown",
   "id": "219bbedb-a528-4d73-b6cc-d7bb172115be",
   "metadata": {},
   "source": [
    "#### Funzione negligible:\n",
    "\n",
    "Una funzione f $\\in$ ℕ $\\rightarrow$ ℝ<sup>+</sup> è <b>negligible</b> se &emsp; per ogni polinomio P :&emsp;  $\\exists$ n<sub>0</sub> : &emsp; $\\forall$ n > n<sub>0</sub> :&emsp;  f(n) ≤ $\\frac{1}{p(n)}$\n",
    "\n",
    "$\\frac{1}{n^k}$ <b>non</b> è negligible per nessun k\n",
    "\n",
    "f(n) = $\\frac{1}{2^n}$ invece <b>è negligible</b>"
   ]
  },
  {
   "cell_type": "code",
   "execution_count": null,
   "id": "6e113f3d-e03a-49d9-8c14-3207d27e4605",
   "metadata": {},
   "outputs": [],
   "source": []
  }
 ],
 "metadata": {
  "kernelspec": {
   "display_name": "Python 3 (ipykernel)",
   "language": "python",
   "name": "python3"
  },
  "language_info": {
   "codemirror_mode": {
    "name": "ipython",
    "version": 3
   },
   "file_extension": ".py",
   "mimetype": "text/x-python",
   "name": "python",
   "nbconvert_exporter": "python",
   "pygments_lexer": "ipython3",
   "version": "3.10.6"
  }
 },
 "nbformat": 4,
 "nbformat_minor": 5
}
