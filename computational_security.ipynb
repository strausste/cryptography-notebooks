{
 "cells": [
  {
   "cell_type": "markdown",
   "id": "feb76271-0d5d-44ae-b211-08fdbfc07b55",
   "metadata": {},
   "source": [
    "# Complessità computazionale\n",
    "\n",
    "### Computabilità:\n",
    "Studia se un problema è <b>computabile</b> (o calcolabile) in maniera <b>algoritmica</b>\\\n",
    "Problemi decidibili vs problemi non decidibili (es: problema della fermata)\n",
    "\n",
    "### Complessità computazionale:\n",
    "Studia se un problema è <b>trattabile</b> (ovvero, esiste un algoritmo <b>efficiente</b>) oppure no (non trattabile).\n",
    "\n",
    "## Metriche computazionali:\n",
    "- Modello di esecuzione: <b>Macchina di Turing</b>\n",
    "- Risorsa da misurare: <b>Tempo</b>\n",
    "- Costo di utilizzo della risorsa: <b>Numero di passi della MdT</b>\n",
    "- Dimensione dell'input: <b>Numero di simboli sulla MdT</b>\n",
    "- Tipo di analisi: <b>Caso pessimo</b>"
   ]
  },
  {
   "cell_type": "markdown",
   "id": "a228bce8-c0f5-422b-9891-0039e20e5dd0",
   "metadata": {
    "jp-MarkdownHeadingCollapsed": true
   },
   "source": [
    "## Funzione costo di una MdT (deterministica)\n",
    "Sia $M$ una MdT deterministica. \n",
    "La funzione costo $f$: ℕ $\\rightarrow$ ℕ è una funzione tale che:\\\n",
    "<b>per ogni</b> input $x, \\quad M(x)$ termina in $f(|x|)$ passi \\\n",
    "$|x|$ : numero di celle MdT per memorizzare l'input.\\\n",
    "Diciamo che $M$ ha <b>complessità in tempo</b> $f$.\n",
    "\n",
    "<b>Domanda</b>: esistono altre funzioni costo della Macchina di Turing? \\\n",
    "Risposta: Sì, la funzione f è un <b>upper bound</b>: vanno bene tutte quelle più grandi (es: complessità $n^2$ e dico $n^3$).\n",
    "\n",
    "Quindi, $f(n)$ <b>sovra-approssima</b> il numero di step di $M$ su input di lunghezza $n$."
   ]
  },
  {
   "cell_type": "markdown",
   "id": "d4010a86-ac5b-4413-afc7-41345bb6540f",
   "metadata": {},
   "source": [
    "## Problemi di decisione:\n",
    "\n",
    "Problemi dove la risposta è binaria: vero oppure falso (0 oppure 1).\\\n",
    "Possiamo ricondurre ogni problema a un problema decisionale basato sul <b>linguaggio</b>: una parola appartiene o no al linguaggio?\n",
    "\n",
    "La classe di complessità è un insieme (infinito) di problemi di decisione."
   ]
  },
  {
   "cell_type": "markdown",
   "id": "6e2d1721-e2ac-4572-b37b-da3a08fcae40",
   "metadata": {},
   "source": [
    "## Big-O notation:"
   ]
  },
  {
   "cell_type": "markdown",
   "id": "801c3bbe-6d72-4618-bc66-2722ff2a8105",
   "metadata": {},
   "source": [
    "La notazione Big-O fornisce una stima superiore della crescita dell'algoritmo.\\\n",
    "In altre parole, descrive il limite superiore del tempo (o dello spazio necessario) per eseguire l'algoritmo al crescere dell'input.\n",
    "\n",
    "$O(g) = {f \\in N \\rightarrow N, \\quad \\exists c,n_0 : \\quad \\forall n > n_0  \\quad f(n) ≤ c * g(n)}$\n",
    "\n",
    "Per input sufficientemente grandi (n ≥ n₀), il tempo di esecuzione dell'algoritmo è limitato superiormente da una costante moltiplicata per la funzione f(n).\\\n",
    "Questo indica che l'algoritmo non richiede più tempo di quanto sia proporzionale a f(n), tenendo conto dei fattori costanti: g è il <b>limite asintotico superiore</b> della funzione f."
   ]
  },
  {
   "cell_type": "markdown",
   "id": "787f9ffc-bf08-42bc-8f47-a73db8579669",
   "metadata": {},
   "source": [
    "### Classe di complessità: TIME\n",
    "\n",
    "Una classe di complessità è un insieme di problemi di decisione.\\\n",
    "Sia $g \\in N \\rightarrow N$. La classe di complessità $TIME(g)$ è l'insieme dei problemi di decisione che sono risolti da una Macchina di Turing con complessità in tempo $f \\in O(g)$. \n",
    "\n",
    "La classe <b>non è robusta rispetto al modello di computazione</b> scelto (es. MdT mono-nastro e multi-nastro oppure MdT-deterministica e MdT <b>non</b>-deterministica).\n",
    "\n",
    "### Tesi di Church-Turing:\n",
    "\n",
    "Se un problema è umanamente calcolabile, esiste una MdT che lo risolve. $\\rightarrow$ Tutti i modelli di computazione (macchina RAM, funzioni ricorsivamente enumerabili, lambdacalcolo, MdT, etc.) sono equivalenti\n",
    "\n",
    "### Tesi di Church-Turing (estesa):\n",
    "\n",
    "Tutti i modelli computazionalmente equivalenti a una MdT (tesi Church-Turing) sono anche <b>polinomialmente equivalenti</b> alla MdT.\n",
    "\n",
    "### Classe di complessità: PTIME:\n",
    "\n",
    "PTIME è una classe <b>robusta</b>.\n",
    "\n",
    "### Modello di encoding:\n",
    "\n",
    "Il modello unario non è efficiente. Il modello binario sì.\\\n",
    "Tutti i modelli efficienti, sono polinomialmente equivalenti.\n",
    "\n",
    "### Avversari efficienti:\n",
    "\n",
    "Algoritmi con tempo <b>probabilistico polinomiale</b>: $Adv \\in PPTIME$\n",
    "\n",
    "### Parametro di sicurezza:\n",
    "\n",
    "Lunghezza della chiave: $1^n$."
   ]
  },
  {
   "cell_type": "markdown",
   "id": "46b38c38-3f85-4fa0-b6b6-ab818f51f94c",
   "metadata": {},
   "source": [
    "# Computational secrecy:"
   ]
  },
  {
   "cell_type": "markdown",
   "id": "85adaed9-bdae-4295-a9f0-bf9e7137dacb",
   "metadata": {},
   "source": [
    "La perfect secrecy (e indistinguishability) è irrealistica:\n",
    "Assume che $M$ abbia <b>potenza di calcolo illimitata</b>. \\\n",
    "Richiede che l'avversario non ottenga <b>nessuna</b> informazione sul messaggio: $\\quad Pr(PrivK=1) = 1/2$\n",
    "\n",
    "### Encryption scheme:\n",
    "\n",
    "Assumiamo che $P = C = K = \\{0,1\\}^*$ &emsp;<i>operiamo su stringhe di bit</i>\n",
    "\n",
    "Schema di encryption a chiave privata: $(Gen, E, D)$\n",
    "\n",
    "$Gen$ -> algoritmo <b>probabilistico</b> di generazione delle chiavi: $k \\leftarrow Gen(1^n) \\quad |k| ≥ n $\\\n",
    "$E$ -> algoritmo <b>probabilistico</b> di encryption: $y \\rightarrow E_k(x)$ \\\n",
    "$D$ -> algoritmo <b>deterministico</b> di decryption: $x = D_k(y)$\n",
    "\n",
    "##### Condizione di correttezza:\n",
    "$ \\forall n \\in ℕ , \\quad \\forall k \\leftarrow Gen(1^n), \\quad \\forall x \\in \\{0,1\\}^* : \\quad D_k(E_k(x)) = x $"
   ]
  },
  {
   "cell_type": "markdown",
   "id": "219bbedb-a528-4d73-b6cc-d7bb172115be",
   "metadata": {},
   "source": [
    "#### Funzione negligible:\n",
    "\n",
    "Una funzione $f \\in ℕ \\rightarrow ℝ^+$ è <b>negligible</b> se, per ogni polinomio $P : \\quad  \\exists n_0 : \\quad \\forall n > n_0 \\quad  f(n) ≤ \\frac{1}{p(n)}$\n",
    "\n",
    "$\\frac{1}{n^k} \\quad$ <b>non</b> è negligible per nessun $k$\n",
    "\n",
    "$f(n) = \\frac{1}{2^n} \\quad$ invece <b>è negligible</b>"
   ]
  },
  {
   "cell_type": "markdown",
   "id": "a5f169b2-02d8-4576-aceb-3836e513c667",
   "metadata": {},
   "source": [
    "### Computationally secret:\n",
    "\n",
    "Uno schema di cifratura è <b>computazionalmente sicuro</b> per ogni avversario PPTIME se la probabilità di riuscita dell'attacco è <b>negligible</b>."
   ]
  },
  {
   "cell_type": "markdown",
   "id": "8f3426de-cb8f-4bdf-b39b-1cdbbdf2aa61",
   "metadata": {},
   "source": [
    "## Indistinguishability experiment under EAV:"
   ]
  },
  {
   "cell_type": "markdown",
   "id": "054883d0-faa1-4773-b08a-1940b7c38830",
   "metadata": {},
   "source": [
    "$PrivK^{eav}_{M,π}$\n",
    "\n",
    "1. $M \\rightarrow A : \\quad x_0, x_1 \\quad \\quad |x_0| = |x_1| \\quad$ <i>attaccante $M$ invia due plaintext ad $A$ <b>di dimensione uguale</b></i>\n",
    "2. $A : \\quad k \\leftarrow Gen(1^n) \\quad$ <i>A genera una chiave con l'algoritmo</i> $Gen() \\in π$, $ \\ M$ conosce la lunghezza $1^n$\\\n",
    "   &emsp;$\\quad \\quad b \\leftarrow \\{0, 1\\} \\quad$ <i>A genera un bit $b$ <b>uniformemente random<b></i>\n",
    "3. $A \\rightarrow M : \\quad y \\leftarrow E_k(x_b) \\quad$ <i>$A$ invia ad $M$ un ciphertext ottenuto da uno dei 2 plaintext (scelto in base a <b>b</b>)</i>\n",
    "4. $M: \\quad b_m \\leftarrow \\quad ... \\quad \\quad$ <i>M vuole calcolare $b_m$ in modo che $b_m=b$ (vuole indovinare $b$)</i>\n",
    "\n",
    "L'esperimento ha successo $PrivK^{eav}_{M,π}(n)=1 \\quad se \\quad b_m=b$\n",
    "\n",
    "$Pr(PrivK^{eav}_{M,π}(n)=1) = Pr(b=0)Pr(b_m=0 | b=0) + Pr(b=1)Pr(b_m=1 | b=1)$\n",
    "\n",
    "$π$ è <b>computationally secret</b> rispetto a $n$ se: $\\ \\forall M \\in PPTIME \\ \\ Pr(PrivK^{eav}_{M,π}=1) = 1/2 + f(n) \\ \\ $ dove $f(n)$ è <b>negligible</B> "
   ]
  },
  {
   "cell_type": "markdown",
   "id": "d66fd8dc-e165-42b6-9fdb-9516d060805c",
   "metadata": {},
   "source": [
    "### Esempio (Quasi-OTP)\n",
    "\n",
    "Come l'OTP, ma esclude la chiave $0^n$ durante la generazione della chiave in $Gen(1^n)$\n",
    "\n",
    "##### Perfect secrecy (definizione):\n",
    "\n",
    "$x=0^n \\quad y=0^n$\\\n",
    "$Pr(x|y) = 0 \\neq Pr(x) > 0 \\rightarrow$ non è perfetto\n",
    "\n",
    "##### Indistinguishability experiment:\n",
    "\n",
    "$M: x_0 = 0^n \\quad x_1 = 1^n$\\\n",
    "$M: b_m = \\ (y==0) \\ ? \\ 1 : \\ 0$\n",
    "\n",
    "$Pr(b_m=0 | b=0) = 1$ \n",
    "$Pr(b_m=1 | b=1) = \\frac{1}{2^n-1}$\n",
    "\n",
    "$[...]$ non è perfectly indistinguishable $\\rightarrow$ non è perfetto\n",
    "\n",
    "##### Indistinguishability experiment under EAV (computational secrecy):\n",
    "\n",
    "$Pr(PrivK^{eav}_{M,π}=1) = 1/2 + \\frac{1}{2^n-1}\\frac{1}{2}$\n",
    "\n",
    "$\\frac{1}{2^n-1}\\frac{1}{2}$ <b>è negligible</b>\n",
    "\n",
    "##### Osservazioni:\n",
    "\n",
    "- Bisognerebbe dimostrare che non esistano attaccanti più efficienti di questo\n",
    "- Le chiavi sono ancora lunghe come i plaintext\n",
    "- Stiamo supponendo soltanto attaccante EAV (ciphertext only attack)"
   ]
  },
  {
   "cell_type": "markdown",
   "id": "9d086307-134f-46b7-9bbb-7e7e2903809f",
   "metadata": {},
   "source": [
    "## Teorema:\n",
    "\n",
    "Se $π$ è <b>perfectly secret</b> allora $π$ è anche <b>computationally secret</b> (under EAV). Ma il viceversa non è necessariamente vero."
   ]
  },
  {
   "cell_type": "markdown",
   "id": "79b09c27-38f8-4c83-9e17-8e645db4db3c",
   "metadata": {},
   "source": [
    "### Esercizio:\n",
    "\n",
    "Dimostra che il seguente cifrario <b>non</b> è EAV-sicuro:\n",
    "\n",
    "$|P| = |C| = |K| = \\{0,1\\}^n$\n",
    "\n",
    "<div>\n",
    "<img src=\"images/eav_security_ex1.png\" width=\"500\"/>\n",
    "</div>\n",
    "\n",
    "Se $b_p$ è 0 : $k$ è completamente random\\\n",
    "Se $b_p$ è 1 : $k$ è 0 oppure 1 ripetuto $n$ volte in base a $k_1$ (generato random, ma poi ripetuto $n$ volte)\n",
    "\n",
    "$M: \\ \\ x_0 = 0^n \\quad x_1 = 0^{n-1}1$\\\n",
    "$M: \\ \\ b_m = \\ \\ (y_1 \\ == \\ y_2 == \\ \\ ... \\ \\ == y_n) \\ \\ ? \\ \\ 0 \\ \\ : \\ \\ 1 \\quad$ <i> nelle slides è il contrario, perchè?</i>\n",
    "\n",
    "$Pr(PrivK(n)=1) = 1/2(Pr(b_m=0 | b=0) + Pr(b_m=1 | b=1))$\n",
    "\n",
    "$Pr(b_m = 0 | b = 0) = Pr(bit \\ \\ siano \\ \\ uguali \\ \\ | \\ x=0^n) = Pr(k = 0^n \\ or \\ k = 1^n) = Pr(b_p=1) = 1/2 \\quad$\\\n",
    "$Pr(b_m = 1 | b = 1) = Pr(bit \\ \\ non \\ \\ siano \\ \\ uguali \\ \\ | \\ x=0^{n-1}1) = Pr(k \\neq 1^{n-1}0 \\ \\ and \\ \\ k \\neq 0^{n-1}1) = 1 - \\frac{1}{2^n-2}$ \n",
    "\n",
    "$Pr(PrivK(n)=1) = (\\frac{1}{2}* \\frac{1}{2}) +(\\frac{1}{2}(1 - \\frac{1}{2^n-2})) = (\\frac{1}{4}) + (\\frac{1}{2}(1 - \\frac{1}{2^n-2})) > 1/2 + negl(n) \\rightarrow$ <b>non</b> è eav-sicuro"
   ]
  },
  {
   "cell_type": "markdown",
   "id": "619ae511-28d7-4271-bd9b-6edfd3c62816",
   "metadata": {},
   "source": [
    "### Esercizio (two-time pad):\n",
    "\n",
    "$Gen(1^n) = \\{h \\leftarrow\\{0,1\\}^m; \\ k:=h h\\} \\quad con \\ (n=2m)\\quad \\quad$ <i>metà chiave random ripetuta</i>\\\n",
    "$E_k(x) = x ⊕ k$\n",
    "\n",
    "$M: \\ \\ x_0=0^m 0^m \\quad x_1=0^m 1^m$\\\n",
    "$M: \\ \\ b_m \\ =\\ (y[1...m]==y[m+1...m])\\ ? \\ 0 : \\ 1$\n",
    "\n",
    "$Pr(PrivK(n)=1) = 1/2(Pr(b_m=0 | b=0) + Pr(b_m=1 | b=1))$\n",
    "\n",
    "$Pr(b_m = 0 | b = 0) = Pr(due \\ \\ metà \\ \\ uguali \\ \\ | \\ x=0^m0^m) = 1$\\\n",
    "$Pr(b_m = 1 | b = 1) = Pr(due \\ \\ metà \\ \\ diverse \\ \\ | \\ x=0^m1^m) = Pr(k \\neq 0^m 1^m \\ \\ and \\ \\ k \\neq 1^m 0^m) = 1 - \\frac{1}{2^n-2}$ \n",
    "\n",
    "<b>Non</b> è eav-sicuro."
   ]
  },
  {
   "cell_type": "markdown",
   "id": "4bab3d89-4c55-4b10-86f2-ed85f8ac95c9",
   "metadata": {},
   "source": [
    "## Sicurezza (EAV) rispetto a encryption multiple:\n",
    "\n",
    "$1. \\ A: \\quad b \\leftarrow \\{0,1\\}$\\\n",
    "$2. \\ A: \\quad k \\leftarrow Gen(1^n)$\\\n",
    "$3. \\ M \\rightarrow A: \\quad x_0 = (x_0^0, x_0^1, ..., x_0^t) \\quad x_1 = (x_1^0, x_1^1, ..., x_1^t) \\ \\ con \\ \\ |x_0^i| = |x_1^i| \\ \\ \\forall i \\leq t$\\\n",
    "$4. \\ A \\rightarrow M: \\quad y = E_k(x_b) = E_k(x_b^0), ... , E_k(x_b^t) \\quad$ <i>nota: k è sempre la stessa</i>\\\n",
    "$5. \\ M: \\quad b_m = \\ ...$\n",
    "\n",
    "$PrivK^{mult}_{M,π}(n) = 1 \\ se \\ b_m=b$ "
   ]
  },
  {
   "cell_type": "markdown",
   "id": "0e2704a6-3b17-4efa-bc83-950b1b74e469",
   "metadata": {},
   "source": [
    "### Teorema:\n",
    "\n",
    "$π$ è multi-eav sicuro $\\rightarrow$ $π$ è eav-sicuro"
   ]
  },
  {
   "cell_type": "markdown",
   "id": "b4b72917-5636-4957-a07f-15fbab75632b",
   "metadata": {},
   "source": [
    "### Sicurezza OTP rispetto a multiple encryptions:\n",
    "\n",
    "$Gen(1^n)=\\{\\{0,1\\}^n\\}$\\\n",
    "$E_k(x) = x ⊕ k$\\\n",
    "$D_k(y) = y ⊕ k$\n",
    "\n",
    "$M: \\ \\ x_0=(0^n, \\ \\ 1^n) \\quad x_1=(0^n, \\ \\ 0^n)$\\\n",
    "$M: \\ \\ b_m \\ =\\ (y^0 == y^1)\\ ? \\ 1 : \\ 0$\n",
    "\n",
    "$Pr(b_m = 0 | b = 0) = 1$\\\n",
    "$Pr(b_m = 1 | b = 1) = 1$ \n",
    "\n",
    "$Pr(PrivK^{mult}_{M,π}(n) = 1) = 1 \\rightarrow$ vince sempre \n",
    "\n",
    "Pur essendo pefectly secret (e quindi EAV-sicuro), l'OTP <b>non è sicuro</b> alle multiple encryptions: \\\n",
    "Questo perchè l'encryption $E_k$ è <b>deterministico</b> e non probabilistico."
   ]
  },
  {
   "cell_type": "markdown",
   "id": "b185fdfd-ca76-463d-9855-f29c79e6f8e4",
   "metadata": {},
   "source": [
    "## CPA-security:\n",
    "\n",
    "Ricordiamo i poteri dell'attaccante: \n",
    "\n",
    "+ Ciphertext-only attack: \\\n",
    "    $M$ conosce soltanto il ciphertext\n",
    "+ KPA: Known Plaintext Attack: \\\n",
    "    $M$ conosce delle coppie $x\\ $ e $\\ y$ che sono state cifrate con chiave $\\ k\\ $ (la chiave ovviamente non la conosce)\n",
    "+ <b>CPA: Chosen Plaintext Attack: $\\leftarrow$ </b> \\\n",
    "    $M$ crea delle coppie $(x,y)$. Ha accesso alla funzione di encryption $E_k(x)\\ $ <i>(oracle access)</i>\n",
    "+ CCA: Chosen Ciphertext Attack: \\\n",
    "    $M$ ora ha accesso anche alla funzione di decryption $D_k(y)\\ $ <i>(oracle access)</i>\n",
    "\n",
    "$CPA: \\quad M \\ $ adesso ha <b>oracle access</b> alla funzione di encryption $E_k \\quad$ ($k$ è fissato, ma $M$ non lo conosce!)\n",
    "\n",
    "$1. \\ A: \\quad b \\leftarrow \\{0,1\\}$\\\n",
    "$2. \\ A: \\quad k \\leftarrow Gen(1^n)$\\\n",
    "$3. \\ M \\rightarrow A: \\quad x_0,x_1 \\in \\{0,1\\}^* \\ \\ s.t. \\ \\ |x_0| = |x_1| \\quad$ $M$ ha oracle access a $E_k$\\\n",
    "$4. \\ A \\rightarrow M: \\quad y = E_k(x_b) \\quad$ $M$ ha oracle access a $E_k$\\\n",
    "$5. \\ M: \\quad b_m = \\ ...$\n",
    "\n",
    "$PrivK^{cpa}_{M,π}(n) = 1 \\ \\ if \\ \\ b_m = b ,\\ \\ else \\ \\ 0$\n",
    "\n",
    "$π$ è <b>computationally secret rispetto a CPA</b> se: \\\n",
    "$\\ \\forall M \\in PPTIME \\ \\ Pr(PrivK^{cpa}_{M,π}=1) = 1/2 + negl(n)$ "
   ]
  },
  {
   "cell_type": "markdown",
   "id": "f9e72015-d373-4f90-995e-108d737449f9",
   "metadata": {},
   "source": [
    "### Teorema:\n",
    "\n",
    "$π$ è CPA-sicuro $\\rightarrow$ $π$ multi-CPA sicuro $\\rightarrow$ $π$ è eav-sicuro"
   ]
  },
  {
   "cell_type": "markdown",
   "id": "868793a3-b29c-47f4-a358-987669b88fed",
   "metadata": {},
   "source": [
    "### Se $E_k$ è deterministica:\n",
    "\n",
    "$1. \\ A: \\quad b \\leftarrow \\{0,1\\}$\\\n",
    "$2. \\ A: \\quad k \\leftarrow Gen(1^n)$\\\n",
    "$3. \\ M \\rightarrow A: \\quad x_0,x_1 \\in \\{0,1\\}^* \\ \\ s.t. \\ \\ |x_0| = |x_1|$\\\n",
    "$4. \\ A \\rightarrow M: \\quad y = E_k(x_b)$\n",
    "\n",
    "$M$ usa oracle access a $E_k$:\\\n",
    "$M \\rightarrow A: \\quad x_0$\\\n",
    "$A \\rightarrow M: \\quad y' = E_k(x_0)$\n",
    "\n",
    "$5. \\ M: \\quad b_m = \\ \\ \\{0 \\ \\ if \\ y=y' \\ \\ else \\ \\ 1 \\}$\n",
    "\n",
    "$M$ sfrutta il <b>determinismo</b> di $E_k$ e <b>indovina sempre</b> grazie all'<b>oracle</b>\n",
    "\n",
    "$Pr(PrivK^{cpa}_{M,π}(n) = 1) = 1$\n",
    "\n",
    "### Teorema:\n",
    "\n",
    "Se $E_k$ è deterministica $\\rightarrow$ $π$ <b>non è</b> CPA-sicuro"
   ]
  },
  {
   "cell_type": "code",
   "execution_count": null,
   "id": "cb7784ef-f86b-4ac1-8d7f-4d093bcbb9ed",
   "metadata": {},
   "outputs": [],
   "source": []
  }
 ],
 "metadata": {
  "kernelspec": {
   "display_name": "Python 3 (ipykernel)",
   "language": "python",
   "name": "python3"
  },
  "language_info": {
   "codemirror_mode": {
    "name": "ipython",
    "version": 3
   },
   "file_extension": ".py",
   "mimetype": "text/x-python",
   "name": "python",
   "nbconvert_exporter": "python",
   "pygments_lexer": "ipython3",
   "version": "3.10.6"
  }
 },
 "nbformat": 4,
 "nbformat_minor": 5
}
