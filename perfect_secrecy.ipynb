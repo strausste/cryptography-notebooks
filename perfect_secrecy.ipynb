{
 "cells": [
  {
   "cell_type": "markdown",
   "id": "b26b2c2d-a378-4a60-a006-d0789297fc08",
   "metadata": {},
   "source": [
    "# Perfect secrecy:"
   ]
  },
  {
   "cell_type": "markdown",
   "id": "68669ddd-59ec-4f16-8a4b-3588f2bfbadc",
   "metadata": {},
   "source": [
    "Assumiamo che $ \\forall k \\in K : Pr(k) > 0 \\quad$ <i>ogni chiave abbia una probabilità non nulla</i>\\\n",
    "Assumiamo che $K,$ <i> l'insieme delle chiavi, sia finito</i>\\\n",
    "Assumiamo che $P,$ <i> l'insieme dei plaintext, sia finito oppure numerabile.</i> Se $P$ è finito, allora $|P|>1$\\\n",
    "Assumiamo che $\\forall x \\in P : \\quad Pr(x) > 0$\n",
    "\n",
    "La distribuzione di probabilità delle chiavi dipende dall'algoritmo $Gen()$.\\\n",
    "La distribuzione di probabilità dei plaintext dipende dai linguaggi naturali.\\\n",
    "La distribuzione di probabilità dei ciphertext dipende dal contesto, dalla probabilità di $Gen()$ e dall'encryption."
   ]
  },
  {
   "cell_type": "markdown",
   "id": "d81a00eb-7f4c-4705-afde-9a158fbd2721",
   "metadata": {
    "tags": []
   },
   "source": [
    "### Esiste qualche $y \\in C$ tale che $Pr(C=y) = 0$? "
   ]
  },
  {
   "cell_type": "markdown",
   "id": "d598f791-7c0c-457e-872b-623e35496325",
   "metadata": {},
   "source": [
    "Questo è possibile quando $\\forall x,\\forall k : \\quad E_k(x) \\neq y$\n",
    "\n",
    "Per avere $Pr(C=y) > 0$ per ogni $y \\in C$ restringiamo l'insieme dei ciphertext: \\\n",
    "$C = \\{E_k(x) \\quad|\\quad x \\in P, k \\in K\\}$"
   ]
  },
  {
   "cell_type": "markdown",
   "id": "e352342d-0b26-43d2-aa1b-7e50dcf8ecac",
   "metadata": {
    "tags": []
   },
   "source": [
    "## Definizione:"
   ]
  },
  {
   "cell_type": "markdown",
   "id": "7a8b0f2d-a20f-4cda-9c9a-48066da236fb",
   "metadata": {},
   "source": [
    "Uno schema $(Gen, E, D)$ di encryption con distribuzioni di probabilità $K$, $P$, $C$ \n",
    "\n",
    "è perfetto <b>(perfectly secret)</b>$ \\iff \\forall x \\in P, \\quad \\forall y \\in C :\\quad \\quad Pr(x|y) = Pr(x)$ \n",
    "    "
   ]
  },
  {
   "cell_type": "markdown",
   "id": "c1510e7e-dbb3-413e-a73b-4d467754d33e",
   "metadata": {
    "tags": []
   },
   "source": [
    "### Esempio cifrario non perfetto: Shift cipher in ECB-mode con lunghezza 2:\n",
    "$P = C = Z_{26}^{2}$ \\\n",
    "$Z_{26} \\quad$ <i>la chiave è un singolo carattere e questo viene usato per ogni carattere del plaintext</i>\n",
    "\n",
    "$Gen() = \\{k \\leftarrow K\\} \\quad$ <i>chiavi uniformemente distribuite</i>\\\n",
    "$E_k(x_1 x_2) = (x_1+k \\ \\ \\ \\ x_2+k)$\\\n",
    "$D_k(y_1 y_2) = (y_1-k \\ \\ \\ \\ y_2-k)$\n",
    "\n",
    "#### È perfetto (perfectly secret)?\n",
    "La congettura è che non sia perfetto. Dimostriamo allora che <b>non</b> è perfetto: \\\n",
    "La perfect secrecy dice: $\\ \\ \\forall x \\in P, \\ \\ \\forall y \\in C: \\ \\ Pr(x|y) = Pr(x)$\\\n",
    "La negazione della perfect secrecy è: $\\ \\ \\exists x \\in P, \\ \\ \\exists y \\in C: \\ \\ Pr(x|y) \\neq Pr(x)$\n",
    "\n",
    "Abbiamo assunto $Pr(x) > 0$, quindi per trovare una $Pr(x|y)$ che sicuramente sia diversa da $Pr(x)>0$, cerchiamo una $Pr(x|y) = 0$\n",
    "\n",
    "Prendiamo: \\\n",
    "$x = (0, 0)$ \\\n",
    "È <b>impossibile</b> avere, <i> per esempio, </i> $y = (0, 1)$ con $x = (0, 0)$ visto che <b> la chiave è la stessa </b> per ogni carattere del plaintext.\\\n",
    "$E_k(x) = (0+k,\\ 0+k) = (k, k) \\neq (0,1)$\\\n",
    "$\\nexists k  \\in K: \\ \\  E_k(x)=y$\\\n",
    "Abbiamo trovato $x, y$ tali che $Pr(x|y) \\neq Pr(x)$ possiamo allora dire che il cifrario <b>non</b> è perfetto "
   ]
  },
  {
   "cell_type": "markdown",
   "id": "686b1120-3652-43aa-9554-df6ff2651f35",
   "metadata": {
    "tags": []
   },
   "source": [
    "### Esempio cifrario non perfetto: Shift cipher su singolo carattere, ma con lo spazio delle chiavi inferiore all'insieme dei plaintext\n",
    "\n",
    "$P = C = Z_{26}$ \\\n",
    "$K = Z_4$ \n",
    "\n",
    "$Gen() = \\{k \\leftarrow K\\} \\quad$ <i>chiavi uniformemente distribuite</i>\\\n",
    "$E_k(x) = x+k$ \\\n",
    "$D_k(y) = y-k$\n",
    "\n",
    "#### È perfetto (perfectly secret)?\n",
    "La congettura è che non sia perfetto: \\\n",
    "$\\exists x \\in P,\\ \\ \\exists y \\in C: \\ \\ Pr(x|y) \\neq Pr(x)$ \n",
    "\n",
    "Prendiamo: \\\n",
    "$x = 0$ \\\n",
    "$y = A \\ \\ $ <i> oppure 10 in $Z_{16}$ </i>\\\n",
    "$E_{\\mathbf{K}}(x) = \\{E_k(x) \\ : \\ k \\in K\\} \\ = \\ \\{E_0(x) \\ E_1(x) \\ E_2(x) \\ E_3(x)\\} \\ \\ $ <i>tutte le possibili encryption di $x$</i>\\\n",
    "$E_{\\mathbf{K}}(0) = \\{0 \\ 1 \\ 2 \\ 3\\}$\\\n",
    "$y = A \\notin E_{\\mathbf{K}}(0) = \\{0 \\ 1 \\ 2 \\ 3\\}$\n",
    "\n",
    "$Pr(x|y) = 0 \\neq Pr(x) > 0$ <i> quindi il cifrario <b>non</b> è perfetto </i> perchè lo spazio delle chiavi è più piccolo dell'insieme dei plaintext. Per essere perfetto dovrebbe avere lo spazio delle chiavi grande almeno quanto lo spazio dei plaintext <i>(condizione necessaria ma non sufficiente)</i>.\n",
    "\n",
    "\n"
   ]
  },
  {
   "cell_type": "markdown",
   "id": "c8cec0a5-f9ff-45c7-84f8-4e87eaa4f0a5",
   "metadata": {},
   "source": [
    "## Teorema di Shannon\n",
    "\n",
    "Uno schema di encryption con $|P| = |C| = |K|$ è perfetto sse:\n",
    "\n",
    "1. $\\forall x \\in P \\quad \\forall y \\in C \\quad \\exists! k \\in K : \\quad E_k(x) = y \\ \\ $ <i><b>un'unica chiave</b> che dia quel ciphertext dato quel plaintext</i>\n",
    "2. $\\forall k \\in K: \\quad Pr(k) = \\frac{1}{|K|} \\ \\ $ <i> chiavi uniformemente distribuite</i>"
   ]
  },
  {
   "cell_type": "markdown",
   "id": "8f9a8c0d-a873-4511-9a63-a652e830ae4a",
   "metadata": {},
   "source": [
    "### Lemma:\n",
    "\n",
    "$π$ schema di cifratura.\\\n",
    "$P$ insieme plaintexts. \\\n",
    "$K$ insieme delle chiavi.\n",
    "\n",
    "Se $π$ è perfetto, allora $|P| ≤ |K|$\n",
    "\n",
    "### Dimostrazione:\n",
    "\n",
    "Per assurdo, supponiamo che $|K| < |P|$.\n",
    "\n",
    "Dal momento che $E_k \\ $ è iniettiva, allora $|P| ≤ |C|$\n",
    "\n",
    "Scegliamo un $x \\in P$, per ipotesi: $Pr(x) > 0$.\n",
    "\n",
    "$|E_{\\mathbf{K}}(x)| = \\{E_k(x)\\ | \\ k \\in \\mathbf{K}\\}\\ \\ $ <i>encryption per ogni chiave </i>\n",
    "\n",
    "$|E_{\\mathbf{K}}(x)| \\leq |K| \\lt |P| \\leq |C|$\\\n",
    "$|K| < |P| \\ \\ $ <i>ipotesi per assurdo</i>\\\n",
    "$|P| \\leq |C| \\ \\ $ <i>ipotesi iniettività</i>\n",
    "\n",
    "Quindi: $\\exists y \\in C\\ $ and $\\ y \\notin E_{\\mathbf{K}}(x)$\n",
    "\n",
    "$Pr(x|y) = 0 < Pr(x) \\rightarrow$ $π$ <b>non è perfetto</b>."
   ]
  },
  {
   "cell_type": "markdown",
   "id": "3fa470f2-60cf-4083-8e3d-cf564554c35e",
   "metadata": {
    "tags": []
   },
   "source": [
    "## Esercizi"
   ]
  },
  {
   "cell_type": "markdown",
   "id": "f48bcf69-e2a4-420c-8a47-9a93df966b7f",
   "metadata": {},
   "source": [
    "### Esercizio #1: \n",
    "\n",
    "$P = \\bigcup\\limits_{l \\in 1..n }\\{0,1\\}^l\\ \\ $ <i>$n$ è il limite superiore</i>\\\n",
    "$Gen() = \\{k \\leftarrow \\{0,1\\}^n\\} \\ \\ $<i>chiavi equiprobabili</i>\\\n",
    "$E_k(x) = k_{1..|x|} ⊕ x  \\ \\ $  <i>taglia $k$ alla lunghezza di $x$\n",
    "\n",
    "L'encryption rivela la lunghezza del messaggio: l'attaccante sceglie $x_0=0 \\ \\ x_1=00 \\ $ e vince sempre: $Pr(PrivK^{eav}_{M,π} = 1) = 1$\n",
    "\n"
   ]
  },
  {
   "cell_type": "markdown",
   "id": "cb5abc97-63b6-4970-bf21-4ea77cda4e2e",
   "metadata": {
    "tags": []
   },
   "source": [
    "### Esercizio #2.1\n",
    "\n",
    "$P = 0..1$ \\\n",
    "$C = 0..2$ \\\n",
    "$Gen() = \\{k \\leftarrow 0..1\\}$ \\\n",
    "$E_k(x) = x + k \\ \\ mod_3$\n",
    "\n",
    "$Pr(0 | 2) = 0 \\neq Pr(0) \\rightarrow$ <b>non è perfetto</b> e quindi non è neanche perfectly indistinguishable: è impossibile avere 2 come ciphertext se il plaintext era 0 (la chiave è 0 oppure 1) \n",
    "\n",
    "#### Esperimento di indistinguishability:\n",
    "\n",
    "$M$: $\\ \\ x_0 = 0 \\ \\ x_1 = 1$\\\n",
    "$M: \\ \\ b'\\ = \\ \\ y==2 \\ \\  ? \\ \\ 1 \\ \\ : \\ \\ 0$\n",
    "\n",
    "$Pr(PrivK^{eav}_{M,π} = 1) = Pr(b=0)Pr(b'=0 | b=0) + Pr(b=1)Pr(b'=1 | b=1)$\n",
    "\n",
    "$Pr(b'=0 | b=0) = 1 \\ \\ $ <i>in questo caso indovina sempre</i>\\\n",
    "$Pr(b'=1 | b=1) = 1/2 \\ \\ $ <i>quando esce 1, non può fare altro che tirare a indovinare</i>\n",
    "\n",
    "$Pr(PrivK^{eav}_{M,π} = 1) = 1/2 (1 + 1/2) > 1/2 \\rightarrow$ <b>non è perfectly indistinguishable</b>"
   ]
  },
  {
   "cell_type": "markdown",
   "id": "b0aa10e9-b0b9-41a5-8717-74625804c240",
   "metadata": {},
   "source": [
    "### Esercizio #2.2\n",
    "\n",
    "$P = 0..2$ \\\n",
    "$C = 0..2$ \\\n",
    "$Gen() = \\{k \\leftarrow 0..2\\}$ \\\n",
    "$E_k(x) = x + k \\ \\ mod_3$\n",
    "\n",
    "È lo shift cipher su $Z_{3} \\rightarrow$ <b>è perfetto</b>"
   ]
  },
  {
   "cell_type": "markdown",
   "id": "c5420c17-ec4d-41cb-89bd-1e7a115b13ca",
   "metadata": {
    "tags": []
   },
   "source": [
    "### Esercizio #2.3\n",
    "\n",
    "$P = 0..1$ \\\n",
    "$C = 0..2$ \\\n",
    "$Gen() = \\{k \\leftarrow 0..2\\}$ \\\n",
    "$E_k(x) = x + k \\ \\ mod_3$\n",
    "\n",
    "#### Shannon: \n",
    "\n",
    "È perfetto <b>sse</b> \n",
    "1. $\\forall x \\in P \\quad \\forall y \\in C \\quad \\exists!k \\in K : \\quad E_k(x)=y$\n",
    "2. $\\forall k \\in K : \\quad Pr(k) = \\frac{1}{|K|}$\n",
    "    \n",
    "$x=0 \\quad E_0(0) = 0 \\quad E_1(0)=1 \\quad E_2(0) = 2$ \\\n",
    "$x=1 \\quad E_0(1) = 1 \\quad E_1(1)=2 \\quad E_2(1) = 0$ \n",
    "    \n",
    "Il cifrario <b>è perfetto</b>.\n",
    "    "
   ]
  },
  {
   "cell_type": "markdown",
   "id": "30daa87e-7dc8-4755-9f75-59588ef5bfd2",
   "metadata": {
    "tags": []
   },
   "source": [
    "### Esercizio #2.4\n",
    "\n",
    "$P = 0..1$ \\\n",
    "$C = 0..1$ \\\n",
    "$Gen() = \\{k \\leftarrow 0..2\\}$ \\\n",
    "$E_k(x) = x + k \\ \\ mod_2$\n",
    "\n",
    "$x=0 \\quad E_0(0) = 0 \\quad E_1(0)=1 \\quad E_2(0) = 0$ \\\n",
    "$x=1 \\quad E_0(1) = 1 \\quad E_1(1)=0 \\quad E_2(1) = 1$ \n",
    "\n",
    "Se $y=0$ è più probabile che $x=0$ \\\n",
    "Se $y=1$ è più probabile che $x=1$\n",
    "\n",
    "#### Esperimento di indistinguishability:\n",
    "\n",
    "$M: \\quad x_0 = 0 \\quad x_1=1$\n",
    "\n",
    "<i>strategia di $M$:</i> $\\quad b'\\ =\\ (y==0)\\ \\ ?\\ \\ 0\\ \\ :\\ \\ 1$\n",
    "\n",
    "$Pr(b'=0 | b=0) = 2/3$ \\\n",
    "$Pr(b'=1 | b=1) = 2/3$\n",
    "\n",
    "$Pr(PrivK=1) = 1/2(2/3 + 2/3) > 1/2 \\rightarrow$ <b>non è perfetto!</b>"
   ]
  },
  {
   "cell_type": "markdown",
   "id": "7855c742-a8e9-4818-a202-dc1df150e783",
   "metadata": {
    "tags": []
   },
   "source": [
    "### Esercizio #3: Shift cipher with non-uniform keys\n",
    "\n",
    "$P = C = K = Z_{26}$\\\n",
    "$E_k(x) = x + k \\ \\ mod_{26}$\n",
    "   \n",
    "$Gen() = \\{let \\ \\ h \\leftarrow \\{0,1\\} \\quad h==0 \\ \\ ? \\ \\ 25\\ \\ : \\ \\ 0..24\\} \\quad$ <i>1/2 probabilità che sia 25; 1/50 che sia un numero da 0 a 24</i>\n",
    "\n",
    "$Pr(k=25) = 1/2$\\\n",
    "$Pr(k) = 1/50 \\quad k \\neq 25$\n",
    "\n",
    "$M \\rightarrow A : \\quad x_0=0 \\quad x_1=1$  \n",
    "\n",
    "<i>strategia di M</i> &emsp; $b’ \\ = \\  \\ y==25 \\ \\ ? \\ \\ 0 \\ \\ : \\ \\ 1$\n",
    "\n",
    "$Pr(b’ = 0 | b = 0) = ∑ { Pr(K=k) \\ | \\ E_k(0) = 25 }$ &emsp;<i>la somma della probabilità delle chiavi che mi danno quel ciphertext con $x=0$</i>\\\n",
    "$= Pr(K=25) = 1/2 \\quad$ <i>c'è soltanto $\\ K=25$</i>\n",
    "\n",
    "$Pr(b' = 1 | b = 1) \\quad = \\quad 1 - Pr(b’ = 0 | b = 1) \\quad = \\quad 1 - Pr(K=24) \\quad = \\quad 1 - 1/50 = 49/50$\n",
    "\n",
    "$Pr(PrivK = 1) = 1/2 (1/2 + 49/50) = 74/100 \\rightarrow$ <b>non è perfectly indistinguishable</b>"
   ]
  },
  {
   "cell_type": "markdown",
   "id": "5d9117f9-f7ad-4a89-9083-4e2e00ede533",
   "metadata": {
    "tags": []
   },
   "source": [
    "### Esercizio #4: Vigenere cipher with non-uniform keys\n",
    "\n",
    "$P = C = K = Z^{2}_{26}$\\\n",
    "$E_{k_1 k_2}(x_1 \\ x_2) = (x_1 + k_2 \\ \\ x_2 + k_2)$\\\n",
    "$Gen() = \\{m \\leftarrow \\{0,1\\} ; \\quad k_1 \\leftarrow 0..25; \\ \\ if \\ \\ m=0 \\ \\ then \\ \\ k_2 = k_1 \\ \\ else \\ \\ k_2 \\leftarrow 0..25\\}$\n",
    "\n",
    "$M \\rightarrow A:$ &emsp; $x_0 = aa \\quad x_1 = ab$\\\n",
    "$A \\rightarrow M:$ &emsp; $y = y_1 \\quad y_2 = E_k(x_b) \\quad b \\leftarrow \\{0,1\\}$\\\n",
    "<i>strategia di M:</i>&emsp; $b' \\ \\ = \\ \\ y_1==y_2 \\ \\ ? \\ \\ 0 \\ \\ : \\ \\ 1 \\quad$ <i>se i due caratteri del ciphertext sono uguali, dice 0; altrimenti dice 1</i>\n",
    "\n",
    "$Pr(b'=0 | b=0) \\ \\ $ <i>probabilità che M dica 0 quando b = 0 $\\rightarrow$ Pr(y<sub>1</sub>==y<sub>2</sub> | x<sub>b</sub>=aa)</i>\\\n",
    "Ci sono due casi: \n",
    "- $m = 0 \\rightarrow k_1 == k_2$\n",
    "- $m = 1 \\rightarrow k_1 \\ $ è random e anche $\\ k_2 \\ \\$ è random \n",
    "\n",
    "$Pr(y_1 == y_2  | b = 0 , \\ m = 0 ⊻ m = 1) \\ = \\ Pr(m=0)Pr(b'=0 | b=0,m=0) + Pr(m=1)Pr(b'=0 | b=0,m=1) \\ = \\ 1/2(Pr(b'=0 | b=0,m=0) + Pr(b'=0 | b=0,m=1))$ \\\n",
    "$Pr(m=0) = Pr(m=1) = 1/2 \\quad$ <i>praticamente è il lancio di una moneta</i>\\\n",
    "$Pr(b'=0 | b=0,m=0) = 1 \\quad$ <i>$M$ indovina sempre: $b_m=aa$ e $k_1 = k_2 \\rightarrow y_1 = y_2$</i>\\\n",
    "$Pr(b'=0 | b=0,m=1) = \\frac{26}{26*26} = 1/26 \\quad$ <i>è la probabilità di avere $y_1=y_2$</sub> quando $b=0$ ($x_b=aa$) e $k_1$ e $k_2$, generate entrambe in maniera random, risultino uguali</i>\\\n",
    "$= \\ 1/2(1 + 1/26) \\ ≈ \\ 0.52; \\quad$ <i>mettendo in evidenza</i>\n",
    "\n",
    "$Pr(b'=1 | b=1) \\quad$ <i>probabilità che $M$ dica 1 ($y_1 \\neq y_2$) quando $b=1$ (ovvero quando $x_b=ab$)</i>   \n",
    "$= \\ 1 - Pr(b'=0 | b=1) \\ = \\ 1 - Pr(m=0)Pr(b'=0 | b=1,m=0) + Pr(m=1)Pr(b'=0 | b=1,m=1) \\ = \\ 1 - 1/2 (Pr(b'=0 | b=1,m=0) + Pr(b'=0 | b=1,m=1)) \\ $\\\n",
    "$= \\ 1 - 1/2(0 + 1/26) = 1 - 1/52 \\ ≈ \\ 0.98$\n",
    "\n",
    "$Pr(PrivK=1) = 1/2(Pr(b'=0 | b=0) + Pr(b'=1 | b=1)) \\ = \\ 1/2(0.52 + 0.98) \\ ≈ \\ 0.75 > 1/2  \\rightarrow \\quad$ <b>non è perfectly indistinguishable</b>"
   ]
  },
  {
   "cell_type": "markdown",
   "id": "a0f2fb43-aeec-4b41-adf2-34aeb0cb7b4f",
   "metadata": {
    "tags": []
   },
   "source": [
    "### Esercizio #5 \n",
    "\n",
    "![Exercise_5](images/ex_5.png)\n",
    "\n",
    "$Pr(1|a) = \\sum_{E_k(a)=1}{Pr(k)} = Pr(k_1) = 1/2$\\\n",
    "$Pr(2|a) = \\sum_{E_k(a)=2}{Pr(k)} = Pr(k_3) = 1/4$\\\n",
    "$Pr(3|a) = \\sum_{E_k(a)=3}{Pr(k)} = Pr(k_2) = 1/4$\n",
    "\n",
    "$Pr(1|b) = \\sum_{E_k(b)=1}{Pr(k)} = Pr(k_2) = 1/4$\\\n",
    "$Pr(2|b) = \\sum_{E_k(b)=2}{Pr(k)} = Pr(k_1) = 1/2$\\\n",
    "$Pr(3|b) = \\sum_{E_k(b)=3}{Pr(k)} = Pr(k_3) = 1/4$\n",
    "\n",
    "$Pr(1|c) = \\sum_{E_k(c)=1}{Pr(k)} = Pr(k_3) = 1/4$\\\n",
    "$Pr(2|c) = \\sum_{E_k(c)=2}{Pr(k)} = Pr(k_2) = 1/4$\\\n",
    "$Pr(3|c) = \\sum_{E_k(c)=3}{Pr(k)} = Pr(k_1) = 1/2$\n",
    "\n",
    "$Pr(1) = \\sum_{E_k(x)=1}{Pr(k)Pr(x)} = Pr(k_1)Pr(a) + Pr(k_2)Pr(b) + Pr(k_3)Pr(c) = (1/2 * 1/2) + (1/4 * 1/4) + (1/4 * 1/4) = 3/8$\\\n",
    "$Pr(2) = \\sum_{E_k(x)=2}{Pr(k)Pr(x)} = Pr(k_1)Pr(b) + Pr(k_2)Pr(c) + Pr(k_3)Pr(a) = (1/2 * 1/4) + (1/4 * 1/4) + (1/4 * 1/2) = 5/16$\\\n",
    "$Pr(3) = \\sum_{E_k(x)=3}{Pr(k)Pr(x)} = Pr(k_1)Pr(c) + Pr(k_2)Pr(a) + Pr(k_3)Pr(b) = (1/2 * 1/4) + (1/4 * 1/2) + (1/4 * 1/4) = 5/16$\n",
    "\n",
    "$Pr(a|1) = \\frac{Pr(a)Pr(1|a)}{Pr(1)} = \\frac{1/2*1/2}{1/2} = 1/2 \\quad$ <i>teorema di Bayes</i>"
   ]
  },
  {
   "cell_type": "markdown",
   "id": "a1249231-2ab4-4d1e-ac84-afe5963687c1",
   "metadata": {},
   "source": [
    "### Esercizio #6\n",
    "\n",
    "![Exercise_6](images/ex_6.png)\n",
    "\n",
    "Il cifrario è perfetto?\n",
    "\n",
    "##### Analisi sulla funzione di encryption:\n",
    "\n",
    "Quando $k_1$ e $k_2$ sono diversi da 0, il cifrario è utilizzato in maniera OTP, quindi è <b>perfetto</b>.\\\n",
    "Bisogna però analizzare il caso quando $k_1$ oppure $k_2$ (o entrambi) sia uguale a 0.\\\n",
    "Se scegliamo un plaintext dove $x_1 = x_2$ (come $x = aa$), nel caso che uno dei due caratteri della chiave sia 0, possiamo notare che il secondo carattere del ciphertext sarà sempre 'a' ($x_1 - x_2$): nel caso dell'esperimento di perfect indistinguishability, sarà questa la strategia dell'attaccante: scegliere $x_0 = aa$ e $x_1 = ab$ e scegliere $x_0$ nel caso che il secondo carattere del ciphertext ($y_1$ sia uguale a $a$).\n",
    "\n",
    "##### Definizione di perfect secrecy: \n",
    "La congettura è che non sia perfetto: \\\n",
    "$\\exists x \\in P, \\ \\ \\exists y \\in C : \\ \\ Pr(x|y) \\neq Pr(x)$ \n",
    "\n",
    "Scegliamo come $x = da$\\\n",
    "Scegliamo come $y = aa$\n",
    "\n",
    "È impossibile che se il ciphertext sia $aa$ in quanto per avere lo stesso carattere del plaintext uguale nel ciphertext, il carattere corrispondente della chiave deve essere 0: ma se un carattere è 0, l'encryption diventa $(x_1 + x_2 + 1, \\ \\ x_1 - x_2)$:\\\n",
    "nel caso in cui il plaintext sia $da$, il secondo carattere del ciphertext, $(d-a)$, non è $a$, quindi <b>è impossibile</b> ottenere questo ciphertext dato quel plaintext: \n",
    "\n",
    "$Pr(da | aa) = 0$\\\n",
    "$Pr(da)$ abbiamo assunto essere $> 0$\n",
    "\n",
    "P$r(da | aa) \\neq Pr(da) \\rightarrow$ il cifrario <b>non è perfetto</b>\n",
    "\n"
   ]
  },
  {
   "cell_type": "raw",
   "id": "6bbd4f14-8b01-4034-876d-bd23adb93f8f",
   "metadata": {},
   "source": [
    "import secrets\n",
    "\n",
    "class NoZeroInKey():\n",
    "\n",
    "    def gen(self):\n",
    "        k1 = secrets.randbelow(26)\n",
    "        k2 = secrets.randbelow(26)\n",
    "        return [str(k1),str(k2)]\n",
    "\n",
    "    def enc(self,x,k):\n",
    "        if(k[0] != '0') and (k[1] != '0'):\n",
    "            y1 = chr((((ord(x[0]) - ord('a')) + (int(k[0]))) % 26) + ord('a'))\n",
    "            y2 = chr((((ord(x[1]) - ord('a')) + (int(k[1]))) % 26) + ord('a'))\n",
    "            return y1 + y2\n",
    "        else:\n",
    "            y1 = chr(((ord(x[0]) - ord('a')) + ((ord(x[1]) - ord('a')) + 1) % 26) + ord('a'))\n",
    "            y2 = chr((((ord(x[0]) - ord('a')) - (ord(x[1]) - ord('a'))) % 26) + ord('a'))\n",
    "            return y1 + y2\n",
    "\n",
    "    def dec(self,y,k):\n",
    "        if(k[0] != '0') and (k[1] != '0'):\n",
    "            x1 = chr((((ord(y[0]) - ord('a')) - (int(k[0]))) % 26) + ord('a'))\n",
    "            x2 = chr((((ord(y[1]) - ord('a')) - (int(k[1]))) % 26) + ord('a'))\n",
    "            return x1 + x2\n",
    "        else: \n",
    "            ###\n",
    "            return \"??\" # Probably this is not an encryption scheme neither since we are not able to perform decryption (keys are not used in this case... and we don't know x1 and x2 here) \n",
    "            ###"
   ]
  },
  {
   "cell_type": "code",
   "execution_count": 18,
   "id": "0c022501-3a80-4ccb-a67f-8b927d03fb63",
   "metadata": {},
   "outputs": [
    {
     "name": "stdout",
     "output_type": "stream",
     "text": [
      "Plaintext x:  aa\n",
      "Key k:        ['7', '15']\n",
      "Chipertext y: hp\n",
      "Decrypted x:  aa\n"
     ]
    }
   ],
   "source": [
    "x = 'aa'\n",
    "k = NoZeroInKey().gen() \n",
    "\n",
    "y = NoZeroInKey().enc(x,k)\n",
    "dec_x = NoZeroInKey().dec(y, k)\n",
    "\n",
    "print(\"Plaintext x:  %s\" % x)\n",
    "print(\"Key k:        %s\" % k)\n",
    "print(\"Chipertext y: %s\" % y)\n",
    "print(\"Decrypted x:  %s\" % dec_x)"
   ]
  },
  {
   "cell_type": "markdown",
   "id": "b7461ef8-5da7-449d-96d0-b8757d7e77d4",
   "metadata": {},
   "source": [
    "##### $Pr(da | aa)$:"
   ]
  },
  {
   "cell_type": "code",
   "execution_count": 11,
   "id": "9c910d5a-0d55-411c-ab45-20662790109a",
   "metadata": {},
   "outputs": [
    {
     "name": "stdout",
     "output_type": "stream",
     "text": [
      "y='aa' has NOT been found!\n"
     ]
    }
   ],
   "source": [
    "x = 'da'\n",
    "found = False # if 'aa' is found in the ciphertexts\n",
    "\n",
    "# All the possible keys (0,0) up to (25,25)\n",
    "for k1 in range(26):\n",
    "    for k2 in range(26):\n",
    "        k = [str(k1),str(k2)]\n",
    "        y = NoZeroInKey().enc(x,k)\n",
    "        \n",
    "        # print(k[0], \" \", k[1], \" \", y)\n",
    "        \n",
    "        if(y == 'aa'):\n",
    "            found = True\n",
    "\n",
    "if (found): \n",
    "    print(\"y='aa' has been found!\")\n",
    "else:\n",
    "    print(\"y='aa' has NOT been found!\")"
   ]
  },
  {
   "cell_type": "markdown",
   "id": "e3be22bf-15c4-43a2-b699-44d2b3985af4",
   "metadata": {},
   "source": [
    "### Esercizio #7"
   ]
  },
  {
   "cell_type": "markdown",
   "id": "379992b4-09a3-4cb9-ad23-662871a0b67d",
   "metadata": {},
   "source": [
    "$P = C = Z_{26}$\\\n",
    "$K = Z_4$\n",
    "\n",
    "$Gen()=\\{k \\leftarrow K\\}$\n",
    "\n",
    "$E_k(x) = x + k $\\\n",
    "$D_k(y) = y - k $\n",
    "\n",
    "##### Il cifrario è perfetto?\n",
    "La congettura è che <b>non sia perfetto</b>: <br> $\\exists x \\in P, \\ \\ \\exists y \\in C: \\ \\ Pr(x|y) \\neq Pr(y)$\n",
    "\n",
    "$x = 0$\\\n",
    "$y = F$\n",
    "\n",
    "Tutte le possibili encryption di $x=0$:\\\n",
    "$E_0(0) = 0$\\\n",
    "$E_1(0) = 1$\\\n",
    "$E_2(0) = 2$\\\n",
    "$E_3(0) = 3$\n",
    "\n",
    "$\\nexists k \\in K : \\ \\ E_k(0) = F \\rightarrow Pr(0 | F) = 0 \\rightarrow$ il cifrario <b>non è perfetto</b>"
   ]
  },
  {
   "cell_type": "markdown",
   "id": "455cbb1c-6b90-43ee-9e41-7fd63e18bd53",
   "metadata": {},
   "source": [
    "### Esercizio #8"
   ]
  },
  {
   "cell_type": "markdown",
   "id": "5815ae97-3b85-4b67-814c-51bae517a040",
   "metadata": {},
   "source": [
    "$P = C = Z^{2}_{26}$\\\n",
    "$K = \\{ σ \\in Z_{26} \\rightarrow Z_{26} \\ | \\ σ \\ \\ sia \\ biiettiva \\}$\\\n",
    "$E_σ(x_1 \\ x_2) = σ(x_1) \\ \\ σ(σ(x_1) + x_2)$\n",
    "\n",
    "##### Trova la <b>decryption</b> e dimostra che è un cifrario:"
   ]
  },
  {
   "cell_type": "code",
   "execution_count": 2,
   "id": "eb027b96-90ab-4a50-8cfd-dde10b451be0",
   "metadata": {},
   "outputs": [],
   "source": [
    "import random\n",
    "\n",
    "class SigmaCipher():\n",
    "\n",
    "    def gen(self):\n",
    "        alphabet = ['a', 'b', 'c', 'd', 'e', 'f', 'g', 'h', 'i', 'j', 'k', 'l', 'm', 'n', 'o', 'p', 'q', 'r', 's', 't', 'u', 'v', 'w', 'x', 'y', 'z']\n",
    "        \n",
    "        alphabet_random = alphabet[:] # copying a list by value (because the default is by reference) [source: https://stackoverflow.com/a/8744133]\n",
    "        random.shuffle(alphabet_random)\n",
    "        \n",
    "        k = {alphabet[i] : alphabet_random[i] for i in range(len(alphabet))}\n",
    "            \n",
    "        return k\n",
    "\n",
    "    def enc(self,x,k):\n",
    "        y1 = k[x[0]]\n",
    "        y2 = k[chr((((ord(y1) - ord('a')) + ((ord(x[1]) - ord('a')))) % 26) + ord('a'))]\n",
    "        \n",
    "        return y1 + y2\n",
    "\n",
    "    def dec(self,y,k):\n",
    "        # The decryption key has to be the inverted functions used in the encryption step \n",
    "        inv_k = {value : key for key,value in k.items()} # invert the keys with the values in the new dictionary\n",
    "\n",
    "        x1 = inv_k[y[0]]\n",
    "        x2 = chr((((ord(inv_k[y[1]]) - ord('a')) - (ord(k[x1]) - ord('a'))) % 26) + ord('a')) \n",
    "        \n",
    "        return x1 + x2"
   ]
  },
  {
   "cell_type": "code",
   "execution_count": 10,
   "id": "c8e2a8b4-b912-47e7-90e7-7292148c0ffe",
   "metadata": {},
   "outputs": [
    {
     "name": "stdout",
     "output_type": "stream",
     "text": [
      "Plaintext x:  ty\n",
      "Key k:     \n",
      " {'a': 'e', 'b': 'x', 'c': 'b', 'd': 'a', 'e': 'g', 'f': 'p', 'g': 'n', 'h': 'o', 'i': 'u', 'j': 'l', 'k': 'w', 'l': 's', 'm': 'y', 'n': 'c', 'o': 'q', 'p': 'r', 'q': 'm', 'r': 'd', 's': 'h', 't': 'k', 'u': 'i', 'v': 'v', 'w': 'f', 'x': 'z', 'y': 't', 'z': 'j'}\n",
      "Chipertext y: ku\n",
      "Decrypted message: ty\n"
     ]
    }
   ],
   "source": [
    "x = 'ty'\n",
    "k = SigmaCipher().gen()\n",
    "y = SigmaCipher().enc(x,k)\n",
    "\n",
    "print(\"Plaintext x:  %s\" % x)\n",
    "print(\"Key k:     \\n %s\" % k)\n",
    "print(\"Chipertext y: %s\" % y) \n",
    "\n",
    "decrypted_x = SigmaCipher().dec(y,k)\n",
    "\n",
    "print(\"Decrypted message: %s\" % decrypted_x)"
   ]
  },
  {
   "cell_type": "markdown",
   "id": "6134b887-e83e-42da-9543-4c98aa189546",
   "metadata": {},
   "source": [
    "##### Verifica correttezza del cifrario:"
   ]
  },
  {
   "cell_type": "code",
   "execution_count": 64,
   "id": "5c62f877-4a3e-472c-9f0e-af970a7e2faa",
   "metadata": {},
   "outputs": [
    {
     "data": {
      "text/plain": [
       "True"
      ]
     },
     "execution_count": 64,
     "metadata": {},
     "output_type": "execute_result"
    }
   ],
   "source": [
    "ciph = SigmaCipher()\n",
    "\n",
    "ciph.dec(ciph.enc(x,k),k) == x"
   ]
  },
  {
   "cell_type": "markdown",
   "id": "3517534f-4a7d-4d4c-aa1f-a2faeca54ebc",
   "metadata": {},
   "source": [
    "##### Dimostriamo che <b>non è perfetto:</b>"
   ]
  },
  {
   "cell_type": "markdown",
   "id": "a87b2e8a-25e9-4a5f-8323-fa3d101b3fa8",
   "metadata": {},
   "source": [
    "Per dimostrare che non è perfetto: $\\exists x \\in P, \\ \\ \\exists y \\in C: \\ \\ Pr(x|y) \\neq Pr(x)$\n",
    "\n",
    "$x = aa$\\\n",
    "$y = ab$\n",
    "\n",
    "Per avere $a$ nel primo carattere del ciphertext, la chiave $σ$ deve mappare $a \\rightarrow a$.\\\n",
    "Con la chiave così definita, il secondo carattere sarà mappato in $σ(σ(x_1) + x_2)$ = $σ(σ(a) + a) = σ(a + a) = σ(a) = a$\\\n",
    "Il ciphertext ottenuto sarà sempre $aa$, rendendo quindi <b>impossibile</b> avere come ciphertext $ab$ (ricordiamo che la funzione $σ$ è biiettiva (iniettiva e suriettiva)).\n",
    "\n",
    "$Pr(aa) > 0$\\\n",
    "$Pr(aa | ab) = 0 \\rightarrow$ il cifrario <b>non è perfetto</b>."
   ]
  },
  {
   "cell_type": "code",
   "execution_count": 47,
   "id": "c4513905-fb1a-4c4d-a3bf-2a8f39229a1b",
   "metadata": {},
   "outputs": [
    {
     "name": "stdout",
     "output_type": "stream",
     "text": [
      "Plaintext x:  aa\n",
      "Key k:     \n",
      " {'b': 'g', 'c': 'o', 'd': 'w', 'e': 'n', 'f': 'p', 'g': 'y', 'h': 'x', 'i': 'z', 'j': 'b', 'k': 'i', 'l': 'd', 'm': 'r', 'n': 'j', 'o': 'f', 'p': 'm', 'q': 'c', 'r': 's', 's': 'v', 't': 'k', 'u': 'h', 'v': 't', 'w': 'l', 'x': 'u', 'y': 'q', 'z': 'e', 'a': 'a'}\n",
      "Chipertext y: aa\n",
      "Decrypted message: aa\n"
     ]
    }
   ],
   "source": [
    "# Changing the gen() function in order to have the 'a' always being mapped to 'a'\n",
    "\n",
    "alphabet_without_a = ['b', 'c', 'd', 'e', 'f', 'g', 'h', 'i', 'j', 'k', 'l', 'm', 'n', 'o', 'p', 'q', 'r', 's', 't', 'u', 'v', 'w', 'x', 'y', 'z']\n",
    "        \n",
    "alphabet_without_a_random = alphabet_without_a[:] # copying a list by value (because the default is by reference) [source: https://stackoverflow.com/a/8744133]\n",
    "random.shuffle(alphabet_without_a_random)\n",
    "        \n",
    "altered_key = {alphabet_without_a[i] : alphabet_without_a_random[i] for i in range(len(alphabet_without_a))}\n",
    "\n",
    "altered_key['a'] = 'a' # 'a' forced to being mapped to 'a'\n",
    "\n",
    "# altered_key\n",
    "\n",
    "x = 'aa'\n",
    "y = SigmaCipher().enc(x,altered_key)\n",
    "\n",
    "print(\"Plaintext x:  %s\" % x)\n",
    "print(\"Key k:     \\n %s\" % altered_key)\n",
    "print(\"Chipertext y: %s\" % y) # The ciphertex is always 'aa'\n",
    "\n",
    "decrypted_x = SigmaCipher().dec(y,altered_key)\n",
    "\n",
    "print(\"Decrypted message: %s\" % decrypted_x)"
   ]
  },
  {
   "cell_type": "markdown",
   "id": "ade4507b-175f-4dc8-b06f-b2bb49ca285a",
   "metadata": {},
   "source": [
    "### Esercizio #9 (Quasi-OTP)"
   ]
  },
  {
   "cell_type": "markdown",
   "id": "270992ba-e968-498a-b040-d94158d7bd2a",
   "metadata": {},
   "source": [
    "È come l'OTP, ma non ammette la chiave dove tutti i caratteri sono 0.\\\n",
    "Con il <b>teorema di Shannon</b> si dimostra facilmente che <b>non è perfetto</b>.\n",
    "\n",
    "##### Esperimento di perfect indistinguishability:\n",
    "\n",
    "$x_0 = 0^n$\\\n",
    "$x_1 = 1^n$\n",
    "\n",
    "$M: \\ \\ b' \\ = \\ (y==0^n)\\  ? \\  1 \\ : \\ 0 \\quad$ <i>se i caratteri del ciphertext sono tutti 0, $M$ dirà 1 (ovvero $1^n$) altrimenti dirà 0</i>\n",
    "\n",
    "$Pr(b' = 0 | b = 0) = 1 \\quad$<i>probabilità che $M$ dica 0 quando $b = 0$ (ovvero quando $x_b=0^n$). $M$ indovina sempre in questo caso perchè non esiste la chiave $0^n$</i>\\\n",
    "$Pr(b' = 1 | b = 1) = \\frac{1}{2^n - 1} \\quad$ <i>in questo caso, la scelta è completamente casuale</i>\n",
    "\n",
    "$Pr(PrivK = 1) = \\frac{1}{2}(1 + \\frac{1}{2^n - 1}) > 1/2$\n",
    "\n",
    "M vince di una quantità <b>negligible</b>.\n",
    "\n",
    "##### Definizione: \n",
    "$\\exists x \\in P, \\ \\ \\exists y \\in C: \\ \\ Pr(x|y) \\neq Pr(x)$\n",
    "\n",
    "$x = 0^n$\\\n",
    "$y = 0^n$\n",
    "\n",
    "$Pr(x|y) = 0$"
   ]
  }
 ],
 "metadata": {
  "kernelspec": {
   "display_name": "Python 3 (ipykernel)",
   "language": "python",
   "name": "python3"
  },
  "language_info": {
   "codemirror_mode": {
    "name": "ipython",
    "version": 3
   },
   "file_extension": ".py",
   "mimetype": "text/x-python",
   "name": "python",
   "nbconvert_exporter": "python",
   "pygments_lexer": "ipython3",
   "version": "3.10.6"
  }
 },
 "nbformat": 4,
 "nbformat_minor": 5
}
