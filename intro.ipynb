{
 "cells": [
  {
   "cell_type": "markdown",
   "id": "4e7c6993-c09d-4f0e-8b8f-2a63810f8e8f",
   "metadata": {},
   "source": [
    "---\n",
    "https://github.com/strausste/cryptography-notebooks\n",
    "---\n",
    "\n",
    "## Canale privato vs canale pubblico:\n",
    "\n",
    "##### Setting base:\n",
    "$A$ vuole inviare un messaggio segreto a $B$ attraverso un <b>canale privato</b>.\\\n",
    "Assumiamo che, generalmente, l'attaccante $M$, in un canale privato, non possa fare nulla.\n",
    "\n",
    "$A$ $\\Rightarrow_{x}$ $B$\n",
    "\n",
    "Su un <b>canale pubblico</b>, invece, $M$ può:\n",
    "- leggere i messaggi\n",
    "- inviare dei messaggi\n",
    "- cancellare i messaggi\n",
    "\n",
    "I <b>canali privati</b> sono molto costosi da realizzare e da utilizzare per scambiare grandi quantità di inforamzioni e per questo ci preoccupiamo della sicurezza nei <b>canali pubblici</b>.\n",
    "\n",
    "$A$ $\\Rightarrow^{M}_{x}$ $B$\n",
    "\n",
    "Nel canale pubblico, $A$ non invia il messaggio $x$ in chiaro, ma <b>l'encryption</b> $y$ di questo messaggio: \n",
    "\n",
    "$A$ $\\Rightarrow^{M}_{E_k(x)}$ $B$\n",
    "\n",
    "## Principio di Kerckhoffs:\n",
    "\n",
    "L'attaccante $M$ conosce lo schema utilizzato: la sicurezza di un cifrario deve dipendere soltanto dalla <b>segretezza della chiave</b>: non è realistico e conveniente pensare di nascondere le implementazioni della funzione di encryption e decryption. "
   ]
  },
  {
   "cell_type": "markdown",
   "id": "1aaa5a53-4004-4a54-bbb5-6a55b5d38e86",
   "metadata": {},
   "source": [
    "## Schema di cifratura:\n",
    "\n",
    "$P$ è l'insieme dei <b>plaintexts</b> $x \\in P$\\\n",
    "$C$ è l'insieme dei <b>ciphertexts</b> $y \\in P$\\\n",
    "$K$ è l'insieme delle <b>chiavi</b> $k \\in K$\n",
    "\n",
    "Su <b>bitstrings</b>: $|K|=2^n \\quad$ <i>scala <b>esponenzialmente</b>\n",
    "\n",
    "$Gen()$: algoritmo <b>probabilistico</b> per la generazione delle chiavi: $k \\leftarrow Gen()$\\\n",
    "$E$: algoritmo <b>probabilistico</b> per l'encryption: $E: K \\rightarrow P \\rightarrow C$\\\n",
    "$E$: algoritmo <b>deterministico</b> per la decryption: $D: K \\rightarrow C \\rightarrow P$\n",
    "\n",
    "## Condizione di correttezza:\n",
    "\n",
    "$\\forall k \\ . \\ k \\leftarrow Gen() \\ : \\ \\forall x \\in P \\ : \\quad D_k(E_k(x))=x$\n",
    "\n",
    "## Poteri dell'attaccante $M$:\n",
    "\n",
    "+ EAV: Ciphertext-only attack: \\\n",
    "    $M$ conosce soltanto il ciphertext\n",
    "+ KPA: Known Plaintext Attack: \\\n",
    "    $M$ conosce delle coppie $x\\ $ e $\\ y$ che sono state cifrate con chiave $\\ k\\ $ (la chiave ovviamente non la conosce)\n",
    "+ CPA: Chosen Plaintext Attack: \\\n",
    "    $M$ crea delle coppie $(x,y)$. Ha accesso alla funzione di encryption $E_k(x)\\ $ <i>(oracle access)</i>\n",
    "+ CCA: Chosen Ciphertext Attack: \\\n",
    "    $M$ ora ha accesso anche alla funzione di decryption $D_k(y)\\ $ <i>(oracle access)</i>\n",
    "\n",
    "### Requisito minimo di sicurezza di un cifrario:\n",
    "Richiediamo che un cifrario sia almeno <b>CPA-sicuro</b> ovvero resistente ad attacchi di tipo CPA (Chosen Plaintext Attacks).\\\n",
    "Se è CPA-sicuro, allora è sicuramente anche EAV e KPA sicuro, ma non è detto che sia CCA-sicuro.\n",
    "\n",
    "Se l'encryption è un algoritmo deterministico e non probabilistico, il cifrario non può essere CPA-sicuro.\n",
    "\n",
    "## Ripasso tipologia funzioni: \n",
    "\n",
    "- suriettiva: ogni elemento del codominio è immagine di almeno un elemento del dominio (tutto il codominio è immagine)\n",
    "- iniettiva: il codominio ha immagini distinte (non esistono due valori diversi che producano stessa immagine nel codominio)\n",
    "- biiettiva: sia iniettiva che suriettiva; detta anche biunivoca o invertibile\n",
    "\n",
    "Se una funzione è iniettiva, può essere resa invertibile riducendo il codominio (suriettività)"
   ]
  }
 ],
 "metadata": {
  "kernelspec": {
   "display_name": "Python 3 (ipykernel)",
   "language": "python",
   "name": "python3"
  },
  "language_info": {
   "codemirror_mode": {
    "name": "ipython",
    "version": 3
   },
   "file_extension": ".py",
   "mimetype": "text/x-python",
   "name": "python",
   "nbconvert_exporter": "python",
   "pygments_lexer": "ipython3",
   "version": "3.10.6"
  }
 },
 "nbformat": 4,
 "nbformat_minor": 5
}
