{
 "cells": [
  {
   "cell_type": "markdown",
   "id": "6a1805bb-aa45-4167-b1cd-94df791909e3",
   "metadata": {
    "tags": []
   },
   "source": [
    "# Cifrario di Vigenere"
   ]
  },
  {
   "cell_type": "markdown",
   "id": "374abc90-a993-473a-9cb6-ddd4d9183732",
   "metadata": {
    "tags": []
   },
   "source": [
    "$P = C = K = Z_{26}^m$\n",
    "\n",
    "$E_{k_1 ... k_n}(x_1 ... x_n) = (x_1 + k_1 ... x_n + k_n)$\\\n",
    "$D_{k_1 ... k_n}(y_1 ... y_n) = (y_1 - k_1 ... y_n - k_n)$\\"
   ]
  },
  {
   "cell_type": "code",
   "execution_count": 20,
   "id": "606b2267-46d0-4093-999c-eb86bd128687",
   "metadata": {
    "tags": []
   },
   "outputs": [],
   "source": [
    "def encryption(x,k):\n",
    "    if ( len(x) != len(k) ) and len(x) != m: \n",
    "        return \"Error! x and k must have the same length\"\n",
    "    \n",
    "    y = \"\"\n",
    "    \n",
    "    for i in range(len(x)): \n",
    "        y += chr((((ord(x[i]) - ord('a')) + (ord(k[i]) - ord('a'))) % 26) + ord('a')) # See the comments in \"shift.ipynb\"\n",
    "    \n",
    "    return y\n",
    "\n",
    "def decryption(y,k): \n",
    "    if ( len(y) != len(k) ) and len(y) != m: \n",
    "        return \"Error! y and k must have the same length\"\n",
    "    \n",
    "    x = \"\"\n",
    "    \n",
    "    for i in range(len(y)): \n",
    "        x += chr((((ord(y[i]) - ord('a')) - (ord(k[i]) - ord('a'))) % 26) + ord('a')) # See the comments in \"shift.ipynb\"\n",
    "    \n",
    "    return x\n"
   ]
  },
  {
   "cell_type": "code",
   "execution_count": 21,
   "id": "2a356d3c-5979-49cf-907e-a815348957f7",
   "metadata": {
    "tags": []
   },
   "outputs": [
    {
     "name": "stdout",
     "output_type": "stream",
     "text": [
      "Plaintext x:  nelm\n",
      "Key k:        bacc\n",
      "Chipertext y: oeno\n"
     ]
    }
   ],
   "source": [
    "m = 4 # arbitrary chosen \n",
    "\n",
    "x = \"nelm\"\n",
    "k = \"bacc\"\n",
    "y = encryption(x,k)\n",
    "\n",
    "print(\"Plaintext x:  %s\" % x)\n",
    "print(\"Key k:        %s\" % k)\n",
    "print(\"Chipertext y: %s\" % y)"
   ]
  },
  {
   "cell_type": "markdown",
   "id": "3133e941-6ac5-40fe-8913-ebd8587aec8d",
   "metadata": {
    "tags": []
   },
   "source": [
    "## Condizione correttezza:"
   ]
  },
  {
   "cell_type": "code",
   "execution_count": 23,
   "id": "8df84d67-a9f2-4824-9ee7-8e22b75467ce",
   "metadata": {
    "tags": []
   },
   "outputs": [
    {
     "data": {
      "text/plain": [
       "True"
      ]
     },
     "execution_count": 23,
     "metadata": {},
     "output_type": "execute_result"
    }
   ],
   "source": [
    "decryption(encryption(x,k),k) == x"
   ]
  },
  {
   "cell_type": "markdown",
   "id": "71ebcfd0-da94-47f0-bcbb-a2d93bdd8ea7",
   "metadata": {},
   "source": [
    "## Vigenere e Shift cipher"
   ]
  },
  {
   "cell_type": "markdown",
   "id": "32da62a4-f9d1-40ed-8317-f6ca4ca35d57",
   "metadata": {},
   "source": [
    "Se <b>m=1</b>, è lo <b>shift cipher in ECB-mode</b> <i>non sicuro quindi per plaintext più lunghi di un carattere, perchè sto riutilizzando la stessa chiave per caratteri diversi</i>"
   ]
  },
  {
   "cell_type": "markdown",
   "id": "3aa56df9-d4ae-469e-b41f-a683e130bd75",
   "metadata": {
    "tags": []
   },
   "source": [
    "## Sicurezza:"
   ]
  },
  {
   "cell_type": "markdown",
   "id": "c13ce39f-41c0-4991-b033-4d766c3f1663",
   "metadata": {
    "tags": []
   },
   "source": [
    "È un cifrario <b>polialfabetico</b>: lo stesso carattere del plaintext può corrispondere a caratteri diversi nel ciphertext. Questo cifrario aveva senso prima dei calcolatori (con <i>m</i> molto grande come le parole di un libro). Si può rompere rompendo <i>m</i> shift cipher alla volta e controllando la distribuzione dei caratteri"
   ]
  }
 ],
 "metadata": {
  "kernelspec": {
   "display_name": "Python 3 (ipykernel)",
   "language": "python",
   "name": "python3"
  },
  "language_info": {
   "codemirror_mode": {
    "name": "ipython",
    "version": 3
   },
   "file_extension": ".py",
   "mimetype": "text/x-python",
   "name": "python",
   "nbconvert_exporter": "python",
   "pygments_lexer": "ipython3",
   "version": "3.10.6"
  }
 },
 "nbformat": 4,
 "nbformat_minor": 5
}
