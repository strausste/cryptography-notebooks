{
 "cells": [
  {
   "cell_type": "markdown",
   "id": "2e760dfd-a851-4602-8d37-c7d724d66235",
   "metadata": {},
   "source": [
    "# Shift cipher su singolo carattere"
   ]
  },
  {
   "cell_type": "markdown",
   "id": "14fb9c1c-7b65-4c88-bea5-22e5b601b735",
   "metadata": {},
   "source": [
    "P = C = K = Z<sub>26</sub> \n",
    "\n",
    "E<sub>k</sub>(x) = (x + k) mod<sub>26</sub> \\\n",
    "D<sub>k</sub>(y) = (y - k) mod<sub>26</sub> "
   ]
  },
  {
   "cell_type": "code",
   "execution_count": 3,
   "id": "b1f0a08c-51ed-4dbc-b6e6-d1c93095b17b",
   "metadata": {
    "tags": []
   },
   "outputs": [
    {
     "name": "stdout",
     "output_type": "stream",
     "text": [
      "Plaintext x:  c\n",
      "Key k:        8\n",
      "Chipertext y: k\n"
     ]
    }
   ],
   "source": [
    "import random\n",
    "\n",
    "def gen_k():\n",
    "    return random.randint(0,25)\n",
    "    \n",
    "def encryption(x,k):\n",
    "    # maps the [97,122] ord-int (where 97 is 'a' and 122 is 'z') into the range [0,25], does the encryption ((x + k) mod 26) and then maps it back to the [97,122] range returning it as a chr\n",
    "    return chr((((ord(x) - ord('a')) + k) % 26) + ord('a')) \n",
    "\n",
    "def decryption(y,k):\n",
    "    return chr((((ord(y) - ord('a')) - k) % 26) + ord('a'))\n",
    "    \n",
    "x = 'c'\n",
    "k = gen_k()\n",
    "y = encryption(x,k)\n",
    "\n",
    "print(\"Plaintext x:  %s\" % x)\n",
    "print(\"Key k:        %s\" % k)\n",
    "print(\"Chipertext y: %s\" % y)"
   ]
  },
  {
   "cell_type": "markdown",
   "id": "41d352c3-0486-4f2f-907d-03557fa3c130",
   "metadata": {
    "tags": []
   },
   "source": [
    "## Condizione correttezza:"
   ]
  },
  {
   "cell_type": "markdown",
   "id": "dae95770-3aca-4ba1-b4c1-647fce9ccc25",
   "metadata": {
    "tags": []
   },
   "source": [
    "$\\forall x \\in X$ and $\\forall k \\in K$ &emsp; D<sub>k</sub>(E<sub>k</sub>(x)) = x "
   ]
  },
  {
   "cell_type": "code",
   "execution_count": 5,
   "id": "fec0729d-4481-43f5-84c3-1de447c105d3",
   "metadata": {
    "tags": []
   },
   "outputs": [
    {
     "data": {
      "text/plain": [
       "True"
      ]
     },
     "execution_count": 5,
     "metadata": {},
     "output_type": "execute_result"
    }
   ],
   "source": [
    "decryption(encryption(x,k),k) == x"
   ]
  },
  {
   "cell_type": "markdown",
   "id": "01e4f85b-d02c-4309-aca1-aa2507e9fc2d",
   "metadata": {
    "tags": []
   },
   "source": [
    "# Shift cipher ECB-mode"
   ]
  },
  {
   "cell_type": "markdown",
   "id": "8473b357-b420-4178-ac6c-51e0561f7c0e",
   "metadata": {
    "tags": []
   },
   "source": [
    "https://it.wikipedia.org/wiki/Modalit%C3%A0_di_funzionamento_dei_cifrari_a_blocchi#Electronic_CodeBook_(ECB) \n",
    "\n",
    "The key's generated once and then used to encrypt every character of the plaintext"
   ]
  },
  {
   "cell_type": "code",
   "execution_count": 20,
   "id": "ec9b59fb-eec5-4d94-9f43-63320036f64e",
   "metadata": {},
   "outputs": [
    {
     "name": "stdout",
     "output_type": "stream",
     "text": [
      "Plaintext x:  helloworld\n",
      "Key k:        14\n",
      "Chipertext y: vszzckcfzr\n"
     ]
    }
   ],
   "source": [
    "k = gen_k()\n",
    "x = 'helloworld'\n",
    "\n",
    "y = ''\n",
    "\n",
    "for i in x:\n",
    "    y += encryption(i, k)\n",
    "\n",
    "print(\"Plaintext x:  %s\" % x)\n",
    "print(\"Key k:        %s\" % k)\n",
    "print(\"Chipertext y: %s\" % y)"
   ]
  },
  {
   "cell_type": "code",
   "execution_count": null,
   "id": "01e673a0-1274-41c1-936e-619b9495e9f5",
   "metadata": {},
   "outputs": [],
   "source": []
  }
 ],
 "metadata": {
  "kernelspec": {
   "display_name": "Python 3 (ipykernel)",
   "language": "python",
   "name": "python3"
  },
  "language_info": {
   "codemirror_mode": {
    "name": "ipython",
    "version": 3
   },
   "file_extension": ".py",
   "mimetype": "text/x-python",
   "name": "python",
   "nbconvert_exporter": "python",
   "pygments_lexer": "ipython3",
   "version": "3.10.6"
  }
 },
 "nbformat": 4,
 "nbformat_minor": 5
}
