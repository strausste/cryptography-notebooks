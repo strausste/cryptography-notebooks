{
 "cells": [
  {
   "cell_type": "markdown",
   "id": "74799c09-5bc4-475c-a63a-e0cead0c20ae",
   "metadata": {},
   "source": [
    "# Modes of operation:\n",
    "\n",
    "Modalità di funzionamento dei cifrari a blocchi per estendere uno schema di encryption <b>fixed length</b> a messaggi di lunghezza arbitraria"
   ]
  },
  {
   "cell_type": "markdown",
   "id": "76cdea95-a08c-44dc-8752-4772330dd544",
   "metadata": {},
   "source": [
    "## ECB-mode:\n",
    "\n",
    "<div>\n",
    "<img src=\"images/ecb_mode.png\" width=\"800\"/>\n",
    "</div>\n",
    "\n",
    "$X = x_1 \\ ... \\ x_t \\quad$ plaintext, con $\\ |x_i|=n \\quad \\forall i \\in 1..t$\\\n",
    "$Y = y_1 \\ ... \\ y_t \\quad$ ciphertext: $\\ Y=E_k(X)$\n",
    "\n",
    "È assolutamente <b>insicuro</b> e praticamente inutilizzabile per fini pratici.\\\n",
    "Non introduce mai della <b>randomness</b>: la funzione pseudo-random è un algoritmo <b>deterministico</b> (si chiama proprio funzione).\n",
    "\n",
    "##### Caratteristiche: \n",
    "\n",
    "- Richiede che $F_k$ sia invertibile per eseguire la decryption: $\\quad x_1 = F_k^{-1}(y_1) \\ \\ ... \\ \\ x_t = F_k^{-1}(y_t)$ \n",
    "- L'encryption è totalmente <b>parallelizzabile</b>\n",
    "- La decryption è <b>random access</b>: posso decifrare i blocchi in qualunque ordine e poi rimetterli insieme\n",
    "\n",
    "Non è</b> neanche EAV-sicuro:\n",
    "\n",
    "$M \\rightarrow A: \\quad X_0=x_0x_0 \\quad X_1=x_0x_1 \\quad (x_0 \\neq x_1)$\\\n",
    "$A \\rightarrow M: \\quad y = E_k(X_b) = E_k(X[1]) \\ E_k(X[2]) \\quad b \\leftarrow \\{0,1\\} \\quad $ <i>l'encryption è la concatenazione delle due encryption (funzione deterministica) con la stessa chiave</i>\\\n",
    "$M: \\quad b_m \\ = \\ (Y[1] == Y[2]) \\ \\ ? \\ \\ 0 \\ \\ : \\ \\ 1 \\quad$ <i>$M$ dice 0 se i due blocchi sono uguali (visto che due cose uguali verranno cifrate allo stesso modo)</i>"
   ]
  },
  {
   "cell_type": "code",
   "execution_count": null,
   "id": "b532ce93-4cc4-48c8-8cba-082b14b240da",
   "metadata": {},
   "outputs": [],
   "source": []
  }
 ],
 "metadata": {
  "kernelspec": {
   "display_name": "Python 3 (ipykernel)",
   "language": "python",
   "name": "python3"
  },
  "language_info": {
   "codemirror_mode": {
    "name": "ipython",
    "version": 3
   },
   "file_extension": ".py",
   "mimetype": "text/x-python",
   "name": "python",
   "nbconvert_exporter": "python",
   "pygments_lexer": "ipython3",
   "version": "3.10.6"
  }
 },
 "nbformat": 4,
 "nbformat_minor": 5
}
