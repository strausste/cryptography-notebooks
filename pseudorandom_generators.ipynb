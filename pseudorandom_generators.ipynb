{
 "cells": [
  {
   "cell_type": "markdown",
   "id": "d472cf80-5177-4658-b950-2ffdb3165478",
   "metadata": {},
   "source": [
    "# Pseudorandom generators:\n",
    "\n",
    "L'idea è quella di ottenere uno schema di encryption <b>EAV-sicuro</b>, basato su OTP, ma con chiavi più corte del plaintext.\n",
    "\n",
    "Per avere una chiave corta, è necessario espanderla:\\\n",
    "$k \\leftarrow \\{0,1\\}^m \\quad \\ m<<n \\quad \\ G(k) = r \\in \\{0, 1\\}^n$\n",
    "\n",
    "$E_k(x) = r ⊕ k = G(K) ⊕ x$\n",
    "\n",
    "$G$ è una funzione <b>deterministica</b> che espande $k$: $\\quad k$ è il <b>seed</b> di un generatore pseudorandom\n",
    "\n",
    "Vorrei che $r$ fosse indistinguibile da una sequenza di $n$ bit random (per un attaccante polinomiale)\n",
    "\n",
    "### Complessità di Kolmogorov:\n",
    "\n",
    "Una sequenza di bit è <b>random</b> se non esiste un programma che la genera che sia sostanzialmente più corto della sequenza stessa:\\\n",
    "in altre parole, se ho una sequenza e un programma che al genera, se il programam è più corto della sequenza, la sequenza non è random.\n",
    "\n",
    "Kolmagorov considera anche i programmi <b>inefficienti</b>, noi restringiamo il campo soltanto a quelli <b>efficienti</b>.\n",
    "\n",
    "### Approccio crittografico:\n",
    "\n",
    "Non consideriamo sequenza di bit random, ma una <b>distribuzione</b> random di sequenze.\\\n",
    "Non consideriamo, inoltre, i programmi che generano le sequenze: definiamo come random una distribuzione quando supera tutti i possibili test statistici.\n",
    "\n",
    "## Distinguishers:\n",
    "\n",
    "Un <b>distinguisher</b> è un <b>algoritmo $PPTIME$</b> che simula i test statistici: prende in input una sequenza di bit e restituisce in output 0 se la sequenza <b>non</b> sembra random oppure 1 se la sequenza in input sembra random.\n",
    "\n",
    "Un generatore pseudorandom $G$ è buono se il miglior distinguisher può soltanto <b>tirare a indovinare</b>.\n",
    "\n",
    "## Generatore pseudorandom:\n",
    "\n",
    "$G$ algoritmo <b>deterministico</b> $PTIME$ da $\\{0,1\\}^n$ a $\\{0,1\\}^{l(n)}$\n",
    "\n",
    "$G$ è un <b> generatore pseudorandom</b> (PRG) se: \n",
    "\n",
    "1. $\\forall n \\ \\ l(n) > n \\quad$ <i>espansività</i>\n",
    "2. $Pr(PRG_{M,G}(n) = 1) \\leq 1/2 + negl(n) \\quad \\forall M \\in PPTIME$\n",
    "\n",
    "## Esperimento $PRG_{M,G}(n)$\n",
    "\n",
    "$1. \\quad A: \\ \\ b \\leftarrow \\{0,1\\}$\n",
    "- $if \\ \\ b==0: \\quad r \\leftarrow \\{0,1\\}^{l(n)} \\quad$ <i>completamente random</i> \n",
    "- $if \\ \\ b==1: \\quad s \\leftarrow \\{0,1\\}^{n} \\quad r:=G(s) \\quad$ <i>soltanto il <b>seed</b> è random, $r$ è <b>deterministico</b></i>\n",
    "\n",
    "$2. \\quad A \\rightarrow M: \\ \\ r$\\\n",
    "$3. \\quad M: \\ \\ b_m \\quad$ <i>$M$ deve indovinare $b_m$\n",
    "\n",
    "$PRG_{M,G}(n) = 1 \\ \\ se \\ \\ b_m=b$ \n",
    "\n",
    "$M$ deve distinguere <b>randomness</b> ($b=0$) da <b>pseudorandomness</b> ($b=1$)\n",
    "\n",
    "<b>Attenzione</b>: bisogna controllare che M (ovvero l'attaccante o, in questo caso il <b>distinguisher</b>, sia <b>polinomiale</b> (efficiente) e anche la condizione di <b>espansività</b>\n",
    "\n",
    "#### Esercizio #1:\n",
    "\n",
    "$G(s)=sb' \\quad b' = ⊕_{i=1...n}^{n} s[i]$\n",
    "\n",
    "$M: \\quad 0 \\ \\ if \\ ⊕_{i=1...n}^{n} r[i] \\neq r[n+1] \\ \\ else: \\ \\ 1 $\n",
    "\n",
    "$G$ <b>non</b> è pseudorandom\n",
    "\n",
    "Praticamente, $M$ sta facendo gli stessi passi di $G$ visto che può vedere il <b>seed</b> (restituito in chiaro) con lo XOR di tutti i bit del seed messo come ultimo.\n",
    "\n",
    "#### Esercizio #2:\n",
    "\n",
    "$G(s)=ss$\n",
    "\n",
    "$l(n)>n \\quad$ <i>soddisfa <b>espansività</b></i> \n",
    "\n",
    "strategia del distinguisher: $\\quad 1 \\ \\ if \\ w[1..n] == w[n+1..2n] \\ \\ 0 \\ \\ otherwise$\n",
    "\n",
    "$Pr(PRG_{D,G}(n)=1) = \\frac{1}{2} (Pr(b_D=0 | b=0)Pr(b_D=1 | b=1))$\n",
    "\n",
    "$Pr(b_D=0|b=0) = 1 - \\frac{1}{2^n-2} \\quad$ <i>i casi sfortunati dove $r=0^n$ o $r=1^n$</i> \\\n",
    "$Pr(b_D=1|b=1) = 1$ \n",
    "\n",
    "$Pr(PRG_{D,G}(n)=1) = \\frac{1}{2}(1 - \\frac{1}{2^n-2} + 1) > \\frac{1}{2} + negl(n)$"
   ]
  },
  {
   "cell_type": "code",
   "execution_count": 25,
   "id": "45d5e744-5415-451d-8f70-640aaca9e0cd",
   "metadata": {},
   "outputs": [],
   "source": [
    "import random\n",
    "\n",
    "def g(n): \n",
    "    b = random.randint(0,1)\n",
    "    r = ''\n",
    "    s = ''\n",
    "    \n",
    "    if(b==0):\n",
    "        for i in range(2*n):\n",
    "            r += str(random.randint(0,1))\n",
    "    else:\n",
    "        for i in range(n):\n",
    "            s += str(random.randint(0,1))\n",
    "        r = s + s\n",
    "\n",
    "    print(\"b is equal to: \", b)\n",
    "    print(\"R is equal to: \", r)\n",
    "    print(\"s is equal to: \", s)\n",
    "\n",
    "    return r\n",
    "\n",
    "def distinguisher(r):\n",
    "    return r[:len(r)//2] != r[-len(r)//2:] # if the two halves are equal, say 0 else 1: this is why != instead of =="
   ]
  },
  {
   "cell_type": "code",
   "execution_count": 26,
   "id": "3288f605-dbe9-47aa-bb27-92e7007b286f",
   "metadata": {},
   "outputs": [
    {
     "name": "stdout",
     "output_type": "stream",
     "text": [
      "b is equal to:  0\n",
      "R is equal to:  01111101010011011100\n",
      "s is equal to:  \n"
     ]
    },
    {
     "data": {
      "text/plain": [
       "True"
      ]
     },
     "execution_count": 26,
     "metadata": {},
     "output_type": "execute_result"
    }
   ],
   "source": [
    "n=10\n",
    "distinguisher(g(n))\n",
    "\n",
    "# note: if b==0 and output is True: M wins (because it means G is true that it is a PRG)\n",
    "# note: if b==1 and output is False: M wins (because it means G is false that it is a PRG)"
   ]
  }
 ],
 "metadata": {
  "kernelspec": {
   "display_name": "Python 3 (ipykernel)",
   "language": "python",
   "name": "python3"
  },
  "language_info": {
   "codemirror_mode": {
    "name": "ipython",
    "version": 3
   },
   "file_extension": ".py",
   "mimetype": "text/x-python",
   "name": "python",
   "nbconvert_exporter": "python",
   "pygments_lexer": "ipython3",
   "version": "3.10.6"
  }
 },
 "nbformat": 4,
 "nbformat_minor": 5
}
