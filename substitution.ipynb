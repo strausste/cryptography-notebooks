{
 "cells": [
  {
   "cell_type": "markdown",
   "id": "43457966-f7dd-4821-8343-9e61ce0bc7f5",
   "metadata": {},
   "source": [
    "# Substitution cipher in ECB-mode"
   ]
  },
  {
   "cell_type": "markdown",
   "id": "21c0e3f4-4ab6-47dc-9b6f-3a0f4e383b05",
   "metadata": {},
   "source": [
    "P = C = Z<sub>26</sub> \n",
    "\n",
    "K = insieme di tutte le funzioni biiettive: Z<sub>26</sub> $\\rightarrow$ Z<sub>26</sub>\\\n",
    "σ $\\in$ K : <i> le chiavi sono funzioni di permutazione </i> \\\n",
    "E<sub>σ</sub>(x) = σ(x) <i> applico la funzione di permutazione </i>\\\n",
    "D<sub>σ</sub>(y) = σ<sup>-1</sup>(y) <i> applico la funzione di permutazione inversa </i>\n",
    "\n",
    "##### Esempio:\n",
    "σ(x): \\\n",
    "A $\\rightarrow$ M \\\n",
    "B $\\rightarrow$ X \\\n",
    "C $\\rightarrow$ B \\\n",
    "D $\\rightarrow$ Q \\\n",
    "E $\\rightarrow$ P \\\n",
    "F $\\rightarrow$ U \\\n",
    "...\\\n",
    "Z $\\rightarrow$ T \n",
    "\n",
    "σ è iniettiva: nel codominio (ciphertext) ci sono immagini distinte <i> non potrò mai avere che lettera del cipher corrisponde a più di una lettera del plaintext</i>\\\n",
    "σ è suriettiva: ogni elemento del codominio (ciphertext) è immagine di almeno un elemento del dominio (plaintext) \\\n",
    "σ è biiettiva: σ è sia suriettiva che iniettiva\n",
    "\n",
    "##### È perfetto? \n",
    "Se usassi il substitution cipher per cifrare un plaintext di un singolo carattere e \"buttassi\" la chiave, sì, <b>sarebbe</b> perfetto. \\\n",
    "Ricorda molto lo shift cipher utilizzato su un singolo carattere con chiave casuale. \\\n",
    "Infatti lo shift cipher è un caso particolare del substitution cipher con chiave σ che ha una struttura \"incrementale\".\n",
    "\n",
    "##### Utilizzato in ECB-mode:\n",
    "Questo cifrario utilizzato in ECB-mode, quindi per cifrare un carattere (o blocco di caratteri) con la <b> stessa chiave </b> degli altri caratteri (o blocco di caratteri), <b>non è assolutamente sicuro nè tanto meno perfetto</b>. Infatti questo cifrario viene utilizzato nei giochi della settimana enigmistica.\n",
    "\n",
    "Dimostriamo che non è perfetto: \\\n",
    "x = AA \\\n",
    "y = AB \\\n",
    "E<sub>σ</sub>(AA) = σ(A)σ(A) $\\neq$ AB \n",
    "\n",
    "È un problema che affligge tutti i cifrari <b>monoalfabetici</b>: <i>stesso carattere</i> di plaintext viene crifratto nello <i>stesso carattere</i> di ciphertext: infatti, <b>i cifrari monoalfabetici non sono perfetti</b>. \\\n",
    "Il cifrario di Vigenere è <i>polialfabetico</i>: lo stesso carattere può essere cifrato in modi diversi <i>infatti storicamente si è dimostrato davvero valido prima dell'arrivo dei calcolatori</i>. "
   ]
  },
  {
   "cell_type": "code",
   "execution_count": null,
   "id": "603e3362-7f80-4f2d-beba-6d421cdaecd0",
   "metadata": {},
   "outputs": [],
   "source": []
  }
 ],
 "metadata": {
  "kernelspec": {
   "display_name": "Python 3 (ipykernel)",
   "language": "python",
   "name": "python3"
  },
  "language_info": {
   "codemirror_mode": {
    "name": "ipython",
    "version": 3
   },
   "file_extension": ".py",
   "mimetype": "text/x-python",
   "name": "python",
   "nbconvert_exporter": "python",
   "pygments_lexer": "ipython3",
   "version": "3.10.6"
  }
 },
 "nbformat": 4,
 "nbformat_minor": 5
}
