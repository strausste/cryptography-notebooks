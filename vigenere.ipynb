{
 "cells": [
  {
   "cell_type": "markdown",
   "id": "6a1805bb-aa45-4167-b1cd-94df791909e3",
   "metadata": {
    "tags": []
   },
   "source": [
    "# Cifrario di Vigenere:"
   ]
  },
  {
   "cell_type": "markdown",
   "id": "374abc90-a993-473a-9cb6-ddd4d9183732",
   "metadata": {
    "tags": []
   },
   "source": [
    "$P = C = K = Z_{26}^m$\n",
    "\n",
    "$E_{k_1 ... k_m}(x_1 ... x_m) = (x_1 + k_1 ... x_n + k_m)$\\\n",
    "$D_{k_1 ... k_m}(y_1 ... y_m) = (y_1 - k_1 ... y_n - k_m)$\n",
    "\n",
    "Il plaintext $x$ viene spezzato in blocchi di lunghezza $m$ e viene applicata la stessa chiave in ogni blocco."
   ]
  },
  {
   "cell_type": "markdown",
   "id": "32da62a4-f9d1-40ed-8317-f6ca4ca35d57",
   "metadata": {},
   "source": [
    "Se <b>m=1</b>, è lo <b>shift cipher in ECB-mode</b> <i>non sicuro quindi per plaintext più lunghi di un carattere, perchè sto riutilizzando la stessa chiave per caratteri diversi</i>"
   ]
  },
  {
   "cell_type": "markdown",
   "id": "3aa56df9-d4ae-469e-b41f-a683e130bd75",
   "metadata": {
    "tags": []
   },
   "source": [
    "## Sicurezza:"
   ]
  },
  {
   "cell_type": "markdown",
   "id": "c13ce39f-41c0-4991-b033-4d766c3f1663",
   "metadata": {
    "tags": []
   },
   "source": [
    "È un cifrario <b>polialfabetico</b>: lo stesso carattere del plaintext può corrispondere a caratteri diversi nel ciphertext. Questo cifrario aveva senso prima dei calcolatori (con <i>m</i> molto grande come le parole di un libro). Si può rompere rompendo <i>m</i> shift cipher alla volta e controllando la distribuzione dei caratteri"
   ]
  }
 ],
 "metadata": {
  "kernelspec": {
   "display_name": "Python 3 (ipykernel)",
   "language": "python",
   "name": "python3"
  },
  "language_info": {
   "codemirror_mode": {
    "name": "ipython",
    "version": 3
   },
   "file_extension": ".py",
   "mimetype": "text/x-python",
   "name": "python",
   "nbconvert_exporter": "python",
   "pygments_lexer": "ipython3",
   "version": "3.10.6"
  }
 },
 "nbformat": 4,
 "nbformat_minor": 5
}
